{
 "cells": [
  {
   "cell_type": "code",
   "execution_count": null,
   "metadata": {
    "collapsed": false,
    "deletable": true,
    "editable": true
   },
   "outputs": [],
   "source": [
    "from IPython.core.display import display, HTML\n",
    "display(HTML(\"<style>.container { width:100% !important; }</style>\"))"
   ]
  },
  {
   "cell_type": "code",
   "execution_count": 1,
   "metadata": {
    "collapsed": false,
    "deletable": true,
    "editable": true
   },
   "outputs": [],
   "source": [
    "%run core_new.py"
   ]
  },
  {
   "cell_type": "markdown",
   "metadata": {},
   "source": [
    "### DSP ###"
   ]
  },
  {
   "cell_type": "code",
   "execution_count": 2,
   "metadata": {
    "collapsed": false
   },
   "outputs": [
    {
     "name": "stdout",
     "output_type": "stream",
     "text": [
      "No files removed: no files as of the day requested\n"
     ]
    },
    {
     "name": "stderr",
     "output_type": "stream",
     "text": [
      "C:\\Users\\ssu\\Documents\\github\\alerting\\process_data.py:24: SettingWithCopyWarning: \n",
      "A value is trying to be set on a copy of a slice from a DataFrame.\n",
      "Try using .loc[row_indexer,col_indexer] = value instead\n",
      "\n",
      "See the caveats in the documentation: http://pandas.pydata.org/pandas-docs/stable/indexing.html#indexing-view-versus-copy\n",
      "  result['is_daily'] = result.apply(lambda row: 1 if row['revenue_change_agst_pd_pct'] <= -pctCutoff else 0, axis = 1)\n"
     ]
    }
   ],
   "source": [
    "dsp = pp_data(dsp_queries['dsp'])\n",
    "df = dsp.get_data(\"dsp\")\n",
    "processed_df = process_data(df)\n",
    "#jumpers = processed_df.get_jumper(\"advertiser\", 0.1, 5000, 1000)\n",
    "droppers = processed_df.get_dropper(\"advertiser\", 0.15, 5000, 1000)"
   ]
  },
  {
   "cell_type": "code",
   "execution_count": 3,
   "metadata": {
    "collapsed": false
   },
   "outputs": [
    {
     "data": {
      "text/html": [
       "<div>\n",
       "<table border=\"1\" class=\"dataframe\">\n",
       "  <thead>\n",
       "    <tr style=\"text-align: right;\">\n",
       "      <th></th>\n",
       "      <th>am</th>\n",
       "      <th>email</th>\n",
       "      <th>day</th>\n",
       "      <th>accountid</th>\n",
       "      <th>offer_mm</th>\n",
       "      <th>offermatchrate_pct</th>\n",
       "      <th>bidrate_pct</th>\n",
       "      <th>timeoutrate_pct</th>\n",
       "      <th>blockrate_pct</th>\n",
       "      <th>winrate_pct</th>\n",
       "      <th>...</th>\n",
       "      <th>costcpm_change_agst_pd_pct</th>\n",
       "      <th>costcpm_change_agst_4davg_pct</th>\n",
       "      <th>costcpm_change_agst_7davg_pct</th>\n",
       "      <th>margin_change_agst_pd_pct</th>\n",
       "      <th>margin_change_agst_4davg_pct</th>\n",
       "      <th>margin_change_agst_7davg_pct</th>\n",
       "      <th>timeoutrate_change_agst_pd_pct</th>\n",
       "      <th>timeoutrate_change_agst_4davg_pct</th>\n",
       "      <th>timeoutrate_change_agst_7davg_pct</th>\n",
       "      <th>is_daily</th>\n",
       "    </tr>\n",
       "    <tr>\n",
       "      <th>advertiser</th>\n",
       "      <th></th>\n",
       "      <th></th>\n",
       "      <th></th>\n",
       "      <th></th>\n",
       "      <th></th>\n",
       "      <th></th>\n",
       "      <th></th>\n",
       "      <th></th>\n",
       "      <th></th>\n",
       "      <th></th>\n",
       "      <th></th>\n",
       "      <th></th>\n",
       "      <th></th>\n",
       "      <th></th>\n",
       "      <th></th>\n",
       "      <th></th>\n",
       "      <th></th>\n",
       "      <th></th>\n",
       "      <th></th>\n",
       "      <th></th>\n",
       "      <th></th>\n",
       "    </tr>\n",
       "  </thead>\n",
       "  <tbody>\n",
       "    <tr>\n",
       "      <th>RTB-IPonWeb</th>\n",
       "      <td>Veena</td>\n",
       "      <td>VXavier@pulsepoint.com</td>\n",
       "      <td>2017-07-11</td>\n",
       "      <td>556010</td>\n",
       "      <td>7121555977</td>\n",
       "      <td>62</td>\n",
       "      <td>10.9</td>\n",
       "      <td>5.1</td>\n",
       "      <td>4.9</td>\n",
       "      <td>2.2</td>\n",
       "      <td>...</td>\n",
       "      <td>-32.6</td>\n",
       "      <td>-30.0</td>\n",
       "      <td>-34.0</td>\n",
       "      <td>7.0</td>\n",
       "      <td>3.7</td>\n",
       "      <td>-8.7</td>\n",
       "      <td>-12.1</td>\n",
       "      <td>30.8</td>\n",
       "      <td>41.7</td>\n",
       "      <td>1</td>\n",
       "    </tr>\n",
       "    <tr>\n",
       "      <th>RTB-Convert-Media</th>\n",
       "      <td>Kurt</td>\n",
       "      <td>KChristensen@pulsepoint.com</td>\n",
       "      <td>2017-07-11</td>\n",
       "      <td>553204</td>\n",
       "      <td>5186463094</td>\n",
       "      <td>21</td>\n",
       "      <td>39.0</td>\n",
       "      <td>0.8</td>\n",
       "      <td>10.2</td>\n",
       "      <td>0.6</td>\n",
       "      <td>...</td>\n",
       "      <td>-14.7</td>\n",
       "      <td>-3.3</td>\n",
       "      <td>0.0</td>\n",
       "      <td>-11.0</td>\n",
       "      <td>-10.1</td>\n",
       "      <td>-10.1</td>\n",
       "      <td>-20.0</td>\n",
       "      <td>14.3</td>\n",
       "      <td>14.3</td>\n",
       "      <td>1</td>\n",
       "    </tr>\n",
       "  </tbody>\n",
       "</table>\n",
       "<p>2 rows × 86 columns</p>\n",
       "</div>"
      ],
      "text/plain": [
       "                      am                        email         day  accountid  \\\n",
       "advertiser                                                                     \n",
       "RTB-IPonWeb        Veena       VXavier@pulsepoint.com  2017-07-11     556010   \n",
       "RTB-Convert-Media   Kurt  KChristensen@pulsepoint.com  2017-07-11     553204   \n",
       "\n",
       "                     offer_mm  offermatchrate_pct  bidrate_pct  \\\n",
       "advertiser                                                       \n",
       "RTB-IPonWeb        7121555977                  62         10.9   \n",
       "RTB-Convert-Media  5186463094                  21         39.0   \n",
       "\n",
       "                   timeoutrate_pct  blockrate_pct  winrate_pct    ...     \\\n",
       "advertiser                                                        ...      \n",
       "RTB-IPonWeb                    5.1            4.9          2.2    ...      \n",
       "RTB-Convert-Media              0.8           10.2          0.6    ...      \n",
       "\n",
       "                   costcpm_change_agst_pd_pct  costcpm_change_agst_4davg_pct  \\\n",
       "advertiser                                                                     \n",
       "RTB-IPonWeb                             -32.6                          -30.0   \n",
       "RTB-Convert-Media                       -14.7                           -3.3   \n",
       "\n",
       "                   costcpm_change_agst_7davg_pct  margin_change_agst_pd_pct  \\\n",
       "advertiser                                                                    \n",
       "RTB-IPonWeb                                -34.0                        7.0   \n",
       "RTB-Convert-Media                            0.0                      -11.0   \n",
       "\n",
       "                   margin_change_agst_4davg_pct  margin_change_agst_7davg_pct  \\\n",
       "advertiser                                                                      \n",
       "RTB-IPonWeb                                 3.7                          -8.7   \n",
       "RTB-Convert-Media                         -10.1                         -10.1   \n",
       "\n",
       "                   timeoutrate_change_agst_pd_pct  \\\n",
       "advertiser                                          \n",
       "RTB-IPonWeb                                 -12.1   \n",
       "RTB-Convert-Media                           -20.0   \n",
       "\n",
       "                   timeoutrate_change_agst_4davg_pct  \\\n",
       "advertiser                                             \n",
       "RTB-IPonWeb                                     30.8   \n",
       "RTB-Convert-Media                               14.3   \n",
       "\n",
       "                   timeoutrate_change_agst_7davg_pct  is_daily  \n",
       "advertiser                                                      \n",
       "RTB-IPonWeb                                     41.7         1  \n",
       "RTB-Convert-Media                               14.3         1  \n",
       "\n",
       "[2 rows x 86 columns]"
      ]
     },
     "execution_count": 3,
     "metadata": {},
     "output_type": "execute_result"
    }
   ],
   "source": [
    "#jumpers.head()\n",
    "droppers.head(2)"
   ]
  },
  {
   "cell_type": "code",
   "execution_count": 4,
   "metadata": {
    "collapsed": false
   },
   "outputs": [],
   "source": [
    "#ids, accountnames, table_headers, table_value = processed_df.multiple_tables(jumpers)\n",
    "ids, deep_dive_ids, accountnames, table_headers, table_value = processed_df.multiple_tables(droppers)"
   ]
  },
  {
   "cell_type": "code",
   "execution_count": 5,
   "metadata": {
    "collapsed": false
   },
   "outputs": [
    {
     "name": "stdout",
     "output_type": "stream",
     "text": [
      "RTB-IPonWeb\n",
      "RTB-Convert-Media\n",
      "RTB-Nuviad\n",
      "RTB-Netmining\n",
      "RTB-DataXu\n",
      "RTB-metanetworks\n",
      "RTB-GetIntent\n"
     ]
    }
   ],
   "source": [
    "array = pd.Series(accountnames)\n",
    "for i in array.index:\n",
    "    print(array[i])"
   ]
  },
  {
   "cell_type": "code",
   "execution_count": 6,
   "metadata": {
    "collapsed": false
   },
   "outputs": [
    {
     "data": {
      "text/plain": [
       "'556010, 553204, 560271, 534889, 535039, 551446, 551587'"
      ]
     },
     "execution_count": 6,
     "metadata": {},
     "output_type": "execute_result"
    }
   ],
   "source": [
    "ids"
   ]
  },
  {
   "cell_type": "code",
   "execution_count": 7,
   "metadata": {
    "collapsed": false
   },
   "outputs": [
    {
     "data": {
      "text/plain": [
       "'556010, 553204, 560271, 534889, 535039, 551446, 551587'"
      ]
     },
     "execution_count": 7,
     "metadata": {},
     "output_type": "execute_result"
    }
   ],
   "source": [
    "deep_dive_ids"
   ]
  },
  {
   "cell_type": "markdown",
   "metadata": {},
   "source": [
    "### Pub ###"
   ]
  },
  {
   "cell_type": "code",
   "execution_count": 8,
   "metadata": {
    "collapsed": false
   },
   "outputs": [
    {
     "name": "stdout",
     "output_type": "stream",
     "text": [
      "No files removed: no files as of the day requested\n"
     ]
    }
   ],
   "source": [
    "pub = pp_data(dsp_queries['pub'])\n",
    "#df1 = pub.get_data(\"pubs_jumper\", deep_dive_ids)\n",
    "df1 = pub.get_data(\"pubs_dropper\", deep_dive_ids)"
   ]
  },
  {
   "cell_type": "code",
   "execution_count": 9,
   "metadata": {
    "collapsed": false
   },
   "outputs": [
    {
     "data": {
      "text/html": [
       "<div>\n",
       "<table border=\"1\" class=\"dataframe\">\n",
       "  <thead>\n",
       "    <tr style=\"text-align: right;\">\n",
       "      <th></th>\n",
       "      <th>accountid</th>\n",
       "      <th>dsp</th>\n",
       "      <th>publisherid</th>\n",
       "      <th>publisher</th>\n",
       "      <th>ppdrevenue_cur</th>\n",
       "      <th>pdrevenue_cur</th>\n",
       "      <th>difference_cur</th>\n",
       "      <th>delta_pct</th>\n",
       "    </tr>\n",
       "  </thead>\n",
       "  <tbody>\n",
       "    <tr>\n",
       "      <th>0</th>\n",
       "      <td>553204</td>\n",
       "      <td>RTB-Convert-Media</td>\n",
       "      <td>560596</td>\n",
       "      <td>PokemonGo</td>\n",
       "      <td>0.0</td>\n",
       "      <td>0.0</td>\n",
       "      <td>0.0</td>\n",
       "      <td>80.555556</td>\n",
       "    </tr>\n",
       "    <tr>\n",
       "      <th>1</th>\n",
       "      <td>556010</td>\n",
       "      <td>RTB-IPonWeb</td>\n",
       "      <td>560348</td>\n",
       "      <td>Sortable_ActiveInterestEquine</td>\n",
       "      <td>0.0</td>\n",
       "      <td>0.0</td>\n",
       "      <td>0.0</td>\n",
       "      <td>-67.455830</td>\n",
       "    </tr>\n",
       "  </tbody>\n",
       "</table>\n",
       "</div>"
      ],
      "text/plain": [
       "   accountid                dsp  publisherid                      publisher  \\\n",
       "0     553204  RTB-Convert-Media       560596                      PokemonGo   \n",
       "1     556010        RTB-IPonWeb       560348  Sortable_ActiveInterestEquine   \n",
       "\n",
       "   ppdrevenue_cur  pdrevenue_cur  difference_cur  delta_pct  \n",
       "0             0.0            0.0             0.0  80.555556  \n",
       "1             0.0            0.0             0.0 -67.455830  "
      ]
     },
     "execution_count": 9,
     "metadata": {},
     "output_type": "execute_result"
    }
   ],
   "source": [
    "df1.head(2)"
   ]
  },
  {
   "cell_type": "code",
   "execution_count": null,
   "metadata": {
    "collapsed": false
   },
   "outputs": [],
   "source": [
    "df1[:5]"
   ]
  },
  {
   "cell_type": "code",
   "execution_count": 14,
   "metadata": {
    "collapsed": false
   },
   "outputs": [
    {
     "data": {
      "text/plain": [
       "<process_data.process_data at 0x94a57b8>"
      ]
     },
     "execution_count": 14,
     "metadata": {},
     "output_type": "execute_result"
    }
   ],
   "source": [
    "pub_processed = process_data(df1)"
   ]
  },
  {
   "cell_type": "code",
   "execution_count": 13,
   "metadata": {
    "collapsed": false
   },
   "outputs": [
    {
     "name": "stderr",
     "output_type": "stream",
     "text": [
      "C:\\Users\\ssu\\Documents\\github\\alerting\\process_data.py:107: SettingWithCopyWarning: \n",
      "A value is trying to be set on a copy of a slice from a DataFrame.\n",
      "Try using .loc[row_indexer,col_indexer] = value instead\n",
      "\n",
      "See the caveats in the documentation: http://pandas.pydata.org/pandas-docs/stable/indexing.html#indexing-view-versus-copy\n",
      "  df['flag'] = df['difference_cur'].apply(lambda x: 'increase' if x >=0 else 'drop')\n",
      "C:\\Users\\ssu\\Documents\\github\\alerting\\process_data.py:120: SettingWithCopyWarning: \n",
      "A value is trying to be set on a copy of a slice from a DataFrame.\n",
      "Try using .loc[row_indexer,col_indexer] = value instead\n",
      "\n",
      "See the caveats in the documentation: http://pandas.pydata.org/pandas-docs/stable/indexing.html#indexing-view-versus-copy\n",
      "  res['num_of_others'] = len(res) - 5\n",
      "C:\\Users\\ssu\\Documents\\github\\alerting\\process_data.py:125: SettingWithCopyWarning: \n",
      "A value is trying to be set on a copy of a slice from a DataFrame.\n",
      "Try using .loc[row_indexer,col_indexer] = value instead\n",
      "\n",
      "See the caveats in the documentation: http://pandas.pydata.org/pandas-docs/stable/indexing.html#indexing-view-versus-copy\n",
      "  res['cutoff'] = int(pct * 100)\n"
     ]
    },
    {
     "data": {
      "text/html": [
       "<div>\n",
       "<table border=\"1\" class=\"dataframe\">\n",
       "  <thead>\n",
       "    <tr style=\"text-align: right;\">\n",
       "      <th></th>\n",
       "      <th>accountid</th>\n",
       "      <th>cum_pct</th>\n",
       "      <th>cutoff</th>\n",
       "      <th>delta_pct</th>\n",
       "      <th>difference_cur</th>\n",
       "      <th>dsp</th>\n",
       "      <th>flag</th>\n",
       "      <th>num_of_others</th>\n",
       "      <th>pdrevenue_cur</th>\n",
       "      <th>ppdrevenue_cur</th>\n",
       "      <th>publisher</th>\n",
       "      <th>publisherid</th>\n",
       "    </tr>\n",
       "  </thead>\n",
       "  <tbody>\n",
       "    <tr>\n",
       "      <th>0</th>\n",
       "      <td>553204</td>\n",
       "      <td>26.4%</td>\n",
       "      <td>70</td>\n",
       "      <td>-36.5%</td>\n",
       "      <td>-&amp;#36;558</td>\n",
       "      <td>RTB-Convert-Media</td>\n",
       "      <td>drop</td>\n",
       "      <td>NaN</td>\n",
       "      <td>&amp;#36;970</td>\n",
       "      <td>&amp;#36;1,529</td>\n",
       "      <td>RTS-MediaNet</td>\n",
       "      <td>560210</td>\n",
       "    </tr>\n",
       "    <tr>\n",
       "      <th>1</th>\n",
       "      <td>553204</td>\n",
       "      <td>36.0%</td>\n",
       "      <td>70</td>\n",
       "      <td>-39.8%</td>\n",
       "      <td>-&amp;#36;202</td>\n",
       "      <td>RTB-Convert-Media</td>\n",
       "      <td>drop</td>\n",
       "      <td>NaN</td>\n",
       "      <td>&amp;#36;306</td>\n",
       "      <td>&amp;#36;508</td>\n",
       "      <td>RTS-Sonobi</td>\n",
       "      <td>560606</td>\n",
       "    </tr>\n",
       "    <tr>\n",
       "      <th>2</th>\n",
       "      <td>553204</td>\n",
       "      <td>43.8%</td>\n",
       "      <td>70</td>\n",
       "      <td>-49.5%</td>\n",
       "      <td>-&amp;#36;165</td>\n",
       "      <td>RTB-Convert-Media</td>\n",
       "      <td>drop</td>\n",
       "      <td>NaN</td>\n",
       "      <td>&amp;#36;168</td>\n",
       "      <td>&amp;#36;333</td>\n",
       "      <td>Underdog Media</td>\n",
       "      <td>508738</td>\n",
       "    </tr>\n",
       "    <tr>\n",
       "      <th>3</th>\n",
       "      <td>553204</td>\n",
       "      <td>47.4%</td>\n",
       "      <td>70</td>\n",
       "      <td>-56.4%</td>\n",
       "      <td>-&amp;#36;75</td>\n",
       "      <td>RTB-Convert-Media</td>\n",
       "      <td>drop</td>\n",
       "      <td>NaN</td>\n",
       "      <td>&amp;#36;58</td>\n",
       "      <td>&amp;#36;133</td>\n",
       "      <td>Freestar</td>\n",
       "      <td>560313</td>\n",
       "    </tr>\n",
       "    <tr>\n",
       "      <th>4</th>\n",
       "      <td>553204</td>\n",
       "      <td>50.4%</td>\n",
       "      <td>70</td>\n",
       "      <td>-80.2%</td>\n",
       "      <td>-&amp;#36;63</td>\n",
       "      <td>RTB-Convert-Media</td>\n",
       "      <td>drop</td>\n",
       "      <td>NaN</td>\n",
       "      <td>&amp;#36;16</td>\n",
       "      <td>&amp;#36;79</td>\n",
       "      <td>Sortable_Sensitive</td>\n",
       "      <td>560251</td>\n",
       "    </tr>\n",
       "    <tr>\n",
       "      <th>5</th>\n",
       "      <td>556010</td>\n",
       "      <td>76.3%</td>\n",
       "      <td>70</td>\n",
       "      <td>-97.3%</td>\n",
       "      <td>-&amp;#36;12,825</td>\n",
       "      <td>RTB-IPonWeb</td>\n",
       "      <td>drop</td>\n",
       "      <td>NaN</td>\n",
       "      <td>&amp;#36;358</td>\n",
       "      <td>&amp;#36;13,183</td>\n",
       "      <td>RockYou AP</td>\n",
       "      <td>560143</td>\n",
       "    </tr>\n",
       "    <tr>\n",
       "      <th>6</th>\n",
       "      <td>551446</td>\n",
       "      <td>17.3%</td>\n",
       "      <td>70</td>\n",
       "      <td>-97.5%</td>\n",
       "      <td>-&amp;#36;725</td>\n",
       "      <td>RTB-metanetworks</td>\n",
       "      <td>drop</td>\n",
       "      <td>NaN</td>\n",
       "      <td>&amp;#36;19</td>\n",
       "      <td>&amp;#36;744</td>\n",
       "      <td>Sortable</td>\n",
       "      <td>558346</td>\n",
       "    </tr>\n",
       "    <tr>\n",
       "      <th>7</th>\n",
       "      <td>551446</td>\n",
       "      <td>33.2%</td>\n",
       "      <td>70</td>\n",
       "      <td>-98.7%</td>\n",
       "      <td>-&amp;#36;664</td>\n",
       "      <td>RTB-metanetworks</td>\n",
       "      <td>drop</td>\n",
       "      <td>NaN</td>\n",
       "      <td>&amp;#36;9</td>\n",
       "      <td>&amp;#36;672</td>\n",
       "      <td>CrunchMind</td>\n",
       "      <td>558889</td>\n",
       "    </tr>\n",
       "    <tr>\n",
       "      <th>8</th>\n",
       "      <td>551446</td>\n",
       "      <td>38.0%</td>\n",
       "      <td>70</td>\n",
       "      <td>-92.9%</td>\n",
       "      <td>-&amp;#36;201</td>\n",
       "      <td>RTB-metanetworks</td>\n",
       "      <td>drop</td>\n",
       "      <td>NaN</td>\n",
       "      <td>&amp;#36;15</td>\n",
       "      <td>&amp;#36;216</td>\n",
       "      <td>MULTIPLY</td>\n",
       "      <td>560810</td>\n",
       "    </tr>\n",
       "    <tr>\n",
       "      <th>9</th>\n",
       "      <td>551446</td>\n",
       "      <td>42.8%</td>\n",
       "      <td>70</td>\n",
       "      <td>-79.4%</td>\n",
       "      <td>-&amp;#36;198</td>\n",
       "      <td>RTB-metanetworks</td>\n",
       "      <td>drop</td>\n",
       "      <td>NaN</td>\n",
       "      <td>&amp;#36;51</td>\n",
       "      <td>&amp;#36;250</td>\n",
       "      <td>Monkey Broker</td>\n",
       "      <td>559956</td>\n",
       "    </tr>\n",
       "    <tr>\n",
       "      <th>10</th>\n",
       "      <td>551446</td>\n",
       "      <td>46.7%</td>\n",
       "      <td>70</td>\n",
       "      <td>-100.0%</td>\n",
       "      <td>-&amp;#36;163</td>\n",
       "      <td>RTB-metanetworks</td>\n",
       "      <td>drop</td>\n",
       "      <td>NaN</td>\n",
       "      <td>&amp;#36;0</td>\n",
       "      <td>&amp;#36;163</td>\n",
       "      <td>ROI Media</td>\n",
       "      <td>558211</td>\n",
       "    </tr>\n",
       "    <tr>\n",
       "      <th>11</th>\n",
       "      <td>560271</td>\n",
       "      <td>12.5%</td>\n",
       "      <td>70</td>\n",
       "      <td>-15.6%</td>\n",
       "      <td>-&amp;#36;45</td>\n",
       "      <td>RTB-Nuviad</td>\n",
       "      <td>drop</td>\n",
       "      <td>NaN</td>\n",
       "      <td>&amp;#36;245</td>\n",
       "      <td>&amp;#36;290</td>\n",
       "      <td>RTS-sovrn</td>\n",
       "      <td>558511</td>\n",
       "    </tr>\n",
       "    <tr>\n",
       "      <th>12</th>\n",
       "      <td>560271</td>\n",
       "      <td>24.4%</td>\n",
       "      <td>70</td>\n",
       "      <td>-23.8%</td>\n",
       "      <td>-&amp;#36;43</td>\n",
       "      <td>RTB-Nuviad</td>\n",
       "      <td>drop</td>\n",
       "      <td>NaN</td>\n",
       "      <td>&amp;#36;138</td>\n",
       "      <td>&amp;#36;181</td>\n",
       "      <td>CrunchMind</td>\n",
       "      <td>558889</td>\n",
       "    </tr>\n",
       "    <tr>\n",
       "      <th>13</th>\n",
       "      <td>560271</td>\n",
       "      <td>35.3%</td>\n",
       "      <td>70</td>\n",
       "      <td>-78.2%</td>\n",
       "      <td>-&amp;#36;39</td>\n",
       "      <td>RTB-Nuviad</td>\n",
       "      <td>drop</td>\n",
       "      <td>NaN</td>\n",
       "      <td>&amp;#36;11</td>\n",
       "      <td>&amp;#36;51</td>\n",
       "      <td>MediaCrew CPM</td>\n",
       "      <td>561308</td>\n",
       "    </tr>\n",
       "    <tr>\n",
       "      <th>14</th>\n",
       "      <td>560271</td>\n",
       "      <td>44.7%</td>\n",
       "      <td>70</td>\n",
       "      <td>-10.1%</td>\n",
       "      <td>-&amp;#36;34</td>\n",
       "      <td>RTB-Nuviad</td>\n",
       "      <td>drop</td>\n",
       "      <td>NaN</td>\n",
       "      <td>&amp;#36;304</td>\n",
       "      <td>&amp;#36;338</td>\n",
       "      <td>RTS-Sonobi</td>\n",
       "      <td>560606</td>\n",
       "    </tr>\n",
       "    <tr>\n",
       "      <th>15</th>\n",
       "      <td>560271</td>\n",
       "      <td>51.9%</td>\n",
       "      <td>70</td>\n",
       "      <td>-20.0%</td>\n",
       "      <td>-&amp;#36;26</td>\n",
       "      <td>RTB-Nuviad</td>\n",
       "      <td>drop</td>\n",
       "      <td>NaN</td>\n",
       "      <td>&amp;#36;103</td>\n",
       "      <td>&amp;#36;129</td>\n",
       "      <td>AdThriveHB</td>\n",
       "      <td>559952</td>\n",
       "    </tr>\n",
       "    <tr>\n",
       "      <th>16</th>\n",
       "      <td>535039</td>\n",
       "      <td>20.6%</td>\n",
       "      <td>70</td>\n",
       "      <td>-22.9%</td>\n",
       "      <td>-&amp;#36;85</td>\n",
       "      <td>RTB-DataXu</td>\n",
       "      <td>drop</td>\n",
       "      <td>NaN</td>\n",
       "      <td>&amp;#36;287</td>\n",
       "      <td>&amp;#36;371</td>\n",
       "      <td>Underdog Media</td>\n",
       "      <td>508738</td>\n",
       "    </tr>\n",
       "    <tr>\n",
       "      <th>17</th>\n",
       "      <td>535039</td>\n",
       "      <td>35.0%</td>\n",
       "      <td>70</td>\n",
       "      <td>-37.8%</td>\n",
       "      <td>-&amp;#36;59</td>\n",
       "      <td>RTB-DataXu</td>\n",
       "      <td>drop</td>\n",
       "      <td>NaN</td>\n",
       "      <td>&amp;#36;96</td>\n",
       "      <td>&amp;#36;155</td>\n",
       "      <td>RTS-MillennialMedia</td>\n",
       "      <td>561049</td>\n",
       "    </tr>\n",
       "    <tr>\n",
       "      <th>18</th>\n",
       "      <td>535039</td>\n",
       "      <td>48.8%</td>\n",
       "      <td>70</td>\n",
       "      <td>-52.4%</td>\n",
       "      <td>-&amp;#36;57</td>\n",
       "      <td>RTB-DataXu</td>\n",
       "      <td>drop</td>\n",
       "      <td>NaN</td>\n",
       "      <td>&amp;#36;51</td>\n",
       "      <td>&amp;#36;108</td>\n",
       "      <td>RTS-Sonobi</td>\n",
       "      <td>560606</td>\n",
       "    </tr>\n",
       "    <tr>\n",
       "      <th>19</th>\n",
       "      <td>535039</td>\n",
       "      <td>62.1%</td>\n",
       "      <td>70</td>\n",
       "      <td>-81.5%</td>\n",
       "      <td>-&amp;#36;55</td>\n",
       "      <td>RTB-DataXu</td>\n",
       "      <td>drop</td>\n",
       "      <td>NaN</td>\n",
       "      <td>&amp;#36;12</td>\n",
       "      <td>&amp;#36;67</td>\n",
       "      <td>Kumma</td>\n",
       "      <td>561132</td>\n",
       "    </tr>\n",
       "    <tr>\n",
       "      <th>20</th>\n",
       "      <td>535039</td>\n",
       "      <td>69.9%</td>\n",
       "      <td>70</td>\n",
       "      <td>-53.0%</td>\n",
       "      <td>-&amp;#36;32</td>\n",
       "      <td>RTB-DataXu</td>\n",
       "      <td>drop</td>\n",
       "      <td>NaN</td>\n",
       "      <td>&amp;#36;29</td>\n",
       "      <td>&amp;#36;61</td>\n",
       "      <td>Singapore Media</td>\n",
       "      <td>561152</td>\n",
       "    </tr>\n",
       "    <tr>\n",
       "      <th>21</th>\n",
       "      <td>551587</td>\n",
       "      <td>45.2%</td>\n",
       "      <td>70</td>\n",
       "      <td>-68.5%</td>\n",
       "      <td>-&amp;#36;176</td>\n",
       "      <td>RTB-GetIntent</td>\n",
       "      <td>drop</td>\n",
       "      <td>-3.0</td>\n",
       "      <td>&amp;#36;81</td>\n",
       "      <td>&amp;#36;257</td>\n",
       "      <td>Cignal.IO</td>\n",
       "      <td>561188</td>\n",
       "    </tr>\n",
       "    <tr>\n",
       "      <th>22</th>\n",
       "      <td>551587</td>\n",
       "      <td>59.9%</td>\n",
       "      <td>70</td>\n",
       "      <td>-84.0%</td>\n",
       "      <td>-&amp;#36;57</td>\n",
       "      <td>RTB-GetIntent</td>\n",
       "      <td>drop</td>\n",
       "      <td>-3.0</td>\n",
       "      <td>&amp;#36;11</td>\n",
       "      <td>&amp;#36;68</td>\n",
       "      <td>Velis Media</td>\n",
       "      <td>561073</td>\n",
       "    </tr>\n",
       "    <tr>\n",
       "      <th>23</th>\n",
       "      <td>534889</td>\n",
       "      <td>26.6%</td>\n",
       "      <td>70</td>\n",
       "      <td>-65.2%</td>\n",
       "      <td>-&amp;#36;103</td>\n",
       "      <td>RTB-Netmining</td>\n",
       "      <td>drop</td>\n",
       "      <td>NaN</td>\n",
       "      <td>&amp;#36;55</td>\n",
       "      <td>&amp;#36;158</td>\n",
       "      <td>Smartlify</td>\n",
       "      <td>561083</td>\n",
       "    </tr>\n",
       "    <tr>\n",
       "      <th>24</th>\n",
       "      <td>534889</td>\n",
       "      <td>47.8%</td>\n",
       "      <td>70</td>\n",
       "      <td>-22.3%</td>\n",
       "      <td>-&amp;#36;82</td>\n",
       "      <td>RTB-Netmining</td>\n",
       "      <td>drop</td>\n",
       "      <td>NaN</td>\n",
       "      <td>&amp;#36;287</td>\n",
       "      <td>&amp;#36;369</td>\n",
       "      <td>Kumma</td>\n",
       "      <td>561132</td>\n",
       "    </tr>\n",
       "    <tr>\n",
       "      <th>25</th>\n",
       "      <td>534889</td>\n",
       "      <td>55.6%</td>\n",
       "      <td>70</td>\n",
       "      <td>-16.7%</td>\n",
       "      <td>-&amp;#36;30</td>\n",
       "      <td>RTB-Netmining</td>\n",
       "      <td>drop</td>\n",
       "      <td>NaN</td>\n",
       "      <td>&amp;#36;151</td>\n",
       "      <td>&amp;#36;181</td>\n",
       "      <td>Spine Media</td>\n",
       "      <td>560613</td>\n",
       "    </tr>\n",
       "    <tr>\n",
       "      <th>26</th>\n",
       "      <td>534889</td>\n",
       "      <td>61.5%</td>\n",
       "      <td>70</td>\n",
       "      <td>-65.7%</td>\n",
       "      <td>-&amp;#36;23</td>\n",
       "      <td>RTB-Netmining</td>\n",
       "      <td>drop</td>\n",
       "      <td>NaN</td>\n",
       "      <td>&amp;#36;12</td>\n",
       "      <td>&amp;#36;36</td>\n",
       "      <td>GDMGroup</td>\n",
       "      <td>561289</td>\n",
       "    </tr>\n",
       "    <tr>\n",
       "      <th>27</th>\n",
       "      <td>534889</td>\n",
       "      <td>65.1%</td>\n",
       "      <td>70</td>\n",
       "      <td>-18.6%</td>\n",
       "      <td>-&amp;#36;14</td>\n",
       "      <td>RTB-Netmining</td>\n",
       "      <td>drop</td>\n",
       "      <td>NaN</td>\n",
       "      <td>&amp;#36;61</td>\n",
       "      <td>&amp;#36;75</td>\n",
       "      <td>Underdog Media</td>\n",
       "      <td>508738</td>\n",
       "    </tr>\n",
       "  </tbody>\n",
       "</table>\n",
       "</div>"
      ],
      "text/plain": [
       "    accountid cum_pct  cutoff delta_pct difference_cur                dsp  \\\n",
       "0      553204   26.4%      70    -36.5%      -&#36;558  RTB-Convert-Media   \n",
       "1      553204   36.0%      70    -39.8%      -&#36;202  RTB-Convert-Media   \n",
       "2      553204   43.8%      70    -49.5%      -&#36;165  RTB-Convert-Media   \n",
       "3      553204   47.4%      70    -56.4%       -&#36;75  RTB-Convert-Media   \n",
       "4      553204   50.4%      70    -80.2%       -&#36;63  RTB-Convert-Media   \n",
       "5      556010   76.3%      70    -97.3%   -&#36;12,825        RTB-IPonWeb   \n",
       "6      551446   17.3%      70    -97.5%      -&#36;725   RTB-metanetworks   \n",
       "7      551446   33.2%      70    -98.7%      -&#36;664   RTB-metanetworks   \n",
       "8      551446   38.0%      70    -92.9%      -&#36;201   RTB-metanetworks   \n",
       "9      551446   42.8%      70    -79.4%      -&#36;198   RTB-metanetworks   \n",
       "10     551446   46.7%      70   -100.0%      -&#36;163   RTB-metanetworks   \n",
       "11     560271   12.5%      70    -15.6%       -&#36;45         RTB-Nuviad   \n",
       "12     560271   24.4%      70    -23.8%       -&#36;43         RTB-Nuviad   \n",
       "13     560271   35.3%      70    -78.2%       -&#36;39         RTB-Nuviad   \n",
       "14     560271   44.7%      70    -10.1%       -&#36;34         RTB-Nuviad   \n",
       "15     560271   51.9%      70    -20.0%       -&#36;26         RTB-Nuviad   \n",
       "16     535039   20.6%      70    -22.9%       -&#36;85         RTB-DataXu   \n",
       "17     535039   35.0%      70    -37.8%       -&#36;59         RTB-DataXu   \n",
       "18     535039   48.8%      70    -52.4%       -&#36;57         RTB-DataXu   \n",
       "19     535039   62.1%      70    -81.5%       -&#36;55         RTB-DataXu   \n",
       "20     535039   69.9%      70    -53.0%       -&#36;32         RTB-DataXu   \n",
       "21     551587   45.2%      70    -68.5%      -&#36;176      RTB-GetIntent   \n",
       "22     551587   59.9%      70    -84.0%       -&#36;57      RTB-GetIntent   \n",
       "23     534889   26.6%      70    -65.2%      -&#36;103      RTB-Netmining   \n",
       "24     534889   47.8%      70    -22.3%       -&#36;82      RTB-Netmining   \n",
       "25     534889   55.6%      70    -16.7%       -&#36;30      RTB-Netmining   \n",
       "26     534889   61.5%      70    -65.7%       -&#36;23      RTB-Netmining   \n",
       "27     534889   65.1%      70    -18.6%       -&#36;14      RTB-Netmining   \n",
       "\n",
       "    flag  num_of_others pdrevenue_cur ppdrevenue_cur            publisher  \\\n",
       "0   drop            NaN      &#36;970     &#36;1,529         RTS-MediaNet   \n",
       "1   drop            NaN      &#36;306       &#36;508           RTS-Sonobi   \n",
       "2   drop            NaN      &#36;168       &#36;333       Underdog Media   \n",
       "3   drop            NaN       &#36;58       &#36;133             Freestar   \n",
       "4   drop            NaN       &#36;16        &#36;79   Sortable_Sensitive   \n",
       "5   drop            NaN      &#36;358    &#36;13,183           RockYou AP   \n",
       "6   drop            NaN       &#36;19       &#36;744             Sortable   \n",
       "7   drop            NaN        &#36;9       &#36;672           CrunchMind   \n",
       "8   drop            NaN       &#36;15       &#36;216             MULTIPLY   \n",
       "9   drop            NaN       &#36;51       &#36;250        Monkey Broker   \n",
       "10  drop            NaN        &#36;0       &#36;163            ROI Media   \n",
       "11  drop            NaN      &#36;245       &#36;290            RTS-sovrn   \n",
       "12  drop            NaN      &#36;138       &#36;181           CrunchMind   \n",
       "13  drop            NaN       &#36;11        &#36;51        MediaCrew CPM   \n",
       "14  drop            NaN      &#36;304       &#36;338           RTS-Sonobi   \n",
       "15  drop            NaN      &#36;103       &#36;129           AdThriveHB   \n",
       "16  drop            NaN      &#36;287       &#36;371       Underdog Media   \n",
       "17  drop            NaN       &#36;96       &#36;155  RTS-MillennialMedia   \n",
       "18  drop            NaN       &#36;51       &#36;108           RTS-Sonobi   \n",
       "19  drop            NaN       &#36;12        &#36;67                Kumma   \n",
       "20  drop            NaN       &#36;29        &#36;61      Singapore Media   \n",
       "21  drop           -3.0       &#36;81       &#36;257            Cignal.IO   \n",
       "22  drop           -3.0       &#36;11        &#36;68          Velis Media   \n",
       "23  drop            NaN       &#36;55       &#36;158            Smartlify   \n",
       "24  drop            NaN      &#36;287       &#36;369                Kumma   \n",
       "25  drop            NaN      &#36;151       &#36;181          Spine Media   \n",
       "26  drop            NaN       &#36;12        &#36;36             GDMGroup   \n",
       "27  drop            NaN       &#36;61        &#36;75       Underdog Media   \n",
       "\n",
       "    publisherid  \n",
       "0        560210  \n",
       "1        560606  \n",
       "2        508738  \n",
       "3        560313  \n",
       "4        560251  \n",
       "5        560143  \n",
       "6        558346  \n",
       "7        558889  \n",
       "8        560810  \n",
       "9        559956  \n",
       "10       558211  \n",
       "11       558511  \n",
       "12       558889  \n",
       "13       561308  \n",
       "14       560606  \n",
       "15       559952  \n",
       "16       508738  \n",
       "17       561049  \n",
       "18       560606  \n",
       "19       561132  \n",
       "20       561152  \n",
       "21       561188  \n",
       "22       561073  \n",
       "23       561083  \n",
       "24       561132  \n",
       "25       560613  \n",
       "26       561289  \n",
       "27       508738  "
      ]
     },
     "execution_count": 13,
     "metadata": {},
     "output_type": "execute_result"
    }
   ],
   "source": [
    "tops = pub_processed.top_by_pct_multi_accts(0.7, positive=False)\n",
    "tops"
   ]
  },
  {
   "cell_type": "code",
   "execution_count": null,
   "metadata": {
    "collapsed": false
   },
   "outputs": [],
   "source": [
    "test = tops[tops['accountid'] == 553204]\n",
    "test['num_of_others'][0]"
   ]
  },
  {
   "cell_type": "code",
   "execution_count": 12,
   "metadata": {
    "collapsed": false
   },
   "outputs": [
    {
     "name": "stderr",
     "output_type": "stream",
     "text": [
      "C:\\Users\\ssu\\Documents\\github\\alerting\\insights.py:23: SettingWithCopyWarning: \n",
      "A value is trying to be set on a copy of a slice from a DataFrame.\n",
      "Try using .loc[row_indexer,col_indexer] = value instead\n",
      "\n",
      "See the caveats in the documentation: http://pandas.pydata.org/pandas-docs/stable/indexing.html#indexing-view-versus-copy\n",
      "  selectedCols_ext[dimension] = \"<a href='\" + link + \"dsp=\" + selectedCols_ext['dsp'] + \"&publisher=\" + selectedCols_ext[dimension] + \"' >\" + selectedCols_ext[dimension] + '</a>'\n"
     ]
    },
    {
     "ename": "KeyError",
     "evalue": "0",
     "output_type": "error",
     "traceback": [
      "\u001b[0;31m---------------------------------------------------------------------------\u001b[0m",
      "\u001b[0;31mKeyError\u001b[0m                                  Traceback (most recent call last)",
      "\u001b[0;32m<ipython-input-12-76a9b0243144>\u001b[0m in \u001b[0;36m<module>\u001b[0;34m()\u001b[0m\n\u001b[1;32m      1\u001b[0m \u001b[0minsight\u001b[0m \u001b[1;33m=\u001b[0m \u001b[0minsights\u001b[0m\u001b[1;33m(\u001b[0m\u001b[0mtops\u001b[0m\u001b[1;33m)\u001b[0m\u001b[1;33m\u001b[0m\u001b[0m\n\u001b[0;32m----> 2\u001b[0;31m \u001b[0mpub_res\u001b[0m \u001b[1;33m=\u001b[0m \u001b[0minsight\u001b[0m\u001b[1;33m.\u001b[0m\u001b[0mtop_changers\u001b[0m\u001b[1;33m(\u001b[0m\u001b[0mids\u001b[0m\u001b[1;33m,\u001b[0m \u001b[1;34m'publisher'\u001b[0m\u001b[1;33m,\u001b[0m \u001b[0mdefault_message\u001b[0m\u001b[1;33m[\u001b[0m\u001b[1;34m'pub'\u001b[0m\u001b[1;33m]\u001b[0m\u001b[1;33m,\u001b[0m \u001b[0mlinks\u001b[0m\u001b[1;33m[\u001b[0m\u001b[1;34m'Tableau_dsp_pub'\u001b[0m\u001b[1;33m]\u001b[0m\u001b[1;33m)\u001b[0m\u001b[1;33m\u001b[0m\u001b[0m\n\u001b[0m",
      "\u001b[0;32mC:\\Users\\ssu\\Documents\\github\\alerting\\insights.py\u001b[0m in \u001b[0;36mtop_changers\u001b[0;34m(self, accountids_str, dimension, default_message, link)\u001b[0m\n\u001b[1;32m     26\u001b[0m                                         \u001b[0mval\u001b[0m \u001b[1;33m=\u001b[0m \u001b[1;34m', '\u001b[0m\u001b[1;33m.\u001b[0m\u001b[0mjoin\u001b[0m\u001b[1;33m(\u001b[0m\u001b[1;33m[\u001b[0m\u001b[0mstr\u001b[0m\u001b[1;33m(\u001b[0m\u001b[0mi\u001b[0m\u001b[1;33m)\u001b[0m \u001b[1;32mfor\u001b[0m \u001b[0mi\u001b[0m \u001b[1;32min\u001b[0m \u001b[0mselectedCols\u001b[0m\u001b[1;33m.\u001b[0m\u001b[0miloc\u001b[0m\u001b[1;33m[\u001b[0m\u001b[0mi\u001b[0m\u001b[1;33m]\u001b[0m\u001b[1;33m]\u001b[0m\u001b[1;33m)\u001b[0m\u001b[1;33m\u001b[0m\u001b[0m\n\u001b[1;32m     27\u001b[0m                                         \u001b[0mstring\u001b[0m \u001b[1;33m=\u001b[0m \u001b[0mstring\u001b[0m \u001b[1;33m+\u001b[0m \u001b[0mval\u001b[0m \u001b[1;33m+\u001b[0m \u001b[1;34m\";  \"\u001b[0m\u001b[1;33m\u001b[0m\u001b[0m\n\u001b[0;32m---> 28\u001b[0;31m                                 \u001b[1;32mif\u001b[0m \u001b[0macct_df\u001b[0m\u001b[1;33m[\u001b[0m\u001b[1;34m'num_of_others'\u001b[0m\u001b[1;33m]\u001b[0m\u001b[1;33m[\u001b[0m\u001b[1;36m0\u001b[0m\u001b[1;33m]\u001b[0m \u001b[1;33m>\u001b[0m \u001b[1;36m0\u001b[0m\u001b[1;33m:\u001b[0m\u001b[1;33m\u001b[0m\u001b[0m\n\u001b[0m\u001b[1;32m     29\u001b[0m                                         \u001b[0mstring\u001b[0m \u001b[1;33m=\u001b[0m \u001b[0mstring\u001b[0m \u001b[1;33m+\u001b[0m \u001b[1;34m\"and other\"\u001b[0m \u001b[1;33m+\u001b[0m \u001b[0mstr\u001b[0m\u001b[1;33m(\u001b[0m\u001b[0macct_df\u001b[0m\u001b[1;33m[\u001b[0m\u001b[1;34m'num_of_others'\u001b[0m\u001b[1;33m]\u001b[0m\u001b[1;33m[\u001b[0m\u001b[1;36m0\u001b[0m\u001b[1;33m]\u001b[0m\u001b[1;33m)\u001b[0m  \u001b[1;33m+\u001b[0m \u001b[0mdimenion\u001b[0m \u001b[1;33m+\u001b[0m \u001b[1;34m\"s. \"\u001b[0m\u001b[1;33m\u001b[0m\u001b[0m\n\u001b[1;32m     30\u001b[0m                         \u001b[0mresult\u001b[0m\u001b[1;33m.\u001b[0m\u001b[0mappend\u001b[0m\u001b[1;33m(\u001b[0m\u001b[0mstring\u001b[0m\u001b[1;33m)\u001b[0m\u001b[1;33m\u001b[0m\u001b[0m\n",
      "\u001b[0;32mC:\\Users\\ssu\\AppData\\Local\\Continuum\\Anaconda3\\lib\\site-packages\\pandas\\core\\series.py\u001b[0m in \u001b[0;36m__getitem__\u001b[0;34m(self, key)\u001b[0m\n\u001b[1;32m    601\u001b[0m         \u001b[0mkey\u001b[0m \u001b[1;33m=\u001b[0m \u001b[0mcom\u001b[0m\u001b[1;33m.\u001b[0m\u001b[0m_apply_if_callable\u001b[0m\u001b[1;33m(\u001b[0m\u001b[0mkey\u001b[0m\u001b[1;33m,\u001b[0m \u001b[0mself\u001b[0m\u001b[1;33m)\u001b[0m\u001b[1;33m\u001b[0m\u001b[0m\n\u001b[1;32m    602\u001b[0m         \u001b[1;32mtry\u001b[0m\u001b[1;33m:\u001b[0m\u001b[1;33m\u001b[0m\u001b[0m\n\u001b[0;32m--> 603\u001b[0;31m             \u001b[0mresult\u001b[0m \u001b[1;33m=\u001b[0m \u001b[0mself\u001b[0m\u001b[1;33m.\u001b[0m\u001b[0mindex\u001b[0m\u001b[1;33m.\u001b[0m\u001b[0mget_value\u001b[0m\u001b[1;33m(\u001b[0m\u001b[0mself\u001b[0m\u001b[1;33m,\u001b[0m \u001b[0mkey\u001b[0m\u001b[1;33m)\u001b[0m\u001b[1;33m\u001b[0m\u001b[0m\n\u001b[0m\u001b[1;32m    604\u001b[0m \u001b[1;33m\u001b[0m\u001b[0m\n\u001b[1;32m    605\u001b[0m             \u001b[1;32mif\u001b[0m \u001b[1;32mnot\u001b[0m \u001b[0mis_scalar\u001b[0m\u001b[1;33m(\u001b[0m\u001b[0mresult\u001b[0m\u001b[1;33m)\u001b[0m\u001b[1;33m:\u001b[0m\u001b[1;33m\u001b[0m\u001b[0m\n",
      "\u001b[0;32mC:\\Users\\ssu\\AppData\\Local\\Continuum\\Anaconda3\\lib\\site-packages\\pandas\\indexes\\base.py\u001b[0m in \u001b[0;36mget_value\u001b[0;34m(self, series, key)\u001b[0m\n\u001b[1;32m   2167\u001b[0m         \u001b[1;32mtry\u001b[0m\u001b[1;33m:\u001b[0m\u001b[1;33m\u001b[0m\u001b[0m\n\u001b[1;32m   2168\u001b[0m             return self._engine.get_value(s, k,\n\u001b[0;32m-> 2169\u001b[0;31m                                           tz=getattr(series.dtype, 'tz', None))\n\u001b[0m\u001b[1;32m   2170\u001b[0m         \u001b[1;32mexcept\u001b[0m \u001b[0mKeyError\u001b[0m \u001b[1;32mas\u001b[0m \u001b[0me1\u001b[0m\u001b[1;33m:\u001b[0m\u001b[1;33m\u001b[0m\u001b[0m\n\u001b[1;32m   2171\u001b[0m             \u001b[1;32mif\u001b[0m \u001b[0mlen\u001b[0m\u001b[1;33m(\u001b[0m\u001b[0mself\u001b[0m\u001b[1;33m)\u001b[0m \u001b[1;33m>\u001b[0m \u001b[1;36m0\u001b[0m \u001b[1;32mand\u001b[0m \u001b[0mself\u001b[0m\u001b[1;33m.\u001b[0m\u001b[0minferred_type\u001b[0m \u001b[1;32min\u001b[0m \u001b[1;33m[\u001b[0m\u001b[1;34m'integer'\u001b[0m\u001b[1;33m,\u001b[0m \u001b[1;34m'boolean'\u001b[0m\u001b[1;33m]\u001b[0m\u001b[1;33m:\u001b[0m\u001b[1;33m\u001b[0m\u001b[0m\n",
      "\u001b[0;32mpandas\\index.pyx\u001b[0m in \u001b[0;36mpandas.index.IndexEngine.get_value (pandas\\index.c:3557)\u001b[0;34m()\u001b[0m\n",
      "\u001b[0;32mpandas\\index.pyx\u001b[0m in \u001b[0;36mpandas.index.IndexEngine.get_value (pandas\\index.c:3240)\u001b[0;34m()\u001b[0m\n",
      "\u001b[0;32mpandas\\index.pyx\u001b[0m in \u001b[0;36mpandas.index.IndexEngine.get_loc (pandas\\index.c:4279)\u001b[0;34m()\u001b[0m\n",
      "\u001b[0;32mpandas\\src\\hashtable_class_helper.pxi\u001b[0m in \u001b[0;36mpandas.hashtable.Int64HashTable.get_item (pandas\\hashtable.c:8564)\u001b[0;34m()\u001b[0m\n",
      "\u001b[0;32mpandas\\src\\hashtable_class_helper.pxi\u001b[0m in \u001b[0;36mpandas.hashtable.Int64HashTable.get_item (pandas\\hashtable.c:8508)\u001b[0;34m()\u001b[0m\n",
      "\u001b[0;31mKeyError\u001b[0m: 0"
     ]
    }
   ],
   "source": [
    "insight = insights(tops)\n",
    "pub_res = insight.top_changers(ids, 'publisher', default_message['pub'], links['Tableau_dsp_pub'])"
   ]
  },
  {
   "cell_type": "markdown",
   "metadata": {},
   "source": [
    "### Campaigns ###"
   ]
  },
  {
   "cell_type": "code",
   "execution_count": null,
   "metadata": {
    "collapsed": false
   },
   "outputs": [],
   "source": [
    "lan = pp_data(dsp_queries['campaign'])\n",
    "#df2 = lan.get_data(\"pubs_jumper\", deep_dive_ids)\n",
    "df2 = lan.get_data(\"LANDINGPAGE_for_dropper\", deep_dive_ids)"
   ]
  },
  {
   "cell_type": "code",
   "execution_count": null,
   "metadata": {
    "collapsed": true
   },
   "outputs": [],
   "source": [
    "lan_processed = process_data(df2)"
   ]
  },
  {
   "cell_type": "code",
   "execution_count": null,
   "metadata": {
    "collapsed": false
   },
   "outputs": [],
   "source": [
    "lan_tops = lan_processed.top_by_pct_multi_accts(0.7, positive=False)"
   ]
  },
  {
   "cell_type": "code",
   "execution_count": null,
   "metadata": {
    "collapsed": false
   },
   "outputs": [],
   "source": [
    "lan_tops.head()"
   ]
  },
  {
   "cell_type": "code",
   "execution_count": null,
   "metadata": {
    "collapsed": false
   },
   "outputs": [],
   "source": [
    "insight2 = insights(lan_tops)\n",
    "cam_res = insight2.top_changers(ids, 'campaign', default_message['campaign'])"
   ]
  },
  {
   "cell_type": "code",
   "execution_count": null,
   "metadata": {
    "collapsed": false
   },
   "outputs": [],
   "source": [
    "cam_res"
   ]
  },
  {
   "cell_type": "markdown",
   "metadata": {},
   "source": [
    "### Channel ###"
   ]
  },
  {
   "cell_type": "code",
   "execution_count": null,
   "metadata": {
    "collapsed": false
   },
   "outputs": [],
   "source": [
    "cn = pp_data(dsp_queries['channel'])\n",
    "df3 = cn.get_data(\"channel_dropper\", deep_dive_ids)\n",
    "df3.head()"
   ]
  },
  {
   "cell_type": "code",
   "execution_count": null,
   "metadata": {
    "collapsed": false
   },
   "outputs": [],
   "source": [
    "insight3 = insights(df3)\n",
    "cn_res = insight3.facts(ids, 'channel', default_message['channel'])"
   ]
  },
  {
   "cell_type": "code",
   "execution_count": null,
   "metadata": {
    "collapsed": false
   },
   "outputs": [],
   "source": [
    "cn_res"
   ]
  },
  {
   "cell_type": "code",
   "execution_count": null,
   "metadata": {
    "collapsed": true
   },
   "outputs": [],
   "source": [
    "email_content = {\n",
    "    \"accountname\": accountnames,\n",
    "    \"message1\": pub_res,\n",
    "    \"message2\": cam_res,\n",
    "    \"message3\": cn_res,\n",
    "    \"theader\": table_headers,\n",
    "    \"tvalue\": table_value\n",
    "    \n",
    "}"
   ]
  },
  {
   "cell_type": "code",
   "execution_count": null,
   "metadata": {
    "collapsed": false
   },
   "outputs": [],
   "source": [
    "email_content['accountname']"
   ]
  },
  {
   "cell_type": "code",
   "execution_count": null,
   "metadata": {
    "collapsed": true
   },
   "outputs": [],
   "source": [
    "email_temp = EmailAlert(\"dsp\", data_directory+'input.mjml', email_content)"
   ]
  },
  {
   "cell_type": "code",
   "execution_count": null,
   "metadata": {
    "collapsed": false
   },
   "outputs": [],
   "source": [
    "email_temp.render_template()"
   ]
  },
  {
   "cell_type": "code",
   "execution_count": null,
   "metadata": {
    "collapsed": true
   },
   "outputs": [],
   "source": []
  },
  {
   "cell_type": "code",
   "execution_count": null,
   "metadata": {
    "collapsed": true
   },
   "outputs": [],
   "source": []
  },
  {
   "cell_type": "code",
   "execution_count": null,
   "metadata": {
    "collapsed": true
   },
   "outputs": [],
   "source": []
  },
  {
   "cell_type": "code",
   "execution_count": null,
   "metadata": {
    "collapsed": true
   },
   "outputs": [],
   "source": []
  },
  {
   "cell_type": "code",
   "execution_count": null,
   "metadata": {
    "collapsed": true
   },
   "outputs": [],
   "source": []
  },
  {
   "cell_type": "code",
   "execution_count": null,
   "metadata": {
    "collapsed": true
   },
   "outputs": [],
   "source": []
  },
  {
   "cell_type": "code",
   "execution_count": null,
   "metadata": {
    "collapsed": true
   },
   "outputs": [],
   "source": []
  },
  {
   "cell_type": "code",
   "execution_count": null,
   "metadata": {
    "collapsed": true
   },
   "outputs": [],
   "source": []
  },
  {
   "cell_type": "code",
   "execution_count": null,
   "metadata": {
    "collapsed": true
   },
   "outputs": [],
   "source": []
  },
  {
   "cell_type": "code",
   "execution_count": null,
   "metadata": {
    "collapsed": true
   },
   "outputs": [],
   "source": []
  },
  {
   "cell_type": "code",
   "execution_count": null,
   "metadata": {
    "collapsed": true
   },
   "outputs": [],
   "source": []
  },
  {
   "cell_type": "code",
   "execution_count": null,
   "metadata": {
    "collapsed": true
   },
   "outputs": [],
   "source": []
  },
  {
   "cell_type": "code",
   "execution_count": null,
   "metadata": {
    "collapsed": true
   },
   "outputs": [],
   "source": []
  },
  {
   "cell_type": "code",
   "execution_count": null,
   "metadata": {
    "collapsed": true
   },
   "outputs": [],
   "source": []
  },
  {
   "cell_type": "code",
   "execution_count": null,
   "metadata": {
    "collapsed": true
   },
   "outputs": [],
   "source": []
  },
  {
   "cell_type": "code",
   "execution_count": null,
   "metadata": {
    "collapsed": true
   },
   "outputs": [],
   "source": []
  },
  {
   "cell_type": "code",
   "execution_count": null,
   "metadata": {
    "collapsed": true
   },
   "outputs": [],
   "source": []
  },
  {
   "cell_type": "code",
   "execution_count": null,
   "metadata": {
    "collapsed": true
   },
   "outputs": [],
   "source": []
  },
  {
   "cell_type": "code",
   "execution_count": null,
   "metadata": {
    "collapsed": true
   },
   "outputs": [],
   "source": []
  },
  {
   "cell_type": "code",
   "execution_count": null,
   "metadata": {
    "collapsed": true
   },
   "outputs": [],
   "source": [
    "acct_new = acct.groupby(['rev_change_binary']).agg({\"publisherid\": \"count\", \"difference\": sum})"
   ]
  },
  {
   "cell_type": "code",
   "execution_count": null,
   "metadata": {
    "collapsed": true
   },
   "outputs": [],
   "source": []
  },
  {
   "cell_type": "code",
   "execution_count": null,
   "metadata": {
    "collapsed": true
   },
   "outputs": [],
   "source": [
    "df.to_csv(\"pubs_20170706.csv\", index = False)"
   ]
  },
  {
   "cell_type": "code",
   "execution_count": null,
   "metadata": {
    "collapsed": false
   },
   "outputs": [],
   "source": [
    "acctid"
   ]
  },
  {
   "cell_type": "code",
   "execution_count": null,
   "metadata": {
    "collapsed": false
   },
   "outputs": [],
   "source": [
    "acctids = ', '.join([str(i) for i in acctid])\n",
    "acctids"
   ]
  },
  {
   "cell_type": "code",
   "execution_count": null,
   "metadata": {
    "collapsed": false
   },
   "outputs": [],
   "source": [
    "lp = load_data(query['LANDINGPAGE'], 'dsp_landingpage', acctids, 1)"
   ]
  },
  {
   "cell_type": "code",
   "execution_count": null,
   "metadata": {
    "collapsed": false
   },
   "outputs": [],
   "source": [
    "res = []\n",
    "for acct in acctid_array:\n",
    "    print(acct)\n",
    "    acct_df = lp[lp['buyerid'] == acct]\n",
    "    acct_top = get_top(acct_df, message['top_3'], 'difference', asc=True)\n",
    "    adj_dollar_sign_for_negative_number(acct_top, 'difference')\n",
    "    acct_top['delta'] = np.vectorize(percent)(acct_top['delta'])\n",
    "    print(acct_top)\n",
    "#     adj_dollar_sign_for_negative_number(acct_top, difference)\n",
    "#     acct_top[delta] = np.vectorize(percent)(acct_top[delta])\n",
    "#     string = strheader\n",
    "#     if add_link is False:\n",
    "#         selectedCols = acct_top[[dimension, difference, delta]]\t\n",
    "#     else:\n",
    "#         selectedCols_ext = acct_top[[dimension, difference, delta, 'dsp']]\n",
    "#         selectedCols_ext[dimension] = \"<a href='\" + message['Tableau_dsp_pub'] + \"dsp=\" + selectedCols_ext['dsp'] + \"&publisher=\" + selectedCols_ext[dimension] + \"' >\" + selectedCols_ext[dimension] + '</a>'\t\n",
    "#         selectedCols = selectedCols_ext[[dimension, difference, delta]]\n",
    "#     for i in range(len(selectedCols)):\n",
    "#         val = ', '.join([str(i) for i in selectedCols.iloc[i]])\n",
    "#         string = string + val + \";  \"\n",
    "#     res.append(string)\n",
    "# return res "
   ]
  },
  {
   "cell_type": "code",
   "execution_count": null,
   "metadata": {
    "collapsed": false
   },
   "outputs": [],
   "source": [
    "a = is_dropped(-2.1, -3.6, 1.6)\n",
    "a"
   ]
  },
  {
   "cell_type": "code",
   "execution_count": null,
   "metadata": {
    "collapsed": true
   },
   "outputs": [],
   "source": [
    "possible_cause_threshold = -10\n",
    "\n",
    "def is_dropped(metric1, metric2, metric3):\n",
    "    if (metric1 < possible_cause_threshold or metric2 < possible_cause_threshold or metric3 < possible_cause_threshold):\n",
    "        return True \n",
    "    else: \n",
    "        return False \n",
    "    \n",
    "def is_increased(metric1, metric2, metric3):\n",
    "    if (metric1 > -possible_cause_threshold or metric2 > -possible_cause_threshold or metric3 > -possible_cause_threshold):\n",
    "        return True \n",
    "    else: \n",
    "        return False \n",
    "    \n",
    "def is_negative(metric1, metric2, metric3):\n",
    "    if (metric1 < 0 or metric2 < 0 or metric3 < 0):\n",
    "        return True \n",
    "    else: \n",
    "        return False \n",
    "\n",
    "def is_stable(metric1, metric2, metric3):\n",
    "    if (metric1 < 5 and metric1 > -5) and (metric2 < 5 and metric2 > -5) and (metric3 < 5 and metric3 > -5):\n",
    "        return True \n",
    "    else: \n",
    "        return False \n",
    "\n",
    "def get_summary(offer_pd, offer_4d, offer_7d, offerrate_pd, offerrate_4d, offerrate_7d, bidrate_pd, bidrate_4d, bidrate_7d, winrate_pd, winrate_4d, winrate_7d, revcpm_change_agst_pd, revcpm_change_agst_4davg, revcpm_change_agst_7davg, costcpm_change_agst_pd, costcpm_change_agst_4davg, costcpm_change_agst_7davg):\n",
    "    if (is_dropped(offer_pd, offer_4d, offer_7d) is True or is_dropped(offer_pd, offer_4d, offer_7d) is True) and (is_dropped(bidrate_pd, bidrate_4d, bidrate_7d) is False and is_dropped(winrate_pd, winrate_4d, winrate_7d) is False):\n",
    "        return \"most likely due to supply change. Please check rev-driving pubs' supply, DSP throttle changes such as PQS, domain/pub block etc.\"\n",
    "    elif (is_dropped(bidrate_pd, bidrate_4d, bidrate_7d) is True or is_dropped(winrate_pd, winrate_4d, winrate_7d) is True) and (is_dropped(offer_pd, offer_4d, offer_7d) is False and is_dropped(offer_pd, offer_4d, offer_7d) is False): \n",
    "        return \"most likely due to demand change. Please check if drop is expected.\"\n",
    "    elif (is_stable(offer_pd, offer_4d, offer_7d) is True and is_stable(offer_pd, offer_4d, offer_7d) is True) and is_dropped(winrate_pd, winrate_4d, winrate_7d) is True and is_increased(costcpm_change_agst_pd, costcpm_change_agst_4davg, costcpm_change_agst_7davg) is True and is_stable(revcpm_change_agst_pd, revcpm_change_agst_4davg, revcpm_change_agst_7davg) is True:\n",
    "        return \"most likely due to intenser competition in upstream auction or change on pub's floor\"\n",
    "    elif (is_dropped(offer_pd, offer_4d, offer_7d) is True or is_dropped(offer_pd, offer_4d, offer_7d) is True) and (is_dropped(bidrate_pd, bidrate_4d, bidrate_7d) is True or is_dropped(winrate_pd, winrate_4d, winrate_7d) is True):\n",
    "        return \"most likely due to both supply drop and demand drop. Please check both sides.\"\n",
    "    else:\n",
    "        return \"could be due to multiple reasons. Please check all metrics.\"\n",
    "    "
   ]
  },
  {
   "cell_type": "code",
   "execution_count": null,
   "metadata": {
    "collapsed": false
   },
   "outputs": [],
   "source": [
    "test['highlight'] = np.vectorize(get_summary)(test['offer_change_agst_pd'], test['offer_change_agst_4davg'], test['offer_change_agst_7davg'], test['offerrate_change_agst_pd'], test['offerrate_change_agst_4davg'], test['offerrate_change_agst_7davg'], test['bidrate_change_agst_pd'], test['bidrate_change_agst_4davg'], test['bidrate_change_agst_7davg'], test['winrate_change_agst_pd'], test['winrate_change_agst_4davg'], test['winrate_change_agst_7davg'], test['revcpm_change_agst_pd'], test['revcpm_change_agst_4davg'], test['revcpm_change_agst_7davg'], test['costcpm_change_agst_pd'], test['costcpm_change_agst_4davg'], test['costcpm_change_agst_7davg'])"
   ]
  },
  {
   "cell_type": "code",
   "execution_count": null,
   "metadata": {
    "collapsed": false
   },
   "outputs": [],
   "source": [
    "test.head()"
   ]
  },
  {
   "cell_type": "code",
   "execution_count": null,
   "metadata": {
    "collapsed": false
   },
   "outputs": [],
   "source": [
    "test.dtypes"
   ]
  },
  {
   "cell_type": "code",
   "execution_count": null,
   "metadata": {
    "collapsed": false
   },
   "outputs": [],
   "source": [
    "buyerid = test['buyerid'].T.drop_duplicates().T\n",
    "y = np.array(buyerid['buyerid'])\n",
    "param = ', '.join([str(i) for i in y])\n",
    "param"
   ]
  },
  {
   "cell_type": "code",
   "execution_count": null,
   "metadata": {
    "collapsed": false
   },
   "outputs": [],
   "source": [
    "bl = load_data(query['BIDLOSS'], \"dsp_bidloss\", param, 1)\n",
    "bls = bl[bl['buyerid'] == 547259]"
   ]
  },
  {
   "cell_type": "code",
   "execution_count": null,
   "metadata": {
    "collapsed": false
   },
   "outputs": [],
   "source": [
    "top = get_top(bls, 3, \"impressions\", asc=False )"
   ]
  },
  {
   "cell_type": "code",
   "execution_count": null,
   "metadata": {
    "collapsed": false
   },
   "outputs": [],
   "source": [
    "top"
   ]
  },
  {
   "cell_type": "code",
   "execution_count": null,
   "metadata": {
    "collapsed": false
   },
   "outputs": [],
   "source": [
    "dsp_pub = load_data(query['DSP-PUB'], \"dsp_pub\", param, 2)"
   ]
  },
  {
   "cell_type": "code",
   "execution_count": null,
   "metadata": {
    "collapsed": false
   },
   "outputs": [],
   "source": [
    "dsp_pub.head()"
   ]
  },
  {
   "cell_type": "code",
   "execution_count": null,
   "metadata": {
    "collapsed": true
   },
   "outputs": [],
   "source": [
    "dp = dsp_pub.sort_values(by = ['buyerid', 'rev_difference'], ascending = [True, True])"
   ]
  },
  {
   "cell_type": "code",
   "execution_count": null,
   "metadata": {
    "collapsed": false
   },
   "outputs": [],
   "source": [
    "pub = get_topdrop(param, query['DSP-PUB'], 'dsp_pub', 2, 'publisher','rev_difference', 'rev_delta', '* Top drop pubs: ')"
   ]
  },
  {
   "cell_type": "code",
   "execution_count": null,
   "metadata": {
    "collapsed": true
   },
   "outputs": [],
   "source": []
  },
  {
   "cell_type": "code",
   "execution_count": null,
   "metadata": {
    "collapsed": false
   },
   "outputs": [],
   "source": [
    "pubs = get_topdrop(y, dp, 'publisher','rev_difference', 'rev_delta', 'Top drop pubs: ' )\n",
    "pubs"
   ]
  },
  {
   "cell_type": "code",
   "execution_count": null,
   "metadata": {
    "collapsed": false
   },
   "outputs": [],
   "source": [
    "lan = load_data(query['LANDINGPAGE'], \"dsp_landingpage\", param, 1)\n",
    "#lan = lan.sort_values(by = ['buyerid', 'difference'], ascending = [True, True])"
   ]
  },
  {
   "cell_type": "code",
   "execution_count": null,
   "metadata": {
    "collapsed": false
   },
   "outputs": [],
   "source": [
    "lan.head()"
   ]
  },
  {
   "cell_type": "code",
   "execution_count": null,
   "metadata": {
    "collapsed": false
   },
   "outputs": [],
   "source": [
    "lans = get_topdrop(y, lan, 'landingpagedomain','difference', 'delta', 'Top drop campaigns: ' )\n",
    "lans"
   ]
  },
  {
   "cell_type": "code",
   "execution_count": null,
   "metadata": {
    "collapsed": true
   },
   "outputs": [],
   "source": [
    "dc = load_data(query['DC'], \"dsp_dc\", param, 1)"
   ]
  },
  {
   "cell_type": "code",
   "execution_count": null,
   "metadata": {
    "collapsed": false
   },
   "outputs": [],
   "source": [
    "dcs = get_topdrop(y, dc, 'dc','difference', 'delta', 'Change by DC: ' )\n",
    "dcs"
   ]
  },
  {
   "cell_type": "code",
   "execution_count": null,
   "metadata": {
    "collapsed": true
   },
   "outputs": [],
   "source": [
    "cn = load_data(query['CHANNEL'], \"dsp_channel\", param, 1)"
   ]
  },
  {
   "cell_type": "code",
   "execution_count": null,
   "metadata": {
    "collapsed": false
   },
   "outputs": [],
   "source": [
    "cns = get_topdrop(y, cn, 'channel','difference', 'delta', 'Change by Channel: ' )\n",
    "cns"
   ]
  },
  {
   "cell_type": "code",
   "execution_count": null,
   "metadata": {
    "collapsed": false
   },
   "outputs": [],
   "source": [
    "def load_data(sql, fname, param=None):\n",
    "    with open(sql) as f:\n",
    "        if param==None:\n",
    "            query = f.read().strip()\n",
    "        else:\n",
    "            query = f.read().strip() % (param, param)\n",
    "    filename = os.path.join(data_directory, \"{}_{}.pkl\".format(fname, datetime.datetime.now().strftime(\"%Y%m%d\")))\n",
    "    if os.path.exists(filename) is False:\n",
    "        df = pd.read_sql(query, create_engine(\"impala://impala.pulse.prod\"))\n",
    "        df.to_pickle(filename)\n",
    "    else:\n",
    "        df = pd.read_pickle(filename)\n",
    "    return df"
   ]
  },
  {
   "cell_type": "code",
   "execution_count": null,
   "metadata": {
    "collapsed": false
   },
   "outputs": [],
   "source": [
    "def cal_supply_demand_relationship(acctid):\n",
    "    acct = dp[dp['buyerid'] == acctid]\n",
    "    a = np.array(acct['rev_delta'])\n",
    "    b = np.array(acct['offer_delta'])\n",
    "    r = np.corrcoef(a,b)[1, 0]\n",
    "    print(r)"
   ]
  },
  {
   "cell_type": "code",
   "execution_count": null,
   "metadata": {
    "collapsed": false
   },
   "outputs": [],
   "source": [
    "for i in y:\n",
    "    print(i)\n",
    "    cal_supply_demand_relationship(i)"
   ]
  },
  {
   "cell_type": "code",
   "execution_count": null,
   "metadata": {
    "collapsed": true
   },
   "outputs": [],
   "source": [
    "\tday = df['day'][0]\n",
    "\taccts = pd.Series(df.index)\n",
    "\theaders = []\n",
    "\tvalue = []\n",
    "\tyesterday_cols = ['revenue' , 'offer' , 'offerrate' , 'offermatchrate' , 'bidrate' , 'blockrate' , 'winrate' , 'revcpm'\n",
    "\t                     , 'costcpm' , 'margin' , 'timeoutrate']\n",
    "\tyesterday = df[yesterday_cols]\n",
    "\tyesterday_T = yesterday.T\n",
    "\tdelta_col = list(df.loc[:, 'revenue_change_agst_pd':'timeoutrate_change_agst_7davg'])\n",
    "\tdelta = df[delta_col]"
   ]
  },
  {
   "cell_type": "code",
   "execution_count": null,
   "metadata": {
    "collapsed": true
   },
   "outputs": [],
   "source": [
    "\tfor acct in accts:\n",
    "\t\tacct_yesterday = yesterday_T[acct]\n",
    "\t\tpday = slice_data('pd', delta, acct)\n",
    "\t\tavg4d = slice_data('4davg', delta, acct) \n",
    "\t\tavg7d = slice_data('7davg', delta, acct) \n",
    "\t\tacct_data = pd.concat([acct_yesterday, pday, avg4d, avg7d], axis = 1, keys=[day, 'change agst prior day', 'change agst 4-day avg', 'change agst 7-day avg'])\n",
    "\t\tacct_data= acct_data.reset_index()\n",
    "\t\tdata = df_json(acct_data)\n",
    "\t\theader = data['columns']\n",
    "\t\tval = data['data']\n",
    "\t\theaders.append(header)\n",
    "\t\tvalue.append(val)"
   ]
  },
  {
   "cell_type": "code",
   "execution_count": null,
   "metadata": {
    "collapsed": false
   },
   "outputs": [],
   "source": [
    "acct_data"
   ]
  },
  {
   "cell_type": "code",
   "execution_count": null,
   "metadata": {
    "collapsed": false
   },
   "outputs": [],
   "source": [
    "acct_data['metric'] = acct_data['metric'].apply(lambda x: x.replace('rate', ' rate'))"
   ]
  },
  {
   "cell_type": "code",
   "execution_count": null,
   "metadata": {
    "collapsed": false
   },
   "outputs": [],
   "source": [
    "acct_data"
   ]
  },
  {
   "cell_type": "code",
   "execution_count": null,
   "metadata": {
    "collapsed": true
   },
   "outputs": [],
   "source": [
    "x = '-hello'"
   ]
  },
  {
   "cell_type": "code",
   "execution_count": null,
   "metadata": {
    "collapsed": false
   },
   "outputs": [],
   "source": [
    "y = x.split(\" \",1)\n",
    "y"
   ]
  },
  {
   "cell_type": "code",
   "execution_count": null,
   "metadata": {
    "collapsed": false
   },
   "outputs": [],
   "source": [
    "message = {\n",
    "    'top_n': 3,\n",
    "    'dsp_pub_Tableau_link': 'http://tableau:8000/#/views/DSPTrendsDashboard/DSPPublisherTrends7D?'\n",
    "}"
   ]
  },
  {
   "cell_type": "code",
   "execution_count": null,
   "metadata": {
    "collapsed": false
   },
   "outputs": [],
   "source": [
    "message['top_n']"
   ]
  },
  {
   "cell_type": "code",
   "execution_count": null,
   "metadata": {
    "collapsed": true
   },
   "outputs": [],
   "source": [
    "test = pd.read_pickle(\"dsp_landingpage_20170522.pkl\")"
   ]
  },
  {
   "cell_type": "code",
   "execution_count": null,
   "metadata": {
    "collapsed": false
   },
   "outputs": [],
   "source": [
    "def test_var_args(farg, *args):\n",
    "    print(\"formal arg:\", farg)\n",
    "    for arg in args:\n",
    "        print(\"another arg:\", arg)\n",
    "\n",
    "test_var_args(1, \"two\", 3)"
   ]
  },
  {
   "cell_type": "code",
   "execution_count": null,
   "metadata": {
    "collapsed": true
   },
   "outputs": [],
   "source": []
  }
 ],
 "metadata": {
  "kernelspec": {
   "display_name": "Python 3",
   "language": "python",
   "name": "python3"
  },
  "language_info": {
   "codemirror_mode": {
    "name": "ipython",
    "version": 3
   },
   "file_extension": ".py",
   "mimetype": "text/x-python",
   "name": "python",
   "nbconvert_exporter": "python",
   "pygments_lexer": "ipython3",
   "version": "3.6.0"
  }
 },
 "nbformat": 4,
 "nbformat_minor": 2
}
