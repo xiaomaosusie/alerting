{
 "cells": [
  {
   "cell_type": "code",
   "execution_count": null,
   "metadata": {
    "collapsed": false,
    "deletable": true,
    "editable": true
   },
   "outputs": [],
   "source": [
    "from IPython.core.display import display, HTML\n",
    "display(HTML(\"<style>.container { width:100% !important; }</style>\"))"
   ]
  },
  {
   "cell_type": "code",
   "execution_count": 1,
   "metadata": {
    "collapsed": true
   },
   "outputs": [],
   "source": [
    "import os, sys, datetime, datetime\n",
    "import _pickle as cPickle\n",
    "#import cPickle as pickle\n",
    "\n",
    "import pandas as pd\n",
    "import numpy as np\n",
    "from sqlalchemy import create_engine\n",
    "import functools\n",
    "import json\n",
    " \n",
    "from email_alert import EmailAlert"
   ]
  },
  {
   "cell_type": "code",
   "execution_count": 2,
   "metadata": {
    "collapsed": false,
    "deletable": true,
    "editable": true
   },
   "outputs": [
    {
     "name": "stderr",
     "output_type": "stream",
     "text": [
      "C:\\Users\\ssu\\Documents\\github\\alerting\\core_new.py:196: SettingWithCopyWarning: \n",
      "A value is trying to be set on a copy of a slice from a DataFrame.\n",
      "Try using .loc[row_indexer,col_indexer] = value instead\n",
      "\n",
      "See the caveats in the documentation: http://pandas.pydata.org/pandas-docs/stable/indexing.html#indexing-view-versus-copy\n",
      "  selectedCols_ext[dimension] = \"<a href='\" + message['Tableau_dsp_pub'] + \"dsp=\" + selectedCols_ext['dsp'] + \"&publisher=\" + selectedCols_ext[dimension] + \"' >\" + selectedCols_ext[dimension] + '</a>'\n"
     ]
    }
   ],
   "source": [
    "%run core_new.py"
   ]
  },
  {
   "cell_type": "code",
   "execution_count": null,
   "metadata": {
    "collapsed": false
   },
   "outputs": [],
   "source": [
    "df = pd.read_pickle('dsp_kpi_20170629.pkl')"
   ]
  },
  {
   "cell_type": "code",
   "execution_count": null,
   "metadata": {
    "collapsed": false
   },
   "outputs": [],
   "source": [
    "df.head()"
   ]
  },
  {
   "cell_type": "code",
   "execution_count": null,
   "metadata": {
    "collapsed": false
   },
   "outputs": [],
   "source": [
    "processed_data = run_data(df)\n",
    "acctid, accts, headers, value = transform_data(processed_data)"
   ]
  },
  {
   "cell_type": "code",
   "execution_count": null,
   "metadata": {
    "collapsed": false
   },
   "outputs": [],
   "source": [
    "acctid"
   ]
  },
  {
   "cell_type": "code",
   "execution_count": null,
   "metadata": {
    "collapsed": false
   },
   "outputs": [],
   "source": [
    "acctids = ', '.join([str(i) for i in acctid])\n",
    "acctids"
   ]
  },
  {
   "cell_type": "code",
   "execution_count": null,
   "metadata": {
    "collapsed": false
   },
   "outputs": [],
   "source": [
    "lp = load_data(query['LANDINGPAGE'], 'dsp_landingpage', acctids, 1)"
   ]
  },
  {
   "cell_type": "code",
   "execution_count": null,
   "metadata": {
    "collapsed": false
   },
   "outputs": [],
   "source": [
    "res = []\n",
    "for acct in acctid_array:\n",
    "    print(acct)\n",
    "    acct_df = lp[lp['buyerid'] == acct]\n",
    "    acct_top = get_top(acct_df, message['top_3'], 'difference', asc=True)\n",
    "    adj_dollar_sign_for_negative_number(acct_top, 'difference')\n",
    "    acct_top['delta'] = np.vectorize(percent)(acct_top['delta'])\n",
    "    print(acct_top)\n",
    "#     adj_dollar_sign_for_negative_number(acct_top, difference)\n",
    "#     acct_top[delta] = np.vectorize(percent)(acct_top[delta])\n",
    "#     string = strheader\n",
    "#     if add_link is False:\n",
    "#         selectedCols = acct_top[[dimension, difference, delta]]\t\n",
    "#     else:\n",
    "#         selectedCols_ext = acct_top[[dimension, difference, delta, 'dsp']]\n",
    "#         selectedCols_ext[dimension] = \"<a href='\" + message['Tableau_dsp_pub'] + \"dsp=\" + selectedCols_ext['dsp'] + \"&publisher=\" + selectedCols_ext[dimension] + \"' >\" + selectedCols_ext[dimension] + '</a>'\t\n",
    "#         selectedCols = selectedCols_ext[[dimension, difference, delta]]\n",
    "#     for i in range(len(selectedCols)):\n",
    "#         val = ', '.join([str(i) for i in selectedCols.iloc[i]])\n",
    "#         string = string + val + \";  \"\n",
    "#     res.append(string)\n",
    "# return res "
   ]
  },
  {
   "cell_type": "code",
   "execution_count": null,
   "metadata": {
    "collapsed": false
   },
   "outputs": [],
   "source": [
    "a = is_dropped(-2.1, -3.6, 1.6)\n",
    "a"
   ]
  },
  {
   "cell_type": "code",
   "execution_count": null,
   "metadata": {
    "collapsed": true
   },
   "outputs": [],
   "source": [
    "possible_cause_threshold = -10\n",
    "\n",
    "def is_dropped(metric1, metric2, metric3):\n",
    "    if (metric1 < possible_cause_threshold or metric2 < possible_cause_threshold or metric3 < possible_cause_threshold):\n",
    "        return True \n",
    "    else: \n",
    "        return False \n",
    "    \n",
    "def is_increased(metric1, metric2, metric3):\n",
    "    if (metric1 > -possible_cause_threshold or metric2 > -possible_cause_threshold or metric3 > -possible_cause_threshold):\n",
    "        return True \n",
    "    else: \n",
    "        return False \n",
    "    \n",
    "def is_negative(metric1, metric2, metric3):\n",
    "    if (metric1 < 0 or metric2 < 0 or metric3 < 0):\n",
    "        return True \n",
    "    else: \n",
    "        return False \n",
    "\n",
    "def is_stable(metric1, metric2, metric3):\n",
    "    if (metric1 < 5 and metric1 > -5) and (metric2 < 5 and metric2 > -5) and (metric3 < 5 and metric3 > -5):\n",
    "        return True \n",
    "    else: \n",
    "        return False \n",
    "\n",
    "def get_summary(offer_pd, offer_4d, offer_7d, offerrate_pd, offerrate_4d, offerrate_7d, bidrate_pd, bidrate_4d, bidrate_7d, winrate_pd, winrate_4d, winrate_7d, revcpm_change_agst_pd, revcpm_change_agst_4davg, revcpm_change_agst_7davg, costcpm_change_agst_pd, costcpm_change_agst_4davg, costcpm_change_agst_7davg):\n",
    "    if (is_dropped(offer_pd, offer_4d, offer_7d) is True or is_dropped(offer_pd, offer_4d, offer_7d) is True) and (is_dropped(bidrate_pd, bidrate_4d, bidrate_7d) is False and is_dropped(winrate_pd, winrate_4d, winrate_7d) is False):\n",
    "        return \"most likely due to supply change. Please check rev-driving pubs' supply, DSP throttle changes such as PQS, domain/pub block etc.\"\n",
    "    elif (is_dropped(bidrate_pd, bidrate_4d, bidrate_7d) is True or is_dropped(winrate_pd, winrate_4d, winrate_7d) is True) and (is_dropped(offer_pd, offer_4d, offer_7d) is False and is_dropped(offer_pd, offer_4d, offer_7d) is False): \n",
    "        return \"most likely due to demand change. Please check if drop is expected.\"\n",
    "    elif (is_stable(offer_pd, offer_4d, offer_7d) is True and is_stable(offer_pd, offer_4d, offer_7d) is True) and is_dropped(winrate_pd, winrate_4d, winrate_7d) is True and is_increased(costcpm_change_agst_pd, costcpm_change_agst_4davg, costcpm_change_agst_7davg) is True and is_stable(revcpm_change_agst_pd, revcpm_change_agst_4davg, revcpm_change_agst_7davg) is True:\n",
    "        return \"most likely due to intenser competition in upstream auction or change on pub's floor\"\n",
    "    elif (is_dropped(offer_pd, offer_4d, offer_7d) is True or is_dropped(offer_pd, offer_4d, offer_7d) is True) and (is_dropped(bidrate_pd, bidrate_4d, bidrate_7d) is True or is_dropped(winrate_pd, winrate_4d, winrate_7d) is True):\n",
    "        return \"most likely due to both supply drop and demand drop. Please check both sides.\"\n",
    "    else:\n",
    "        return \"could be due to multiple reasons. Please check all metrics.\"\n",
    "    "
   ]
  },
  {
   "cell_type": "code",
   "execution_count": null,
   "metadata": {
    "collapsed": false
   },
   "outputs": [],
   "source": [
    "test['highlight'] = np.vectorize(get_summary)(test['offer_change_agst_pd'], test['offer_change_agst_4davg'], test['offer_change_agst_7davg'], test['offerrate_change_agst_pd'], test['offerrate_change_agst_4davg'], test['offerrate_change_agst_7davg'], test['bidrate_change_agst_pd'], test['bidrate_change_agst_4davg'], test['bidrate_change_agst_7davg'], test['winrate_change_agst_pd'], test['winrate_change_agst_4davg'], test['winrate_change_agst_7davg'], test['revcpm_change_agst_pd'], test['revcpm_change_agst_4davg'], test['revcpm_change_agst_7davg'], test['costcpm_change_agst_pd'], test['costcpm_change_agst_4davg'], test['costcpm_change_agst_7davg'])"
   ]
  },
  {
   "cell_type": "code",
   "execution_count": null,
   "metadata": {
    "collapsed": false
   },
   "outputs": [],
   "source": [
    "test.head()"
   ]
  },
  {
   "cell_type": "code",
   "execution_count": null,
   "metadata": {
    "collapsed": false
   },
   "outputs": [],
   "source": [
    "test.dtypes"
   ]
  },
  {
   "cell_type": "code",
   "execution_count": null,
   "metadata": {
    "collapsed": false
   },
   "outputs": [],
   "source": [
    "buyerid = test['buyerid'].T.drop_duplicates().T\n",
    "y = np.array(buyerid['buyerid'])\n",
    "param = ', '.join([str(i) for i in y])\n",
    "param"
   ]
  },
  {
   "cell_type": "code",
   "execution_count": null,
   "metadata": {
    "collapsed": false
   },
   "outputs": [],
   "source": [
    "bl = load_data(query['BIDLOSS'], \"dsp_bidloss\", param, 1)\n",
    "bls = bl[bl['buyerid'] == 547259]"
   ]
  },
  {
   "cell_type": "code",
   "execution_count": null,
   "metadata": {
    "collapsed": false
   },
   "outputs": [],
   "source": [
    "top = get_top(bls, 3, \"impressions\", asc=False )"
   ]
  },
  {
   "cell_type": "code",
   "execution_count": null,
   "metadata": {
    "collapsed": false
   },
   "outputs": [],
   "source": [
    "top"
   ]
  },
  {
   "cell_type": "code",
   "execution_count": null,
   "metadata": {
    "collapsed": false
   },
   "outputs": [],
   "source": [
    "dsp_pub = load_data(query['DSP-PUB'], \"dsp_pub\", param, 2)"
   ]
  },
  {
   "cell_type": "code",
   "execution_count": null,
   "metadata": {
    "collapsed": false
   },
   "outputs": [],
   "source": [
    "dsp_pub.head()"
   ]
  },
  {
   "cell_type": "code",
   "execution_count": null,
   "metadata": {
    "collapsed": true
   },
   "outputs": [],
   "source": [
    "dp = dsp_pub.sort_values(by = ['buyerid', 'rev_difference'], ascending = [True, True])"
   ]
  },
  {
   "cell_type": "code",
   "execution_count": null,
   "metadata": {
    "collapsed": false
   },
   "outputs": [],
   "source": [
    "pub = get_topdrop(param, query['DSP-PUB'], 'dsp_pub', 2, 'publisher','rev_difference', 'rev_delta', '* Top drop pubs: ')"
   ]
  },
  {
   "cell_type": "code",
   "execution_count": null,
   "metadata": {
    "collapsed": true
   },
   "outputs": [],
   "source": []
  },
  {
   "cell_type": "code",
   "execution_count": null,
   "metadata": {
    "collapsed": false
   },
   "outputs": [],
   "source": [
    "pubs = get_topdrop(y, dp, 'publisher','rev_difference', 'rev_delta', 'Top drop pubs: ' )\n",
    "pubs"
   ]
  },
  {
   "cell_type": "code",
   "execution_count": null,
   "metadata": {
    "collapsed": false
   },
   "outputs": [],
   "source": [
    "lan = load_data(query['LANDINGPAGE'], \"dsp_landingpage\", param, 1)\n",
    "#lan = lan.sort_values(by = ['buyerid', 'difference'], ascending = [True, True])"
   ]
  },
  {
   "cell_type": "code",
   "execution_count": null,
   "metadata": {
    "collapsed": false
   },
   "outputs": [],
   "source": [
    "lan.head()"
   ]
  },
  {
   "cell_type": "code",
   "execution_count": null,
   "metadata": {
    "collapsed": false
   },
   "outputs": [],
   "source": [
    "lans = get_topdrop(y, lan, 'landingpagedomain','difference', 'delta', 'Top drop campaigns: ' )\n",
    "lans"
   ]
  },
  {
   "cell_type": "code",
   "execution_count": null,
   "metadata": {
    "collapsed": true
   },
   "outputs": [],
   "source": [
    "dc = load_data(query['DC'], \"dsp_dc\", param, 1)"
   ]
  },
  {
   "cell_type": "code",
   "execution_count": null,
   "metadata": {
    "collapsed": false
   },
   "outputs": [],
   "source": [
    "dcs = get_topdrop(y, dc, 'dc','difference', 'delta', 'Change by DC: ' )\n",
    "dcs"
   ]
  },
  {
   "cell_type": "code",
   "execution_count": null,
   "metadata": {
    "collapsed": true
   },
   "outputs": [],
   "source": [
    "cn = load_data(query['CHANNEL'], \"dsp_channel\", param, 1)"
   ]
  },
  {
   "cell_type": "code",
   "execution_count": null,
   "metadata": {
    "collapsed": false
   },
   "outputs": [],
   "source": [
    "cns = get_topdrop(y, cn, 'channel','difference', 'delta', 'Change by Channel: ' )\n",
    "cns"
   ]
  },
  {
   "cell_type": "code",
   "execution_count": null,
   "metadata": {
    "collapsed": false
   },
   "outputs": [],
   "source": [
    "def load_data(sql, fname, param=None):\n",
    "    with open(sql) as f:\n",
    "        if param==None:\n",
    "            query = f.read().strip()\n",
    "        else:\n",
    "            query = f.read().strip() % (param, param)\n",
    "    filename = os.path.join(data_directory, \"{}_{}.pkl\".format(fname, datetime.datetime.now().strftime(\"%Y%m%d\")))\n",
    "    if os.path.exists(filename) is False:\n",
    "        df = pd.read_sql(query, create_engine(\"impala://impala.pulse.prod\"))\n",
    "        df.to_pickle(filename)\n",
    "    else:\n",
    "        df = pd.read_pickle(filename)\n",
    "    return df"
   ]
  },
  {
   "cell_type": "code",
   "execution_count": null,
   "metadata": {
    "collapsed": false
   },
   "outputs": [],
   "source": [
    "def cal_supply_demand_relationship(acctid):\n",
    "    acct = dp[dp['buyerid'] == acctid]\n",
    "    a = np.array(acct['rev_delta'])\n",
    "    b = np.array(acct['offer_delta'])\n",
    "    r = np.corrcoef(a,b)[1, 0]\n",
    "    print(r)"
   ]
  },
  {
   "cell_type": "code",
   "execution_count": null,
   "metadata": {
    "collapsed": false
   },
   "outputs": [],
   "source": [
    "for i in y:\n",
    "    print(i)\n",
    "    cal_supply_demand_relationship(i)"
   ]
  },
  {
   "cell_type": "code",
   "execution_count": null,
   "metadata": {
    "collapsed": true
   },
   "outputs": [],
   "source": [
    "\tday = df['day'][0]\n",
    "\taccts = pd.Series(df.index)\n",
    "\theaders = []\n",
    "\tvalue = []\n",
    "\tyesterday_cols = ['revenue' , 'offer' , 'offerrate' , 'offermatchrate' , 'bidrate' , 'blockrate' , 'winrate' , 'revcpm'\n",
    "\t                     , 'costcpm' , 'margin' , 'timeoutrate']\n",
    "\tyesterday = df[yesterday_cols]\n",
    "\tyesterday_T = yesterday.T\n",
    "\tdelta_col = list(df.loc[:, 'revenue_change_agst_pd':'timeoutrate_change_agst_7davg'])\n",
    "\tdelta = df[delta_col]"
   ]
  },
  {
   "cell_type": "code",
   "execution_count": null,
   "metadata": {
    "collapsed": true
   },
   "outputs": [],
   "source": [
    "\tfor acct in accts:\n",
    "\t\tacct_yesterday = yesterday_T[acct]\n",
    "\t\tpday = slice_data('pd', delta, acct)\n",
    "\t\tavg4d = slice_data('4davg', delta, acct) \n",
    "\t\tavg7d = slice_data('7davg', delta, acct) \n",
    "\t\tacct_data = pd.concat([acct_yesterday, pday, avg4d, avg7d], axis = 1, keys=[day, 'change agst prior day', 'change agst 4-day avg', 'change agst 7-day avg'])\n",
    "\t\tacct_data= acct_data.reset_index()\n",
    "\t\tdata = df_json(acct_data)\n",
    "\t\theader = data['columns']\n",
    "\t\tval = data['data']\n",
    "\t\theaders.append(header)\n",
    "\t\tvalue.append(val)"
   ]
  },
  {
   "cell_type": "code",
   "execution_count": null,
   "metadata": {
    "collapsed": false
   },
   "outputs": [],
   "source": [
    "acct_data"
   ]
  },
  {
   "cell_type": "code",
   "execution_count": null,
   "metadata": {
    "collapsed": false
   },
   "outputs": [],
   "source": [
    "acct_data['metric'] = acct_data['metric'].apply(lambda x: x.replace('rate', ' rate'))"
   ]
  },
  {
   "cell_type": "code",
   "execution_count": null,
   "metadata": {
    "collapsed": false
   },
   "outputs": [],
   "source": [
    "acct_data"
   ]
  },
  {
   "cell_type": "code",
   "execution_count": null,
   "metadata": {
    "collapsed": true
   },
   "outputs": [],
   "source": [
    "x = '-hello'"
   ]
  },
  {
   "cell_type": "code",
   "execution_count": null,
   "metadata": {
    "collapsed": false
   },
   "outputs": [],
   "source": [
    "y = x.split(\" \",1)\n",
    "y"
   ]
  },
  {
   "cell_type": "code",
   "execution_count": null,
   "metadata": {
    "collapsed": false
   },
   "outputs": [],
   "source": [
    "message = {\n",
    "    'top_n': 3,\n",
    "    'dsp_pub_Tableau_link': 'http://tableau:8000/#/views/DSPTrendsDashboard/DSPPublisherTrends7D?'\n",
    "}"
   ]
  },
  {
   "cell_type": "code",
   "execution_count": null,
   "metadata": {
    "collapsed": false
   },
   "outputs": [],
   "source": [
    "message['top_n']"
   ]
  },
  {
   "cell_type": "code",
   "execution_count": null,
   "metadata": {
    "collapsed": true
   },
   "outputs": [],
   "source": [
    "test = pd.read_pickle(\"dsp_landingpage_20170522.pkl\")"
   ]
  },
  {
   "cell_type": "code",
   "execution_count": null,
   "metadata": {
    "collapsed": true
   },
   "outputs": [],
   "source": []
  }
 ],
 "metadata": {
  "kernelspec": {
   "display_name": "Python 3",
   "language": "python",
   "name": "python3"
  },
  "language_info": {
   "codemirror_mode": {
    "name": "ipython",
    "version": 3
   },
   "file_extension": ".py",
   "mimetype": "text/x-python",
   "name": "python",
   "nbconvert_exporter": "python",
   "pygments_lexer": "ipython3",
   "version": "3.6.0"
  }
 },
 "nbformat": 4,
 "nbformat_minor": 2
}
