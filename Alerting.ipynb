{
 "cells": [
  {
   "cell_type": "code",
   "execution_count": null,
   "metadata": {
    "collapsed": false,
    "deletable": true,
    "editable": true
   },
   "outputs": [],
   "source": [
    "from IPython.core.display import display, HTML\n",
    "display(HTML(\"<style>.container { width:100% !important; }</style>\"))"
   ]
  },
  {
   "cell_type": "code",
   "execution_count": 1,
   "metadata": {
    "collapsed": false,
    "deletable": true,
    "editable": true
   },
   "outputs": [],
   "source": [
    "%run core_new.py"
   ]
  },
  {
   "cell_type": "code",
   "execution_count": 2,
   "metadata": {
    "collapsed": true
   },
   "outputs": [],
   "source": [
    "pd.set_option('max_colwidth',180)\n",
    "pd.set_option('display.max_rows', 500)\n",
    "pd.set_option('display.max_columns', 500)\n",
    "pd.set_option('display.width', 1000)"
   ]
  },
  {
   "cell_type": "markdown",
   "metadata": {},
   "source": [
    "### DSP ###"
   ]
  },
  {
   "cell_type": "code",
   "execution_count": 3,
   "metadata": {
    "collapsed": false
   },
   "outputs": [
    {
     "name": "stdout",
     "output_type": "stream",
     "text": [
      "No files removed: no files as of the day requested\n"
     ]
    },
    {
     "name": "stderr",
     "output_type": "stream",
     "text": [
      "C:\\Users\\ssu\\Documents\\github\\alerting\\process_data.py:24: SettingWithCopyWarning: \n",
      "A value is trying to be set on a copy of a slice from a DataFrame.\n",
      "Try using .loc[row_indexer,col_indexer] = value instead\n",
      "\n",
      "See the caveats in the documentation: http://pandas.pydata.org/pandas-docs/stable/indexing.html#indexing-view-versus-copy\n",
      "  result['is_daily'] = result.apply(lambda row: 1 if row['revenue_change_agst_pd_pct'] <= -pctCutoff else 0, axis = 1)\n"
     ]
    }
   ],
   "source": [
    "dsp = pp_data(dsp_queries['dsp'])\n",
    "df = dsp.get_data(\"dsp\")\n",
    "processed_df = process_data(df)\n",
    "#jumpers = processed_df.get_jumper(\"advertiser\", 0.1, 5000, 1000)\n",
    "droppers = processed_df.get_dropper(\"advertiser\", 0.15, 5000, 1000)"
   ]
  },
  {
   "cell_type": "code",
   "execution_count": 4,
   "metadata": {
    "collapsed": false
   },
   "outputs": [
    {
     "data": {
      "text/html": [
       "<div>\n",
       "<table border=\"1\" class=\"dataframe\">\n",
       "  <thead>\n",
       "    <tr style=\"text-align: right;\">\n",
       "      <th></th>\n",
       "      <th>am</th>\n",
       "      <th>email</th>\n",
       "      <th>day</th>\n",
       "      <th>accountid</th>\n",
       "      <th>offer_mm</th>\n",
       "      <th>offermatchrate_pct</th>\n",
       "      <th>bidrate_pct</th>\n",
       "      <th>timeoutrate_pct</th>\n",
       "      <th>blockrate_pct</th>\n",
       "      <th>winrate_pct</th>\n",
       "      <th>revenue_cur</th>\n",
       "      <th>revcpm_cur</th>\n",
       "      <th>costcpm_cur</th>\n",
       "      <th>margin_pct</th>\n",
       "      <th>offerrate_pct</th>\n",
       "      <th>accountid</th>\n",
       "      <th>pdbidsofferedtotal</th>\n",
       "      <th>pdoffermatchrate</th>\n",
       "      <th>pdbidrate</th>\n",
       "      <th>pdtimeoutrate</th>\n",
       "      <th>pdblockrate</th>\n",
       "      <th>pdwinrate</th>\n",
       "      <th>pdrevenue</th>\n",
       "      <th>pdrevcpm</th>\n",
       "      <th>pdcostcpm</th>\n",
       "      <th>pdmargin</th>\n",
       "      <th>pdofferrate</th>\n",
       "      <th>accountid</th>\n",
       "      <th>4davgbidsofferedtotal</th>\n",
       "      <th>4doffermatchrate</th>\n",
       "      <th>4dbidrate</th>\n",
       "      <th>4dtimeoutrate</th>\n",
       "      <th>4dblockrate</th>\n",
       "      <th>4dwinrate</th>\n",
       "      <th>4davgrevenue</th>\n",
       "      <th>4drevcpm</th>\n",
       "      <th>4dcostcpm</th>\n",
       "      <th>4dmargin</th>\n",
       "      <th>4dofferrate</th>\n",
       "      <th>accountid</th>\n",
       "      <th>7davgbidsofferedtotal</th>\n",
       "      <th>7doffermatchrate</th>\n",
       "      <th>7dbidrate</th>\n",
       "      <th>7dtimeoutrate</th>\n",
       "      <th>7dblockrate</th>\n",
       "      <th>7dwinrate</th>\n",
       "      <th>7davgrevenue</th>\n",
       "      <th>7drevcpm</th>\n",
       "      <th>7dcostcpm</th>\n",
       "      <th>7dmargin</th>\n",
       "      <th>7dofferrate</th>\n",
       "      <th>rev_diff_agst_pd_cur</th>\n",
       "      <th>revenue_change_agst_pd_pct</th>\n",
       "      <th>revenue_change_agst_4davg_pct</th>\n",
       "      <th>revenue_change_agst_7davg_pct</th>\n",
       "      <th>offer_change_agst_pd_pct</th>\n",
       "      <th>offer_change_agst_4davg_pct</th>\n",
       "      <th>offer_change_agst_7davg_pct</th>\n",
       "      <th>offerrate_change_agst_pd_pct</th>\n",
       "      <th>offerrate_change_agst_4davg_pct</th>\n",
       "      <th>offerrate_change_agst_7davg_pct</th>\n",
       "      <th>offermatchrate_change_agst_pd_pct</th>\n",
       "      <th>offermatchrate_change_agst_4davg_pct</th>\n",
       "      <th>offermatchrate_change_agst_7davg_pct</th>\n",
       "      <th>bidrate_change_agst_pd_pct</th>\n",
       "      <th>bidrate_change_agst_4davg_pct</th>\n",
       "      <th>bidrate_change_agst_7davg_pct</th>\n",
       "      <th>blockrate_change_agst_pd_pct</th>\n",
       "      <th>blockrate_change_agst_4davg_pct</th>\n",
       "      <th>blockrate_change_agst_7davg_pct</th>\n",
       "      <th>winrate_change_agst_pd_pct</th>\n",
       "      <th>winrate_change_agst_4davg_pct</th>\n",
       "      <th>winrate_change_agst_7davg_pct</th>\n",
       "      <th>revcpm_change_agst_pd_pct</th>\n",
       "      <th>revcpm_change_agst_4davg_pct</th>\n",
       "      <th>revcpm_change_agst_7davg_pct</th>\n",
       "      <th>costcpm_change_agst_pd_pct</th>\n",
       "      <th>costcpm_change_agst_4davg_pct</th>\n",
       "      <th>costcpm_change_agst_7davg_pct</th>\n",
       "      <th>margin_change_agst_pd_pct</th>\n",
       "      <th>margin_change_agst_4davg_pct</th>\n",
       "      <th>margin_change_agst_7davg_pct</th>\n",
       "      <th>timeoutrate_change_agst_pd_pct</th>\n",
       "      <th>timeoutrate_change_agst_4davg_pct</th>\n",
       "      <th>timeoutrate_change_agst_7davg_pct</th>\n",
       "      <th>is_daily</th>\n",
       "    </tr>\n",
       "    <tr>\n",
       "      <th>advertiser</th>\n",
       "      <th></th>\n",
       "      <th></th>\n",
       "      <th></th>\n",
       "      <th></th>\n",
       "      <th></th>\n",
       "      <th></th>\n",
       "      <th></th>\n",
       "      <th></th>\n",
       "      <th></th>\n",
       "      <th></th>\n",
       "      <th></th>\n",
       "      <th></th>\n",
       "      <th></th>\n",
       "      <th></th>\n",
       "      <th></th>\n",
       "      <th></th>\n",
       "      <th></th>\n",
       "      <th></th>\n",
       "      <th></th>\n",
       "      <th></th>\n",
       "      <th></th>\n",
       "      <th></th>\n",
       "      <th></th>\n",
       "      <th></th>\n",
       "      <th></th>\n",
       "      <th></th>\n",
       "      <th></th>\n",
       "      <th></th>\n",
       "      <th></th>\n",
       "      <th></th>\n",
       "      <th></th>\n",
       "      <th></th>\n",
       "      <th></th>\n",
       "      <th></th>\n",
       "      <th></th>\n",
       "      <th></th>\n",
       "      <th></th>\n",
       "      <th></th>\n",
       "      <th></th>\n",
       "      <th></th>\n",
       "      <th></th>\n",
       "      <th></th>\n",
       "      <th></th>\n",
       "      <th></th>\n",
       "      <th></th>\n",
       "      <th></th>\n",
       "      <th></th>\n",
       "      <th></th>\n",
       "      <th></th>\n",
       "      <th></th>\n",
       "      <th></th>\n",
       "      <th></th>\n",
       "      <th></th>\n",
       "      <th></th>\n",
       "      <th></th>\n",
       "      <th></th>\n",
       "      <th></th>\n",
       "      <th></th>\n",
       "      <th></th>\n",
       "      <th></th>\n",
       "      <th></th>\n",
       "      <th></th>\n",
       "      <th></th>\n",
       "      <th></th>\n",
       "      <th></th>\n",
       "      <th></th>\n",
       "      <th></th>\n",
       "      <th></th>\n",
       "      <th></th>\n",
       "      <th></th>\n",
       "      <th></th>\n",
       "      <th></th>\n",
       "      <th></th>\n",
       "      <th></th>\n",
       "      <th></th>\n",
       "      <th></th>\n",
       "      <th></th>\n",
       "      <th></th>\n",
       "      <th></th>\n",
       "      <th></th>\n",
       "      <th></th>\n",
       "      <th></th>\n",
       "      <th></th>\n",
       "      <th></th>\n",
       "      <th></th>\n",
       "      <th></th>\n",
       "    </tr>\n",
       "  </thead>\n",
       "  <tbody>\n",
       "    <tr>\n",
       "      <th>RTB-DBM</th>\n",
       "      <td>Ben</td>\n",
       "      <td>bpheloung@pulsepoint.com</td>\n",
       "      <td>2017-07-12</td>\n",
       "      <td>547259</td>\n",
       "      <td>8400538990</td>\n",
       "      <td>44</td>\n",
       "      <td>22.0</td>\n",
       "      <td>5.1</td>\n",
       "      <td>4.9</td>\n",
       "      <td>2.8</td>\n",
       "      <td>97902</td>\n",
       "      <td>1.86</td>\n",
       "      <td>1.32</td>\n",
       "      <td>28.8</td>\n",
       "      <td>34.5</td>\n",
       "      <td>547259</td>\n",
       "      <td>8521063327</td>\n",
       "      <td>45</td>\n",
       "      <td>23.8</td>\n",
       "      <td>4.1</td>\n",
       "      <td>4.6</td>\n",
       "      <td>2.7</td>\n",
       "      <td>107130</td>\n",
       "      <td>1.97</td>\n",
       "      <td>1.40</td>\n",
       "      <td>28.9</td>\n",
       "      <td>34.2</td>\n",
       "      <td>547259</td>\n",
       "      <td>8250138648</td>\n",
       "      <td>42</td>\n",
       "      <td>22.9</td>\n",
       "      <td>3.7</td>\n",
       "      <td>4.8</td>\n",
       "      <td>2.8</td>\n",
       "      <td>104071</td>\n",
       "      <td>1.93</td>\n",
       "      <td>1.37</td>\n",
       "      <td>28.9</td>\n",
       "      <td>33.3</td>\n",
       "      <td>547259</td>\n",
       "      <td>8255380496</td>\n",
       "      <td>42</td>\n",
       "      <td>22.3</td>\n",
       "      <td>3.8</td>\n",
       "      <td>4.7</td>\n",
       "      <td>2.9</td>\n",
       "      <td>103204</td>\n",
       "      <td>1.91</td>\n",
       "      <td>1.36</td>\n",
       "      <td>28.8</td>\n",
       "      <td>33.7</td>\n",
       "      <td>-9228</td>\n",
       "      <td>-8.6</td>\n",
       "      <td>-5.9</td>\n",
       "      <td>-5.1</td>\n",
       "      <td>-1.4</td>\n",
       "      <td>1.8</td>\n",
       "      <td>1.8</td>\n",
       "      <td>0.9</td>\n",
       "      <td>3.6</td>\n",
       "      <td>2.4</td>\n",
       "      <td>-2.2</td>\n",
       "      <td>4.8</td>\n",
       "      <td>4.8</td>\n",
       "      <td>-7.6</td>\n",
       "      <td>-3.9</td>\n",
       "      <td>-1.3</td>\n",
       "      <td>6.5</td>\n",
       "      <td>2.1</td>\n",
       "      <td>4.3</td>\n",
       "      <td>3.7</td>\n",
       "      <td>0.0</td>\n",
       "      <td>-3.4</td>\n",
       "      <td>-5.6</td>\n",
       "      <td>-3.6</td>\n",
       "      <td>-2.6</td>\n",
       "      <td>-5.7</td>\n",
       "      <td>-3.6</td>\n",
       "      <td>-2.9</td>\n",
       "      <td>-0.3</td>\n",
       "      <td>-0.3</td>\n",
       "      <td>0.0</td>\n",
       "      <td>24.4</td>\n",
       "      <td>37.8</td>\n",
       "      <td>34.2</td>\n",
       "      <td>1</td>\n",
       "    </tr>\n",
       "    <tr>\n",
       "      <th>RTB-The-Trade-Desk</th>\n",
       "      <td>Kurt</td>\n",
       "      <td>KChristensen@pulsepoint.com</td>\n",
       "      <td>2017-07-12</td>\n",
       "      <td>534301</td>\n",
       "      <td>10201841009</td>\n",
       "      <td>37</td>\n",
       "      <td>4.0</td>\n",
       "      <td>4.8</td>\n",
       "      <td>12.1</td>\n",
       "      <td>3.0</td>\n",
       "      <td>31804</td>\n",
       "      <td>2.66</td>\n",
       "      <td>1.91</td>\n",
       "      <td>28.1</td>\n",
       "      <td>41.9</td>\n",
       "      <td>534301</td>\n",
       "      <td>12172428453</td>\n",
       "      <td>33</td>\n",
       "      <td>3.6</td>\n",
       "      <td>4.7</td>\n",
       "      <td>11.2</td>\n",
       "      <td>3.2</td>\n",
       "      <td>38122</td>\n",
       "      <td>2.77</td>\n",
       "      <td>2.02</td>\n",
       "      <td>26.9</td>\n",
       "      <td>48.8</td>\n",
       "      <td>534301</td>\n",
       "      <td>13480047149</td>\n",
       "      <td>29</td>\n",
       "      <td>3.3</td>\n",
       "      <td>4.8</td>\n",
       "      <td>8.3</td>\n",
       "      <td>3.3</td>\n",
       "      <td>41010</td>\n",
       "      <td>2.78</td>\n",
       "      <td>1.99</td>\n",
       "      <td>28.5</td>\n",
       "      <td>54.4</td>\n",
       "      <td>534301</td>\n",
       "      <td>13573611992</td>\n",
       "      <td>28</td>\n",
       "      <td>3.1</td>\n",
       "      <td>4.9</td>\n",
       "      <td>9.1</td>\n",
       "      <td>3.4</td>\n",
       "      <td>40088</td>\n",
       "      <td>2.81</td>\n",
       "      <td>2.00</td>\n",
       "      <td>28.9</td>\n",
       "      <td>55.4</td>\n",
       "      <td>-6318</td>\n",
       "      <td>-16.6</td>\n",
       "      <td>-22.4</td>\n",
       "      <td>-20.7</td>\n",
       "      <td>-16.2</td>\n",
       "      <td>-24.3</td>\n",
       "      <td>-24.8</td>\n",
       "      <td>-14.1</td>\n",
       "      <td>-23.0</td>\n",
       "      <td>-24.4</td>\n",
       "      <td>12.1</td>\n",
       "      <td>27.6</td>\n",
       "      <td>32.1</td>\n",
       "      <td>11.1</td>\n",
       "      <td>21.2</td>\n",
       "      <td>29.0</td>\n",
       "      <td>8.0</td>\n",
       "      <td>45.8</td>\n",
       "      <td>33.0</td>\n",
       "      <td>-6.3</td>\n",
       "      <td>-9.1</td>\n",
       "      <td>-11.8</td>\n",
       "      <td>-4.0</td>\n",
       "      <td>-4.3</td>\n",
       "      <td>-5.3</td>\n",
       "      <td>-5.4</td>\n",
       "      <td>-4.0</td>\n",
       "      <td>-4.5</td>\n",
       "      <td>4.5</td>\n",
       "      <td>-1.4</td>\n",
       "      <td>-2.8</td>\n",
       "      <td>2.1</td>\n",
       "      <td>0.0</td>\n",
       "      <td>-2.0</td>\n",
       "      <td>1</td>\n",
       "    </tr>\n",
       "  </tbody>\n",
       "</table>\n",
       "</div>"
      ],
      "text/plain": [
       "                      am                        email         day  accountid     offer_mm  offermatchrate_pct  bidrate_pct  timeoutrate_pct  blockrate_pct  winrate_pct  revenue_cur  revcpm_cur  costcpm_cur  margin_pct  offerrate_pct  accountid  pdbidsofferedtotal  pdoffermatchrate  pdbidrate  pdtimeoutrate  pdblockrate  pdwinrate  pdrevenue  pdrevcpm  pdcostcpm  pdmargin  pdofferrate  accountid  4davgbidsofferedtotal  4doffermatchrate  4dbidrate  4dtimeoutrate  4dblockrate  4dwinrate  4davgrevenue  4drevcpm  4dcostcpm  4dmargin  4dofferrate  accountid  7davgbidsofferedtotal  7doffermatchrate  7dbidrate  7dtimeoutrate  7dblockrate  7dwinrate  7davgrevenue  7drevcpm  7dcostcpm  7dmargin  7dofferrate  rev_diff_agst_pd_cur  revenue_change_agst_pd_pct  revenue_change_agst_4davg_pct  revenue_change_agst_7davg_pct  offer_change_agst_pd_pct  offer_change_agst_4davg_pct  offer_change_agst_7davg_pct  offerrate_change_agst_pd_pct  offerrate_change_agst_4davg_pct  \\\n",
       "advertiser                                                                                                                                                                                                                                                                                                                                                                                                                                                                                                                                                                                                                                                                                                                                                                                                                                                                                                                                                                                              \n",
       "RTB-DBM              Ben     bpheloung@pulsepoint.com  2017-07-12     547259   8400538990                  44         22.0              5.1            4.9          2.8        97902        1.86         1.32        28.8           34.5     547259          8521063327                45       23.8            4.1          4.6        2.7     107130      1.97       1.40      28.9         34.2     547259             8250138648                42       22.9            3.7          4.8        2.8        104071      1.93       1.37      28.9         33.3     547259             8255380496                42       22.3            3.8          4.7        2.9        103204      1.91       1.36      28.8         33.7                 -9228                        -8.6                           -5.9                           -5.1                      -1.4                          1.8                          1.8                           0.9                              3.6   \n",
       "RTB-The-Trade-Desk  Kurt  KChristensen@pulsepoint.com  2017-07-12     534301  10201841009                  37          4.0              4.8           12.1          3.0        31804        2.66         1.91        28.1           41.9     534301         12172428453                33        3.6            4.7         11.2        3.2      38122      2.77       2.02      26.9         48.8     534301            13480047149                29        3.3            4.8          8.3        3.3         41010      2.78       1.99      28.5         54.4     534301            13573611992                28        3.1            4.9          9.1        3.4         40088      2.81       2.00      28.9         55.4                 -6318                       -16.6                          -22.4                          -20.7                     -16.2                        -24.3                        -24.8                         -14.1                            -23.0   \n",
       "\n",
       "                    offerrate_change_agst_7davg_pct  offermatchrate_change_agst_pd_pct  offermatchrate_change_agst_4davg_pct  offermatchrate_change_agst_7davg_pct  bidrate_change_agst_pd_pct  bidrate_change_agst_4davg_pct  bidrate_change_agst_7davg_pct  blockrate_change_agst_pd_pct  blockrate_change_agst_4davg_pct  blockrate_change_agst_7davg_pct  winrate_change_agst_pd_pct  winrate_change_agst_4davg_pct  winrate_change_agst_7davg_pct  revcpm_change_agst_pd_pct  revcpm_change_agst_4davg_pct  revcpm_change_agst_7davg_pct  costcpm_change_agst_pd_pct  costcpm_change_agst_4davg_pct  costcpm_change_agst_7davg_pct  margin_change_agst_pd_pct  margin_change_agst_4davg_pct  margin_change_agst_7davg_pct  timeoutrate_change_agst_pd_pct  timeoutrate_change_agst_4davg_pct  timeoutrate_change_agst_7davg_pct  is_daily  \n",
       "advertiser                                                                                                                                                                                                                                                                                                                                                                                                                                                                                                                                                                                                                                                                                                                                                                                                                                      \n",
       "RTB-DBM                                         2.4                               -2.2                                   4.8                                   4.8                        -7.6                           -3.9                           -1.3                           6.5                              2.1                              4.3                         3.7                            0.0                           -3.4                       -5.6                          -3.6                          -2.6                        -5.7                           -3.6                           -2.9                       -0.3                          -0.3                           0.0                            24.4                               37.8                               34.2         1  \n",
       "RTB-The-Trade-Desk                            -24.4                               12.1                                  27.6                                  32.1                        11.1                           21.2                           29.0                           8.0                             45.8                             33.0                        -6.3                           -9.1                          -11.8                       -4.0                          -4.3                          -5.3                        -5.4                           -4.0                           -4.5                        4.5                          -1.4                          -2.8                             2.1                                0.0                               -2.0         1  "
      ]
     },
     "execution_count": 4,
     "metadata": {},
     "output_type": "execute_result"
    }
   ],
   "source": [
    "#jumpers.head()\n",
    "droppers.head(2)"
   ]
  },
  {
   "cell_type": "code",
   "execution_count": 5,
   "metadata": {
    "collapsed": false
   },
   "outputs": [],
   "source": [
    "#ids, accountnames, table_headers, table_value = processed_df.multiple_tables(jumpers)\n",
    "ids, deep_dive_ids, accountnames, table_headers, table_value = processed_df.multiple_tables(droppers)"
   ]
  },
  {
   "cell_type": "code",
   "execution_count": 6,
   "metadata": {
    "collapsed": false
   },
   "outputs": [
    {
     "name": "stdout",
     "output_type": "stream",
     "text": [
      "RTB-DBM\n",
      "RTB-The-Trade-Desk\n",
      "RTB-Conversant\n",
      "RTB-DataXu\n",
      "RTB-IPonWeb\n",
      "RTB-Nuviad\n",
      "RTB-metanetworks\n"
     ]
    }
   ],
   "source": [
    "array = pd.Series(accountnames)\n",
    "for i in array.index:\n",
    "    print(array[i])"
   ]
  },
  {
   "cell_type": "code",
   "execution_count": 7,
   "metadata": {
    "collapsed": false
   },
   "outputs": [
    {
     "data": {
      "text/plain": [
       "'547259, 534301, 530912, 535039, 556010, 560271, 551446'"
      ]
     },
     "execution_count": 7,
     "metadata": {},
     "output_type": "execute_result"
    }
   ],
   "source": [
    "ids"
   ]
  },
  {
   "cell_type": "code",
   "execution_count": 8,
   "metadata": {
    "collapsed": false
   },
   "outputs": [
    {
     "data": {
      "text/plain": [
       "'547259, 534301, 530912, 535039'"
      ]
     },
     "execution_count": 8,
     "metadata": {},
     "output_type": "execute_result"
    }
   ],
   "source": [
    "deep_dive_ids"
   ]
  },
  {
   "cell_type": "markdown",
   "metadata": {},
   "source": [
    "### Pub ###"
   ]
  },
  {
   "cell_type": "code",
   "execution_count": 9,
   "metadata": {
    "collapsed": false
   },
   "outputs": [
    {
     "name": "stdout",
     "output_type": "stream",
     "text": [
      "No files removed: no files as of the day requested\n"
     ]
    }
   ],
   "source": [
    "pub = pp_data(dsp_queries['pub'])\n",
    "#df1 = pub.get_data(\"pubs_jumper\", deep_dive_ids)\n",
    "df1 = pub.get_data(\"pubs_dropper\", deep_dive_ids)"
   ]
  },
  {
   "cell_type": "code",
   "execution_count": 10,
   "metadata": {
    "collapsed": false
   },
   "outputs": [
    {
     "data": {
      "text/html": [
       "<div>\n",
       "<table border=\"1\" class=\"dataframe\">\n",
       "  <thead>\n",
       "    <tr style=\"text-align: right;\">\n",
       "      <th></th>\n",
       "      <th>accountid</th>\n",
       "      <th>dsp</th>\n",
       "      <th>publisherid</th>\n",
       "      <th>publisher</th>\n",
       "      <th>ppdrevenue_cur</th>\n",
       "      <th>pdrevenue_cur</th>\n",
       "      <th>difference_cur</th>\n",
       "      <th>delta_pct</th>\n",
       "    </tr>\n",
       "  </thead>\n",
       "  <tbody>\n",
       "    <tr>\n",
       "      <th>0</th>\n",
       "      <td>530912</td>\n",
       "      <td>RTB-Conversant</td>\n",
       "      <td>560765</td>\n",
       "      <td>omnivid</td>\n",
       "      <td>6.0</td>\n",
       "      <td>1.0</td>\n",
       "      <td>-5.0</td>\n",
       "      <td>-84.526888</td>\n",
       "    </tr>\n",
       "    <tr>\n",
       "      <th>1</th>\n",
       "      <td>547259</td>\n",
       "      <td>RTB-DBM</td>\n",
       "      <td>558390</td>\n",
       "      <td>Komoona18</td>\n",
       "      <td>59.0</td>\n",
       "      <td>65.0</td>\n",
       "      <td>6.0</td>\n",
       "      <td>10.936415</td>\n",
       "    </tr>\n",
       "  </tbody>\n",
       "</table>\n",
       "</div>"
      ],
      "text/plain": [
       "   accountid             dsp  publisherid  publisher  ppdrevenue_cur  pdrevenue_cur  difference_cur  delta_pct\n",
       "0     530912  RTB-Conversant       560765    omnivid             6.0            1.0            -5.0 -84.526888\n",
       "1     547259         RTB-DBM       558390  Komoona18            59.0           65.0             6.0  10.936415"
      ]
     },
     "execution_count": 10,
     "metadata": {},
     "output_type": "execute_result"
    }
   ],
   "source": [
    "df1.head(2)"
   ]
  },
  {
   "cell_type": "code",
   "execution_count": 11,
   "metadata": {
    "collapsed": false
   },
   "outputs": [],
   "source": [
    "pub_processed = process_data(df1)"
   ]
  },
  {
   "cell_type": "code",
   "execution_count": 16,
   "metadata": {
    "collapsed": false,
    "scrolled": true
   },
   "outputs": [
    {
     "name": "stderr",
     "output_type": "stream",
     "text": [
      "C:\\Users\\ssu\\Documents\\github\\alerting\\process_data.py:107: SettingWithCopyWarning: \n",
      "A value is trying to be set on a copy of a slice from a DataFrame.\n",
      "Try using .loc[row_indexer,col_indexer] = value instead\n",
      "\n",
      "See the caveats in the documentation: http://pandas.pydata.org/pandas-docs/stable/indexing.html#indexing-view-versus-copy\n",
      "  df['flag'] = df['difference_cur'].apply(lambda x: 'increase' if x >=0 else 'drop')\n",
      "C:\\Users\\ssu\\Documents\\github\\alerting\\process_data.py:120: SettingWithCopyWarning: \n",
      "A value is trying to be set on a copy of a slice from a DataFrame.\n",
      "Try using .loc[row_indexer,col_indexer] = value instead\n",
      "\n",
      "See the caveats in the documentation: http://pandas.pydata.org/pandas-docs/stable/indexing.html#indexing-view-versus-copy\n",
      "  res['num_of_others'] = len(res) - 5\n",
      "C:\\Users\\ssu\\Documents\\github\\alerting\\process_data.py:125: SettingWithCopyWarning: \n",
      "A value is trying to be set on a copy of a slice from a DataFrame.\n",
      "Try using .loc[row_indexer,col_indexer] = value instead\n",
      "\n",
      "See the caveats in the documentation: http://pandas.pydata.org/pandas-docs/stable/indexing.html#indexing-view-versus-copy\n",
      "  res['cutoff'] = int(pct * 100)\n"
     ]
    }
   ],
   "source": [
    "tops = pub_processed.top_by_pct_multi_accts(0.6, positive=False)"
   ]
  },
  {
   "cell_type": "code",
   "execution_count": 17,
   "metadata": {
    "collapsed": false
   },
   "outputs": [
    {
     "name": "stderr",
     "output_type": "stream",
     "text": [
      "C:\\Users\\ssu\\Documents\\github\\alerting\\insights.py:23: SettingWithCopyWarning: \n",
      "A value is trying to be set on a copy of a slice from a DataFrame.\n",
      "Try using .loc[row_indexer,col_indexer] = value instead\n",
      "\n",
      "See the caveats in the documentation: http://pandas.pydata.org/pandas-docs/stable/indexing.html#indexing-view-versus-copy\n",
      "  selectedCols_ext[dimension] = \"<a href='\" + link + \"dsp=\" + selectedCols_ext['dsp'] + \"&publisher=\" + selectedCols_ext[dimension] + \"' >\" + selectedCols_ext[dimension] + '</a>'\n"
     ]
    },
    {
     "data": {
      "text/plain": [
       "[\"* publishers account for 60% of drop: <a href='http://tableau:8000/#/views/DSPTrendsDashboard/DSPPublisherTrends7D?dsp=RTB-DBM&publisher=Underdog Media' >Underdog Media</a>, -&#36;2,632, -15.7%;  <a href='http://tableau:8000/#/views/DSPTrendsDashboard/DSPPublisherTrends7D?dsp=RTB-DBM&publisher=CrunchMind' >CrunchMind</a>, -&#36;1,094, -11.6%;  <a href='http://tableau:8000/#/views/DSPTrendsDashboard/DSPPublisherTrends7D?dsp=RTB-DBM&publisher=RTS-Sonobi' >RTS-Sonobi</a>, -&#36;802, -11.2%;  <a href='http://tableau:8000/#/views/DSPTrendsDashboard/DSPPublisherTrends7D?dsp=RTB-DBM&publisher=Hexagram Labs Limited' >Hexagram Labs Limited</a>, -&#36;795, -23.8%;  <a href='http://tableau:8000/#/views/DSPTrendsDashboard/DSPPublisherTrends7D?dsp=RTB-DBM&publisher=RTS-LifeStreet Media' >RTS-LifeStreet Media</a>, -&#36;705, -17.5%;  and 4 more publisher(s). \",\n",
       " \"* publishers account for 60% of drop: <a href='http://tableau:8000/#/views/DSPTrendsDashboard/DSPPublisherTrends7D?dsp=RTB-The-Trade-Desk&publisher=Cignal.IO' >Cignal.IO</a>, -&#36;2,414, -29.1%;  <a href='http://tableau:8000/#/views/DSPTrendsDashboard/DSPPublisherTrends7D?dsp=RTB-The-Trade-Desk&publisher=Kumma' >Kumma</a>, -&#36;680, -13.4%;  <a href='http://tableau:8000/#/views/DSPTrendsDashboard/DSPPublisherTrends7D?dsp=RTB-The-Trade-Desk&publisher=PMI5Media' >PMI5Media</a>, -&#36;651, -98.1%;  <a href='http://tableau:8000/#/views/DSPTrendsDashboard/DSPPublisherTrends7D?dsp=RTB-The-Trade-Desk&publisher=RTS-Axonix' >RTS-Axonix</a>, -&#36;487, -68.0%;  <a href='http://tableau:8000/#/views/DSPTrendsDashboard/DSPPublisherTrends7D?dsp=RTB-The-Trade-Desk&publisher=RockYou AP' >RockYou AP</a>, -&#36;426, -34.9%;  and 1 more publisher(s). \",\n",
       " \"* publishers account for 60% of drop: <a href='http://tableau:8000/#/views/DSPTrendsDashboard/DSPPublisherTrends7D?dsp=RTB-Conversant&publisher=RTS-Cydersoft' >RTS-Cydersoft</a>, -&#36;790, -85.0%;  <a href='http://tableau:8000/#/views/DSPTrendsDashboard/DSPPublisherTrends7D?dsp=RTB-Conversant&publisher=Kumma' >Kumma</a>, -&#36;627, -18.9%;  <a href='http://tableau:8000/#/views/DSPTrendsDashboard/DSPPublisherTrends7D?dsp=RTB-Conversant&publisher=Cydersoft' >Cydersoft</a>, -&#36;521, -97.8%;  <a href='http://tableau:8000/#/views/DSPTrendsDashboard/DSPPublisherTrends7D?dsp=RTB-Conversant&publisher=Vdopia_TAG' >Vdopia_TAG</a>, -&#36;491, -83.0%;  <a href='http://tableau:8000/#/views/DSPTrendsDashboard/DSPPublisherTrends7D?dsp=RTB-Conversant&publisher=PMI5Media' >PMI5Media</a>, -&#36;376, -79.3%;  and 1 more publisher(s). \",\n",
       " \"* publishers account for 60% of drop: <a href='http://tableau:8000/#/views/DSPTrendsDashboard/DSPPublisherTrends7D?dsp=RTB-DataXu&publisher=Underdog Media' >Underdog Media</a>, -&#36;248, -86.5%;  <a href='http://tableau:8000/#/views/DSPTrendsDashboard/DSPPublisherTrends7D?dsp=RTB-DataXu&publisher=RTS-MillennialMedia' >RTS-MillennialMedia</a>, -&#36;76, -78.5%;  <a href='http://tableau:8000/#/views/DSPTrendsDashboard/DSPPublisherTrends7D?dsp=RTB-DataXu&publisher=AdRizer2' >AdRizer2</a>, -&#36;45, -71.5%;  <a href='http://tableau:8000/#/views/DSPTrendsDashboard/DSPPublisherTrends7D?dsp=RTB-DataXu&publisher=RTS-sovrn' >RTS-sovrn</a>, -&#36;43, -87.0%;  \",\n",
       " 'The account dropped aganst 4(7)-day average. If expected, ignore the alert. O/w, please take a look.',\n",
       " 'The account dropped aganst 4(7)-day average. If expected, ignore the alert. O/w, please take a look.',\n",
       " 'The account dropped aganst 4(7)-day average. If expected, ignore the alert. O/w, please take a look.']"
      ]
     },
     "execution_count": 17,
     "metadata": {},
     "output_type": "execute_result"
    }
   ],
   "source": [
    "insight = insights(tops)\n",
    "pub_res = insight.top_changers(ids, 'publisher', default_message['pub'], links['Tableau_dsp_pub'])\n",
    "pub_res"
   ]
  },
  {
   "cell_type": "markdown",
   "metadata": {},
   "source": [
    "### Campaigns ###"
   ]
  },
  {
   "cell_type": "code",
   "execution_count": 18,
   "metadata": {
    "collapsed": false
   },
   "outputs": [
    {
     "name": "stdout",
     "output_type": "stream",
     "text": [
      "No files removed: no files as of the day requested\n"
     ]
    }
   ],
   "source": [
    "lan = pp_data(dsp_queries['campaign'])\n",
    "#df2 = lan.get_data(\"pubs_jumper\", deep_dive_ids)\n",
    "df2 = lan.get_data(\"campaign_for_dropper\", deep_dive_ids)"
   ]
  },
  {
   "cell_type": "code",
   "execution_count": 19,
   "metadata": {
    "collapsed": true
   },
   "outputs": [],
   "source": [
    "lan_processed = process_data(df2)"
   ]
  },
  {
   "cell_type": "code",
   "execution_count": 44,
   "metadata": {
    "collapsed": false
   },
   "outputs": [
    {
     "name": "stderr",
     "output_type": "stream",
     "text": [
      "C:\\Users\\ssu\\Documents\\github\\alerting\\process_data.py:107: SettingWithCopyWarning: \n",
      "A value is trying to be set on a copy of a slice from a DataFrame.\n",
      "Try using .loc[row_indexer,col_indexer] = value instead\n",
      "\n",
      "See the caveats in the documentation: http://pandas.pydata.org/pandas-docs/stable/indexing.html#indexing-view-versus-copy\n",
      "  df['flag'] = df['difference_cur'].apply(lambda x: 'increase' if x >=0 else 'drop')\n"
     ]
    }
   ],
   "source": [
    "lan_tops = lan_processed.top_by_pct_multi_accts(1, positive=False)"
   ]
  },
  {
   "cell_type": "code",
   "execution_count": 45,
   "metadata": {
    "collapsed": false
   },
   "outputs": [
    {
     "data": {
      "text/html": [
       "<div>\n",
       "<table border=\"1\" class=\"dataframe\">\n",
       "  <thead>\n",
       "    <tr style=\"text-align: right;\">\n",
       "      <th></th>\n",
       "      <th>accountid</th>\n",
       "      <th>campaign</th>\n",
       "      <th>ppdrevenue_cur</th>\n",
       "      <th>pdrevenue_cur</th>\n",
       "      <th>difference_cur</th>\n",
       "      <th>delta_pct</th>\n",
       "      <th>flag</th>\n",
       "      <th>cum_pct</th>\n",
       "      <th>num_of_others</th>\n",
       "      <th>cutoff</th>\n",
       "    </tr>\n",
       "  </thead>\n",
       "  <tbody>\n",
       "    <tr>\n",
       "      <th>0</th>\n",
       "      <td>547259</td>\n",
       "      <td>amazon.co.uk</td>\n",
       "      <td>&amp;#36;2,442</td>\n",
       "      <td>&amp;#36;15</td>\n",
       "      <td>-&amp;#36;2,428</td>\n",
       "      <td>-99.4%</td>\n",
       "      <td>drop</td>\n",
       "      <td>13.4%</td>\n",
       "      <td>4052</td>\n",
       "      <td>100</td>\n",
       "    </tr>\n",
       "    <tr>\n",
       "      <th>1</th>\n",
       "      <td>547259</td>\n",
       "      <td>bestbuy.com</td>\n",
       "      <td>&amp;#36;5,132</td>\n",
       "      <td>&amp;#36;4,701</td>\n",
       "      <td>-&amp;#36;432</td>\n",
       "      <td>-8.4%</td>\n",
       "      <td>drop</td>\n",
       "      <td>15.8%</td>\n",
       "      <td>4052</td>\n",
       "      <td>100</td>\n",
       "    </tr>\n",
       "    <tr>\n",
       "      <th>2</th>\n",
       "      <td>547259</td>\n",
       "      <td>amazon.com</td>\n",
       "      <td>&amp;#36;447</td>\n",
       "      <td>&amp;#36;138</td>\n",
       "      <td>-&amp;#36;309</td>\n",
       "      <td>-69.2%</td>\n",
       "      <td>drop</td>\n",
       "      <td>17.6%</td>\n",
       "      <td>4052</td>\n",
       "      <td>100</td>\n",
       "    </tr>\n",
       "    <tr>\n",
       "      <th>3</th>\n",
       "      <td>547259</td>\n",
       "      <td>gmc.com</td>\n",
       "      <td>&amp;#36;342</td>\n",
       "      <td>&amp;#36;108</td>\n",
       "      <td>-&amp;#36;234</td>\n",
       "      <td>-68.5%</td>\n",
       "      <td>drop</td>\n",
       "      <td>18.9%</td>\n",
       "      <td>4052</td>\n",
       "      <td>100</td>\n",
       "    </tr>\n",
       "    <tr>\n",
       "      <th>4</th>\n",
       "      <td>547259</td>\n",
       "      <td>mcdonalds.com.my</td>\n",
       "      <td>&amp;#36;282</td>\n",
       "      <td>&amp;#36;58</td>\n",
       "      <td>-&amp;#36;224</td>\n",
       "      <td>-79.5%</td>\n",
       "      <td>drop</td>\n",
       "      <td>20.1%</td>\n",
       "      <td>4052</td>\n",
       "      <td>100</td>\n",
       "    </tr>\n",
       "  </tbody>\n",
       "</table>\n",
       "</div>"
      ],
      "text/plain": [
       "   accountid          campaign ppdrevenue_cur pdrevenue_cur difference_cur delta_pct  flag cum_pct  num_of_others  cutoff\n",
       "0     547259      amazon.co.uk     &#36;2,442       &#36;15    -&#36;2,428    -99.4%  drop   13.4%           4052     100\n",
       "1     547259       bestbuy.com     &#36;5,132    &#36;4,701      -&#36;432     -8.4%  drop   15.8%           4052     100\n",
       "2     547259        amazon.com       &#36;447      &#36;138      -&#36;309    -69.2%  drop   17.6%           4052     100\n",
       "3     547259           gmc.com       &#36;342      &#36;108      -&#36;234    -68.5%  drop   18.9%           4052     100\n",
       "4     547259  mcdonalds.com.my       &#36;282       &#36;58      -&#36;224    -79.5%  drop   20.1%           4052     100"
      ]
     },
     "execution_count": 45,
     "metadata": {},
     "output_type": "execute_result"
    }
   ],
   "source": [
    "lan_tops.head()"
   ]
  },
  {
   "cell_type": "code",
   "execution_count": 46,
   "metadata": {
    "collapsed": false
   },
   "outputs": [
    {
     "data": {
      "text/html": [
       "<div>\n",
       "<table border=\"1\" class=\"dataframe\">\n",
       "  <thead>\n",
       "    <tr style=\"text-align: right;\">\n",
       "      <th></th>\n",
       "      <th>accountid</th>\n",
       "      <th>campaign</th>\n",
       "      <th>ppdrevenue_cur</th>\n",
       "      <th>pdrevenue_cur</th>\n",
       "      <th>difference_cur</th>\n",
       "      <th>delta_pct</th>\n",
       "      <th>flag</th>\n",
       "      <th>cum_pct</th>\n",
       "      <th>num_of_others</th>\n",
       "      <th>cutoff</th>\n",
       "    </tr>\n",
       "  </thead>\n",
       "  <tbody>\n",
       "    <tr>\n",
       "      <th>15</th>\n",
       "      <td>530912</td>\n",
       "      <td>cbs.com</td>\n",
       "      <td>&amp;#36;4,463</td>\n",
       "      <td>&amp;#36;1,248</td>\n",
       "      <td>-&amp;#36;3,215</td>\n",
       "      <td>-72.0%</td>\n",
       "      <td>drop</td>\n",
       "      <td>50.2%</td>\n",
       "      <td>106</td>\n",
       "      <td>100</td>\n",
       "    </tr>\n",
       "    <tr>\n",
       "      <th>16</th>\n",
       "      <td>530912</td>\n",
       "      <td>cabelas.com</td>\n",
       "      <td>&amp;#36;1,800</td>\n",
       "      <td>&amp;#36;433</td>\n",
       "      <td>-&amp;#36;1,367</td>\n",
       "      <td>-76.0%</td>\n",
       "      <td>drop</td>\n",
       "      <td>71.6%</td>\n",
       "      <td>106</td>\n",
       "      <td>100</td>\n",
       "    </tr>\n",
       "    <tr>\n",
       "      <th>17</th>\n",
       "      <td>530912</td>\n",
       "      <td>toysrus.com</td>\n",
       "      <td>&amp;#36;385</td>\n",
       "      <td>&amp;#36;125</td>\n",
       "      <td>-&amp;#36;260</td>\n",
       "      <td>-67.6%</td>\n",
       "      <td>drop</td>\n",
       "      <td>75.6%</td>\n",
       "      <td>106</td>\n",
       "      <td>100</td>\n",
       "    </tr>\n",
       "    <tr>\n",
       "      <th>18</th>\n",
       "      <td>530912</td>\n",
       "      <td>westelm.com</td>\n",
       "      <td>&amp;#36;472</td>\n",
       "      <td>&amp;#36;308</td>\n",
       "      <td>-&amp;#36;164</td>\n",
       "      <td>-34.8%</td>\n",
       "      <td>drop</td>\n",
       "      <td>78.2%</td>\n",
       "      <td>106</td>\n",
       "      <td>100</td>\n",
       "    </tr>\n",
       "    <tr>\n",
       "      <th>19</th>\n",
       "      <td>530912</td>\n",
       "      <td>bkstr.com</td>\n",
       "      <td>&amp;#36;305</td>\n",
       "      <td>&amp;#36;170</td>\n",
       "      <td>-&amp;#36;135</td>\n",
       "      <td>-44.2%</td>\n",
       "      <td>drop</td>\n",
       "      <td>80.3%</td>\n",
       "      <td>106</td>\n",
       "      <td>100</td>\n",
       "    </tr>\n",
       "  </tbody>\n",
       "</table>\n",
       "</div>"
      ],
      "text/plain": [
       "    accountid     campaign ppdrevenue_cur pdrevenue_cur difference_cur delta_pct  flag cum_pct  num_of_others  cutoff\n",
       "15     530912      cbs.com     &#36;4,463    &#36;1,248    -&#36;3,215    -72.0%  drop   50.2%            106     100\n",
       "16     530912  cabelas.com     &#36;1,800      &#36;433    -&#36;1,367    -76.0%  drop   71.6%            106     100\n",
       "17     530912  toysrus.com       &#36;385      &#36;125      -&#36;260    -67.6%  drop   75.6%            106     100\n",
       "18     530912  westelm.com       &#36;472      &#36;308      -&#36;164    -34.8%  drop   78.2%            106     100\n",
       "19     530912    bkstr.com       &#36;305      &#36;170      -&#36;135    -44.2%  drop   80.3%            106     100"
      ]
     },
     "execution_count": 46,
     "metadata": {},
     "output_type": "execute_result"
    }
   ],
   "source": [
    "lan_tops[lan_tops['accountid']==530912]"
   ]
  },
  {
   "cell_type": "code",
   "execution_count": 34,
   "metadata": {
    "collapsed": false
   },
   "outputs": [],
   "source": [
    "insight2 = insights(lan_tops)\n",
    "cam_res = insight2.top_changers(ids, 'campaign', default_message['campaign'])"
   ]
  },
  {
   "cell_type": "code",
   "execution_count": 35,
   "metadata": {
    "collapsed": false
   },
   "outputs": [
    {
     "data": {
      "text/plain": [
       "['* campaigns account for 50% of drop: amazon.co.uk, -&#36;2,428, -99.4%;  bestbuy.com, -&#36;432, -8.4%;  amazon.com, -&#36;309, -69.2%;  gmc.com, -&#36;234, -68.5%;  mcdonalds.com.my, -&#36;224, -79.5%;  and 108 more campaign(s). ',\n",
       " '* campaigns account for 50% of drop: amazon.com, -&#36;854, -30.1%;  uscellular.com, -&#36;813, -44.4%;  spotify.com, -&#36;434, -88.0%;  bmwusa.com, -&#36;320, -25.9%;  citi.com, -&#36;251, -56.4%;  and 16 more campaign(s). ',\n",
       " '',\n",
       " '* campaigns account for 50% of drop: hpe.com, -&#36;260, -89.9%;  pandora.com, -&#36;118, -95.5%;  ',\n",
       " '',\n",
       " '',\n",
       " '']"
      ]
     },
     "execution_count": 35,
     "metadata": {},
     "output_type": "execute_result"
    }
   ],
   "source": [
    "cam_res"
   ]
  },
  {
   "cell_type": "markdown",
   "metadata": {},
   "source": [
    "### Channel ###"
   ]
  },
  {
   "cell_type": "code",
   "execution_count": 36,
   "metadata": {
    "collapsed": false
   },
   "outputs": [
    {
     "name": "stdout",
     "output_type": "stream",
     "text": [
      "No files removed: no files as of the day requested\n"
     ]
    },
    {
     "data": {
      "text/html": [
       "<div>\n",
       "<table border=\"1\" class=\"dataframe\">\n",
       "  <thead>\n",
       "    <tr style=\"text-align: right;\">\n",
       "      <th></th>\n",
       "      <th>accountid</th>\n",
       "      <th>channel</th>\n",
       "      <th>ppdrevenue_cur</th>\n",
       "      <th>pdrevenue_cur</th>\n",
       "      <th>difference_cur</th>\n",
       "      <th>delta_pct</th>\n",
       "    </tr>\n",
       "  </thead>\n",
       "  <tbody>\n",
       "    <tr>\n",
       "      <th>0</th>\n",
       "      <td>534301</td>\n",
       "      <td>video</td>\n",
       "      <td>16593.0</td>\n",
       "      <td>12387.0</td>\n",
       "      <td>-4206.0</td>\n",
       "      <td>-25.349367</td>\n",
       "    </tr>\n",
       "    <tr>\n",
       "      <th>1</th>\n",
       "      <td>534301</td>\n",
       "      <td>display</td>\n",
       "      <td>21528.0</td>\n",
       "      <td>19417.0</td>\n",
       "      <td>-2111.0</td>\n",
       "      <td>-9.806804</td>\n",
       "    </tr>\n",
       "    <tr>\n",
       "      <th>2</th>\n",
       "      <td>547259</td>\n",
       "      <td>display</td>\n",
       "      <td>107130.0</td>\n",
       "      <td>97902.0</td>\n",
       "      <td>-9228.0</td>\n",
       "      <td>-8.613660</td>\n",
       "    </tr>\n",
       "    <tr>\n",
       "      <th>3</th>\n",
       "      <td>530912</td>\n",
       "      <td>display</td>\n",
       "      <td>11076.0</td>\n",
       "      <td>10299.0</td>\n",
       "      <td>-777.0</td>\n",
       "      <td>-7.018551</td>\n",
       "    </tr>\n",
       "    <tr>\n",
       "      <th>4</th>\n",
       "      <td>530912</td>\n",
       "      <td>video</td>\n",
       "      <td>6109.0</td>\n",
       "      <td>2873.0</td>\n",
       "      <td>-3236.0</td>\n",
       "      <td>-52.976338</td>\n",
       "    </tr>\n",
       "  </tbody>\n",
       "</table>\n",
       "</div>"
      ],
      "text/plain": [
       "   accountid  channel  ppdrevenue_cur  pdrevenue_cur  difference_cur  delta_pct\n",
       "0     534301    video         16593.0        12387.0         -4206.0 -25.349367\n",
       "1     534301  display         21528.0        19417.0         -2111.0  -9.806804\n",
       "2     547259  display        107130.0        97902.0         -9228.0  -8.613660\n",
       "3     530912  display         11076.0        10299.0          -777.0  -7.018551\n",
       "4     530912    video          6109.0         2873.0         -3236.0 -52.976338"
      ]
     },
     "execution_count": 36,
     "metadata": {},
     "output_type": "execute_result"
    }
   ],
   "source": [
    "cn = pp_data(dsp_queries['channel'])\n",
    "df3 = cn.get_data(\"channel_dropper\", deep_dive_ids)\n",
    "df3.head()"
   ]
  },
  {
   "cell_type": "code",
   "execution_count": 37,
   "metadata": {
    "collapsed": false
   },
   "outputs": [],
   "source": [
    "insight3 = insights(df3)\n",
    "cn_res = insight3.facts(ids, 'channel', default_message['channel'])"
   ]
  },
  {
   "cell_type": "code",
   "execution_count": 38,
   "metadata": {
    "collapsed": false
   },
   "outputs": [
    {
     "data": {
      "text/plain": [
       "['* Changes by channel: display, -&#36;9,228, -8.6%;  ',\n",
       " '* Changes by channel: video, -&#36;4,206, -25.3%;  display, -&#36;2,111, -9.8%;  ',\n",
       " '* Changes by channel: display, -&#36;777, -7.0%;  video, -&#36;3,236, -53.0%;  ',\n",
       " '* Changes by channel: display, -&#36;707, -75.8%;  ',\n",
       " '',\n",
       " '',\n",
       " '']"
      ]
     },
     "execution_count": 38,
     "metadata": {},
     "output_type": "execute_result"
    }
   ],
   "source": [
    "cn_res"
   ]
  },
  {
   "cell_type": "code",
   "execution_count": 39,
   "metadata": {
    "collapsed": true
   },
   "outputs": [],
   "source": [
    "email_content = {\n",
    "    \"accountname\": accountnames,\n",
    "    \"message1\": pub_res,\n",
    "    \"message2\": cam_res,\n",
    "    \"message3\": cn_res,\n",
    "    \"theader\": table_headers,\n",
    "    \"tvalue\": table_value\n",
    "    \n",
    "}"
   ]
  },
  {
   "cell_type": "code",
   "execution_count": 40,
   "metadata": {
    "collapsed": false
   },
   "outputs": [
    {
     "data": {
      "text/plain": [
       "0               RTB-DBM\n",
       "1    RTB-The-Trade-Desk\n",
       "2        RTB-Conversant\n",
       "3            RTB-DataXu\n",
       "4           RTB-IPonWeb\n",
       "5            RTB-Nuviad\n",
       "6      RTB-metanetworks\n",
       "Name: advertiser, dtype: object"
      ]
     },
     "execution_count": 40,
     "metadata": {},
     "output_type": "execute_result"
    }
   ],
   "source": [
    "email_content['accountname']"
   ]
  },
  {
   "cell_type": "code",
   "execution_count": 41,
   "metadata": {
    "collapsed": true
   },
   "outputs": [],
   "source": [
    "email_temp = EmailAlert(\"dsp\", data_directory+'input.mjml', email_content)"
   ]
  },
  {
   "cell_type": "code",
   "execution_count": 42,
   "metadata": {
    "collapsed": false
   },
   "outputs": [],
   "source": [
    "email_temp.render_template()"
   ]
  },
  {
   "cell_type": "code",
   "execution_count": null,
   "metadata": {
    "collapsed": true
   },
   "outputs": [],
   "source": []
  },
  {
   "cell_type": "code",
   "execution_count": null,
   "metadata": {
    "collapsed": true
   },
   "outputs": [],
   "source": []
  },
  {
   "cell_type": "code",
   "execution_count": null,
   "metadata": {
    "collapsed": true
   },
   "outputs": [],
   "source": []
  },
  {
   "cell_type": "code",
   "execution_count": null,
   "metadata": {
    "collapsed": true
   },
   "outputs": [],
   "source": []
  },
  {
   "cell_type": "code",
   "execution_count": null,
   "metadata": {
    "collapsed": true
   },
   "outputs": [],
   "source": []
  },
  {
   "cell_type": "code",
   "execution_count": null,
   "metadata": {
    "collapsed": true
   },
   "outputs": [],
   "source": []
  },
  {
   "cell_type": "code",
   "execution_count": null,
   "metadata": {
    "collapsed": true
   },
   "outputs": [],
   "source": []
  },
  {
   "cell_type": "code",
   "execution_count": null,
   "metadata": {
    "collapsed": true
   },
   "outputs": [],
   "source": []
  },
  {
   "cell_type": "code",
   "execution_count": null,
   "metadata": {
    "collapsed": true
   },
   "outputs": [],
   "source": []
  },
  {
   "cell_type": "code",
   "execution_count": null,
   "metadata": {
    "collapsed": true
   },
   "outputs": [],
   "source": []
  },
  {
   "cell_type": "code",
   "execution_count": null,
   "metadata": {
    "collapsed": true
   },
   "outputs": [],
   "source": []
  },
  {
   "cell_type": "code",
   "execution_count": null,
   "metadata": {
    "collapsed": true
   },
   "outputs": [],
   "source": []
  },
  {
   "cell_type": "code",
   "execution_count": null,
   "metadata": {
    "collapsed": true
   },
   "outputs": [],
   "source": []
  },
  {
   "cell_type": "code",
   "execution_count": null,
   "metadata": {
    "collapsed": true
   },
   "outputs": [],
   "source": []
  },
  {
   "cell_type": "code",
   "execution_count": null,
   "metadata": {
    "collapsed": true
   },
   "outputs": [],
   "source": []
  },
  {
   "cell_type": "code",
   "execution_count": null,
   "metadata": {
    "collapsed": true
   },
   "outputs": [],
   "source": []
  },
  {
   "cell_type": "code",
   "execution_count": null,
   "metadata": {
    "collapsed": true
   },
   "outputs": [],
   "source": []
  },
  {
   "cell_type": "code",
   "execution_count": null,
   "metadata": {
    "collapsed": true
   },
   "outputs": [],
   "source": []
  },
  {
   "cell_type": "code",
   "execution_count": null,
   "metadata": {
    "collapsed": true
   },
   "outputs": [],
   "source": []
  },
  {
   "cell_type": "code",
   "execution_count": null,
   "metadata": {
    "collapsed": true
   },
   "outputs": [],
   "source": [
    "acct_new = acct.groupby(['rev_change_binary']).agg({\"publisherid\": \"count\", \"difference\": sum})"
   ]
  },
  {
   "cell_type": "code",
   "execution_count": null,
   "metadata": {
    "collapsed": true
   },
   "outputs": [],
   "source": []
  },
  {
   "cell_type": "code",
   "execution_count": null,
   "metadata": {
    "collapsed": true
   },
   "outputs": [],
   "source": [
    "df.to_csv(\"pubs_20170706.csv\", index = False)"
   ]
  },
  {
   "cell_type": "code",
   "execution_count": null,
   "metadata": {
    "collapsed": false
   },
   "outputs": [],
   "source": [
    "acctid"
   ]
  },
  {
   "cell_type": "code",
   "execution_count": null,
   "metadata": {
    "collapsed": false
   },
   "outputs": [],
   "source": [
    "acctids = ', '.join([str(i) for i in acctid])\n",
    "acctids"
   ]
  },
  {
   "cell_type": "code",
   "execution_count": null,
   "metadata": {
    "collapsed": false
   },
   "outputs": [],
   "source": [
    "lp = load_data(query['LANDINGPAGE'], 'dsp_landingpage', acctids, 1)"
   ]
  },
  {
   "cell_type": "code",
   "execution_count": null,
   "metadata": {
    "collapsed": false
   },
   "outputs": [],
   "source": [
    "res = []\n",
    "for acct in acctid_array:\n",
    "    print(acct)\n",
    "    acct_df = lp[lp['buyerid'] == acct]\n",
    "    acct_top = get_top(acct_df, message['top_3'], 'difference', asc=True)\n",
    "    adj_dollar_sign_for_negative_number(acct_top, 'difference')\n",
    "    acct_top['delta'] = np.vectorize(percent)(acct_top['delta'])\n",
    "    print(acct_top)\n",
    "#     adj_dollar_sign_for_negative_number(acct_top, difference)\n",
    "#     acct_top[delta] = np.vectorize(percent)(acct_top[delta])\n",
    "#     string = strheader\n",
    "#     if add_link is False:\n",
    "#         selectedCols = acct_top[[dimension, difference, delta]]\t\n",
    "#     else:\n",
    "#         selectedCols_ext = acct_top[[dimension, difference, delta, 'dsp']]\n",
    "#         selectedCols_ext[dimension] = \"<a href='\" + message['Tableau_dsp_pub'] + \"dsp=\" + selectedCols_ext['dsp'] + \"&publisher=\" + selectedCols_ext[dimension] + \"' >\" + selectedCols_ext[dimension] + '</a>'\t\n",
    "#         selectedCols = selectedCols_ext[[dimension, difference, delta]]\n",
    "#     for i in range(len(selectedCols)):\n",
    "#         val = ', '.join([str(i) for i in selectedCols.iloc[i]])\n",
    "#         string = string + val + \";  \"\n",
    "#     res.append(string)\n",
    "# return res "
   ]
  },
  {
   "cell_type": "code",
   "execution_count": null,
   "metadata": {
    "collapsed": false
   },
   "outputs": [],
   "source": [
    "a = is_dropped(-2.1, -3.6, 1.6)\n",
    "a"
   ]
  },
  {
   "cell_type": "code",
   "execution_count": null,
   "metadata": {
    "collapsed": true
   },
   "outputs": [],
   "source": [
    "possible_cause_threshold = -10\n",
    "\n",
    "def is_dropped(metric1, metric2, metric3):\n",
    "    if (metric1 < possible_cause_threshold or metric2 < possible_cause_threshold or metric3 < possible_cause_threshold):\n",
    "        return True \n",
    "    else: \n",
    "        return False \n",
    "    \n",
    "def is_increased(metric1, metric2, metric3):\n",
    "    if (metric1 > -possible_cause_threshold or metric2 > -possible_cause_threshold or metric3 > -possible_cause_threshold):\n",
    "        return True \n",
    "    else: \n",
    "        return False \n",
    "    \n",
    "def is_negative(metric1, metric2, metric3):\n",
    "    if (metric1 < 0 or metric2 < 0 or metric3 < 0):\n",
    "        return True \n",
    "    else: \n",
    "        return False \n",
    "\n",
    "def is_stable(metric1, metric2, metric3):\n",
    "    if (metric1 < 5 and metric1 > -5) and (metric2 < 5 and metric2 > -5) and (metric3 < 5 and metric3 > -5):\n",
    "        return True \n",
    "    else: \n",
    "        return False \n",
    "\n",
    "def get_summary(offer_pd, offer_4d, offer_7d, offerrate_pd, offerrate_4d, offerrate_7d, bidrate_pd, bidrate_4d, bidrate_7d, winrate_pd, winrate_4d, winrate_7d, revcpm_change_agst_pd, revcpm_change_agst_4davg, revcpm_change_agst_7davg, costcpm_change_agst_pd, costcpm_change_agst_4davg, costcpm_change_agst_7davg):\n",
    "    if (is_dropped(offer_pd, offer_4d, offer_7d) is True or is_dropped(offer_pd, offer_4d, offer_7d) is True) and (is_dropped(bidrate_pd, bidrate_4d, bidrate_7d) is False and is_dropped(winrate_pd, winrate_4d, winrate_7d) is False):\n",
    "        return \"most likely due to supply change. Please check rev-driving pubs' supply, DSP throttle changes such as PQS, domain/pub block etc.\"\n",
    "    elif (is_dropped(bidrate_pd, bidrate_4d, bidrate_7d) is True or is_dropped(winrate_pd, winrate_4d, winrate_7d) is True) and (is_dropped(offer_pd, offer_4d, offer_7d) is False and is_dropped(offer_pd, offer_4d, offer_7d) is False): \n",
    "        return \"most likely due to demand change. Please check if drop is expected.\"\n",
    "    elif (is_stable(offer_pd, offer_4d, offer_7d) is True and is_stable(offer_pd, offer_4d, offer_7d) is True) and is_dropped(winrate_pd, winrate_4d, winrate_7d) is True and is_increased(costcpm_change_agst_pd, costcpm_change_agst_4davg, costcpm_change_agst_7davg) is True and is_stable(revcpm_change_agst_pd, revcpm_change_agst_4davg, revcpm_change_agst_7davg) is True:\n",
    "        return \"most likely due to intenser competition in upstream auction or change on pub's floor\"\n",
    "    elif (is_dropped(offer_pd, offer_4d, offer_7d) is True or is_dropped(offer_pd, offer_4d, offer_7d) is True) and (is_dropped(bidrate_pd, bidrate_4d, bidrate_7d) is True or is_dropped(winrate_pd, winrate_4d, winrate_7d) is True):\n",
    "        return \"most likely due to both supply drop and demand drop. Please check both sides.\"\n",
    "    else:\n",
    "        return \"could be due to multiple reasons. Please check all metrics.\"\n",
    "    "
   ]
  },
  {
   "cell_type": "code",
   "execution_count": null,
   "metadata": {
    "collapsed": false
   },
   "outputs": [],
   "source": [
    "test['highlight'] = np.vectorize(get_summary)(test['offer_change_agst_pd'], test['offer_change_agst_4davg'], test['offer_change_agst_7davg'], test['offerrate_change_agst_pd'], test['offerrate_change_agst_4davg'], test['offerrate_change_agst_7davg'], test['bidrate_change_agst_pd'], test['bidrate_change_agst_4davg'], test['bidrate_change_agst_7davg'], test['winrate_change_agst_pd'], test['winrate_change_agst_4davg'], test['winrate_change_agst_7davg'], test['revcpm_change_agst_pd'], test['revcpm_change_agst_4davg'], test['revcpm_change_agst_7davg'], test['costcpm_change_agst_pd'], test['costcpm_change_agst_4davg'], test['costcpm_change_agst_7davg'])"
   ]
  },
  {
   "cell_type": "code",
   "execution_count": null,
   "metadata": {
    "collapsed": false
   },
   "outputs": [],
   "source": [
    "test.head()"
   ]
  },
  {
   "cell_type": "code",
   "execution_count": null,
   "metadata": {
    "collapsed": false
   },
   "outputs": [],
   "source": [
    "test.dtypes"
   ]
  },
  {
   "cell_type": "code",
   "execution_count": null,
   "metadata": {
    "collapsed": false
   },
   "outputs": [],
   "source": [
    "buyerid = test['buyerid'].T.drop_duplicates().T\n",
    "y = np.array(buyerid['buyerid'])\n",
    "param = ', '.join([str(i) for i in y])\n",
    "param"
   ]
  },
  {
   "cell_type": "code",
   "execution_count": null,
   "metadata": {
    "collapsed": false
   },
   "outputs": [],
   "source": [
    "bl = load_data(query['BIDLOSS'], \"dsp_bidloss\", param, 1)\n",
    "bls = bl[bl['buyerid'] == 547259]"
   ]
  },
  {
   "cell_type": "code",
   "execution_count": null,
   "metadata": {
    "collapsed": false
   },
   "outputs": [],
   "source": [
    "top = get_top(bls, 3, \"impressions\", asc=False )"
   ]
  },
  {
   "cell_type": "code",
   "execution_count": null,
   "metadata": {
    "collapsed": false
   },
   "outputs": [],
   "source": [
    "top"
   ]
  },
  {
   "cell_type": "code",
   "execution_count": null,
   "metadata": {
    "collapsed": false
   },
   "outputs": [],
   "source": [
    "dsp_pub = load_data(query['DSP-PUB'], \"dsp_pub\", param, 2)"
   ]
  },
  {
   "cell_type": "code",
   "execution_count": null,
   "metadata": {
    "collapsed": false
   },
   "outputs": [],
   "source": [
    "dsp_pub.head()"
   ]
  },
  {
   "cell_type": "code",
   "execution_count": null,
   "metadata": {
    "collapsed": true
   },
   "outputs": [],
   "source": [
    "dp = dsp_pub.sort_values(by = ['buyerid', 'rev_difference'], ascending = [True, True])"
   ]
  },
  {
   "cell_type": "code",
   "execution_count": null,
   "metadata": {
    "collapsed": false
   },
   "outputs": [],
   "source": [
    "pub = get_topdrop(param, query['DSP-PUB'], 'dsp_pub', 2, 'publisher','rev_difference', 'rev_delta', '* Top drop pubs: ')"
   ]
  },
  {
   "cell_type": "code",
   "execution_count": null,
   "metadata": {
    "collapsed": true
   },
   "outputs": [],
   "source": []
  },
  {
   "cell_type": "code",
   "execution_count": null,
   "metadata": {
    "collapsed": false
   },
   "outputs": [],
   "source": [
    "pubs = get_topdrop(y, dp, 'publisher','rev_difference', 'rev_delta', 'Top drop pubs: ' )\n",
    "pubs"
   ]
  },
  {
   "cell_type": "code",
   "execution_count": null,
   "metadata": {
    "collapsed": false
   },
   "outputs": [],
   "source": [
    "lan = load_data(query['LANDINGPAGE'], \"dsp_landingpage\", param, 1)\n",
    "#lan = lan.sort_values(by = ['buyerid', 'difference'], ascending = [True, True])"
   ]
  },
  {
   "cell_type": "code",
   "execution_count": null,
   "metadata": {
    "collapsed": false
   },
   "outputs": [],
   "source": [
    "lan.head()"
   ]
  },
  {
   "cell_type": "code",
   "execution_count": null,
   "metadata": {
    "collapsed": false
   },
   "outputs": [],
   "source": [
    "lans = get_topdrop(y, lan, 'landingpagedomain','difference', 'delta', 'Top drop campaigns: ' )\n",
    "lans"
   ]
  },
  {
   "cell_type": "code",
   "execution_count": null,
   "metadata": {
    "collapsed": true
   },
   "outputs": [],
   "source": [
    "dc = load_data(query['DC'], \"dsp_dc\", param, 1)"
   ]
  },
  {
   "cell_type": "code",
   "execution_count": null,
   "metadata": {
    "collapsed": false
   },
   "outputs": [],
   "source": [
    "dcs = get_topdrop(y, dc, 'dc','difference', 'delta', 'Change by DC: ' )\n",
    "dcs"
   ]
  },
  {
   "cell_type": "code",
   "execution_count": null,
   "metadata": {
    "collapsed": true
   },
   "outputs": [],
   "source": [
    "cn = load_data(query['CHANNEL'], \"dsp_channel\", param, 1)"
   ]
  },
  {
   "cell_type": "code",
   "execution_count": null,
   "metadata": {
    "collapsed": false
   },
   "outputs": [],
   "source": [
    "cns = get_topdrop(y, cn, 'channel','difference', 'delta', 'Change by Channel: ' )\n",
    "cns"
   ]
  },
  {
   "cell_type": "code",
   "execution_count": null,
   "metadata": {
    "collapsed": false
   },
   "outputs": [],
   "source": [
    "def load_data(sql, fname, param=None):\n",
    "    with open(sql) as f:\n",
    "        if param==None:\n",
    "            query = f.read().strip()\n",
    "        else:\n",
    "            query = f.read().strip() % (param, param)\n",
    "    filename = os.path.join(data_directory, \"{}_{}.pkl\".format(fname, datetime.datetime.now().strftime(\"%Y%m%d\")))\n",
    "    if os.path.exists(filename) is False:\n",
    "        df = pd.read_sql(query, create_engine(\"impala://impala.pulse.prod\"))\n",
    "        df.to_pickle(filename)\n",
    "    else:\n",
    "        df = pd.read_pickle(filename)\n",
    "    return df"
   ]
  },
  {
   "cell_type": "code",
   "execution_count": null,
   "metadata": {
    "collapsed": false
   },
   "outputs": [],
   "source": [
    "def cal_supply_demand_relationship(acctid):\n",
    "    acct = dp[dp['buyerid'] == acctid]\n",
    "    a = np.array(acct['rev_delta'])\n",
    "    b = np.array(acct['offer_delta'])\n",
    "    r = np.corrcoef(a,b)[1, 0]\n",
    "    print(r)"
   ]
  },
  {
   "cell_type": "code",
   "execution_count": null,
   "metadata": {
    "collapsed": false
   },
   "outputs": [],
   "source": [
    "for i in y:\n",
    "    print(i)\n",
    "    cal_supply_demand_relationship(i)"
   ]
  },
  {
   "cell_type": "code",
   "execution_count": null,
   "metadata": {
    "collapsed": true
   },
   "outputs": [],
   "source": [
    "\tday = df['day'][0]\n",
    "\taccts = pd.Series(df.index)\n",
    "\theaders = []\n",
    "\tvalue = []\n",
    "\tyesterday_cols = ['revenue' , 'offer' , 'offerrate' , 'offermatchrate' , 'bidrate' , 'blockrate' , 'winrate' , 'revcpm'\n",
    "\t                     , 'costcpm' , 'margin' , 'timeoutrate']\n",
    "\tyesterday = df[yesterday_cols]\n",
    "\tyesterday_T = yesterday.T\n",
    "\tdelta_col = list(df.loc[:, 'revenue_change_agst_pd':'timeoutrate_change_agst_7davg'])\n",
    "\tdelta = df[delta_col]"
   ]
  },
  {
   "cell_type": "code",
   "execution_count": null,
   "metadata": {
    "collapsed": true
   },
   "outputs": [],
   "source": [
    "\tfor acct in accts:\n",
    "\t\tacct_yesterday = yesterday_T[acct]\n",
    "\t\tpday = slice_data('pd', delta, acct)\n",
    "\t\tavg4d = slice_data('4davg', delta, acct) \n",
    "\t\tavg7d = slice_data('7davg', delta, acct) \n",
    "\t\tacct_data = pd.concat([acct_yesterday, pday, avg4d, avg7d], axis = 1, keys=[day, 'change agst prior day', 'change agst 4-day avg', 'change agst 7-day avg'])\n",
    "\t\tacct_data= acct_data.reset_index()\n",
    "\t\tdata = df_json(acct_data)\n",
    "\t\theader = data['columns']\n",
    "\t\tval = data['data']\n",
    "\t\theaders.append(header)\n",
    "\t\tvalue.append(val)"
   ]
  },
  {
   "cell_type": "code",
   "execution_count": null,
   "metadata": {
    "collapsed": false
   },
   "outputs": [],
   "source": [
    "acct_data"
   ]
  },
  {
   "cell_type": "code",
   "execution_count": null,
   "metadata": {
    "collapsed": false
   },
   "outputs": [],
   "source": [
    "acct_data['metric'] = acct_data['metric'].apply(lambda x: x.replace('rate', ' rate'))"
   ]
  },
  {
   "cell_type": "code",
   "execution_count": null,
   "metadata": {
    "collapsed": false
   },
   "outputs": [],
   "source": [
    "acct_data"
   ]
  },
  {
   "cell_type": "code",
   "execution_count": null,
   "metadata": {
    "collapsed": true
   },
   "outputs": [],
   "source": [
    "x = '-hello'"
   ]
  },
  {
   "cell_type": "code",
   "execution_count": null,
   "metadata": {
    "collapsed": false
   },
   "outputs": [],
   "source": [
    "y = x.split(\" \",1)\n",
    "y"
   ]
  },
  {
   "cell_type": "code",
   "execution_count": null,
   "metadata": {
    "collapsed": false
   },
   "outputs": [],
   "source": [
    "message = {\n",
    "    'top_n': 3,\n",
    "    'dsp_pub_Tableau_link': 'http://tableau:8000/#/views/DSPTrendsDashboard/DSPPublisherTrends7D?'\n",
    "}"
   ]
  },
  {
   "cell_type": "code",
   "execution_count": null,
   "metadata": {
    "collapsed": false
   },
   "outputs": [],
   "source": [
    "message['top_n']"
   ]
  },
  {
   "cell_type": "code",
   "execution_count": null,
   "metadata": {
    "collapsed": true
   },
   "outputs": [],
   "source": [
    "test = pd.read_pickle(\"dsp_landingpage_20170522.pkl\")"
   ]
  },
  {
   "cell_type": "code",
   "execution_count": null,
   "metadata": {
    "collapsed": false
   },
   "outputs": [],
   "source": [
    "def test_var_args(farg, *args):\n",
    "    print(\"formal arg:\", farg)\n",
    "    for arg in args:\n",
    "        print(\"another arg:\", arg)\n",
    "\n",
    "test_var_args(1, \"two\", 3)"
   ]
  },
  {
   "cell_type": "code",
   "execution_count": null,
   "metadata": {
    "collapsed": true
   },
   "outputs": [],
   "source": []
  }
 ],
 "metadata": {
  "kernelspec": {
   "display_name": "Python 3",
   "language": "python",
   "name": "python3"
  },
  "language_info": {
   "codemirror_mode": {
    "name": "ipython",
    "version": 3
   },
   "file_extension": ".py",
   "mimetype": "text/x-python",
   "name": "python",
   "nbconvert_exporter": "python",
   "pygments_lexer": "ipython3",
   "version": "3.6.0"
  }
 },
 "nbformat": 4,
 "nbformat_minor": 2
}
