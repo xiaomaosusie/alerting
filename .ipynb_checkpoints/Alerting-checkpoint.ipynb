{
 "cells": [
  {
   "cell_type": "code",
   "execution_count": 1,
   "metadata": {
    "collapsed": false,
    "deletable": true,
    "editable": true
   },
   "outputs": [
    {
     "data": {
      "text/html": [
       "<style>.container { width:100% !important; }</style>"
      ],
      "text/plain": [
       "<IPython.core.display.HTML object>"
      ]
     },
     "metadata": {},
     "output_type": "display_data"
    }
   ],
   "source": [
    "from IPython.core.display import display, HTML\n",
    "display(HTML(\"<style>.container { width:100% !important; }</style>\"))"
   ]
  },
  {
   "cell_type": "code",
   "execution_count": 2,
   "metadata": {
    "collapsed": false,
    "deletable": true,
    "editable": true
   },
   "outputs": [],
   "source": [
    "%run core_new.py"
   ]
  },
  {
   "cell_type": "markdown",
   "metadata": {},
   "source": [
    "### DSP ###"
   ]
  },
  {
   "cell_type": "code",
   "execution_count": 4,
   "metadata": {
    "collapsed": false
   },
   "outputs": [
    {
     "name": "stdout",
     "output_type": "stream",
     "text": [
      "No files removed: no files as of the day requested\n"
     ]
    },
    {
     "name": "stderr",
     "output_type": "stream",
     "text": [
      "C:\\Users\\ssu\\Documents\\github\\alerting\\process_data.py:24: SettingWithCopyWarning: \n",
      "A value is trying to be set on a copy of a slice from a DataFrame.\n",
      "Try using .loc[row_indexer,col_indexer] = value instead\n",
      "\n",
      "See the caveats in the documentation: http://pandas.pydata.org/pandas-docs/stable/indexing.html#indexing-view-versus-copy\n",
      "  result['is_daily'] = result.apply(lambda row: 1 if row['revenue_change_agst_pd_pct'] <= -pctCutoff else 0, axis = 1)\n"
     ]
    }
   ],
   "source": [
    "dsp = pp_data(query['DSP'])\n",
    "df = dsp.get_data(\"dsp\")\n",
    "processed_df = process_data(df)\n",
    "#jumpers = processed_df.get_jumper(\"advertiser\", 10, 5000, 1000)\n",
    "droppers = processed_df.get_dropper(\"advertiser\", 15, 5000, 1000)"
   ]
  },
  {
   "cell_type": "code",
   "execution_count": 5,
   "metadata": {
    "collapsed": false
   },
   "outputs": [
    {
     "data": {
      "text/html": [
       "<div>\n",
       "<table border=\"1\" class=\"dataframe\">\n",
       "  <thead>\n",
       "    <tr style=\"text-align: right;\">\n",
       "      <th></th>\n",
       "      <th>am</th>\n",
       "      <th>email</th>\n",
       "      <th>day</th>\n",
       "      <th>accountid</th>\n",
       "      <th>offer_mm</th>\n",
       "      <th>offermatchrate_pct</th>\n",
       "      <th>bidrate_pct</th>\n",
       "      <th>timeoutrate_pct</th>\n",
       "      <th>blockrate_pct</th>\n",
       "      <th>winrate_pct</th>\n",
       "      <th>revenue_cur</th>\n",
       "      <th>revcpm_cur</th>\n",
       "      <th>costcpm_cur</th>\n",
       "      <th>margin_pct</th>\n",
       "      <th>offerrate_pct</th>\n",
       "      <th>accountid</th>\n",
       "      <th>pdbidsofferedtotal</th>\n",
       "      <th>pdoffermatchrate</th>\n",
       "      <th>pdbidrate</th>\n",
       "      <th>pdtimeoutrate</th>\n",
       "      <th>pdblockrate</th>\n",
       "      <th>pdwinrate</th>\n",
       "      <th>pdrevenue</th>\n",
       "      <th>pdrevcpm</th>\n",
       "      <th>pdcostcpm</th>\n",
       "      <th>pdmargin</th>\n",
       "      <th>pdofferrate</th>\n",
       "      <th>accountid</th>\n",
       "      <th>4davgbidsofferedtotal</th>\n",
       "      <th>4doffermatchrate</th>\n",
       "      <th>4dbidrate</th>\n",
       "      <th>4dtimeoutrate</th>\n",
       "      <th>4dblockrate</th>\n",
       "      <th>4dwinrate</th>\n",
       "      <th>4davgrevenue</th>\n",
       "      <th>4drevcpm</th>\n",
       "      <th>4dcostcpm</th>\n",
       "      <th>4dmargin</th>\n",
       "      <th>4dofferrate</th>\n",
       "      <th>accountid</th>\n",
       "      <th>7davgbidsofferedtotal</th>\n",
       "      <th>7doffermatchrate</th>\n",
       "      <th>7dbidrate</th>\n",
       "      <th>7dtimeoutrate</th>\n",
       "      <th>7dblockrate</th>\n",
       "      <th>7dwinrate</th>\n",
       "      <th>7davgrevenue</th>\n",
       "      <th>7drevcpm</th>\n",
       "      <th>7dcostcpm</th>\n",
       "      <th>7dmargin</th>\n",
       "      <th>7dofferrate</th>\n",
       "      <th>rev_diff_agst_pd_cur</th>\n",
       "      <th>revenue_change_agst_pd_pct</th>\n",
       "      <th>revenue_change_agst_4davg_pct</th>\n",
       "      <th>revenue_change_agst_7davg_pct</th>\n",
       "      <th>offer_change_agst_pd_pct</th>\n",
       "      <th>offer_change_agst_4davg_pct</th>\n",
       "      <th>offer_change_agst_7davg_pct</th>\n",
       "      <th>offerrate_change_agst_pd_pct</th>\n",
       "      <th>offerrate_change_agst_4davg_pct</th>\n",
       "      <th>offerrate_change_agst_7davg_pct</th>\n",
       "      <th>offermatchrate_change_agst_pd_pct</th>\n",
       "      <th>offermatchrate_change_agst_4davg_pct</th>\n",
       "      <th>offermatchrate_change_agst_7davg_pct</th>\n",
       "      <th>bidrate_change_agst_pd_pct</th>\n",
       "      <th>bidrate_change_agst_4davg_pct</th>\n",
       "      <th>bidrate_change_agst_7davg_pct</th>\n",
       "      <th>blockrate_change_agst_pd_pct</th>\n",
       "      <th>blockrate_change_agst_4davg_pct</th>\n",
       "      <th>blockrate_change_agst_7davg_pct</th>\n",
       "      <th>winrate_change_agst_pd_pct</th>\n",
       "      <th>winrate_change_agst_4davg_pct</th>\n",
       "      <th>winrate_change_agst_7davg_pct</th>\n",
       "      <th>revcpm_change_agst_pd_pct</th>\n",
       "      <th>revcpm_change_agst_4davg_pct</th>\n",
       "      <th>revcpm_change_agst_7davg_pct</th>\n",
       "      <th>costcpm_change_agst_pd_pct</th>\n",
       "      <th>costcpm_change_agst_4davg_pct</th>\n",
       "      <th>costcpm_change_agst_7davg_pct</th>\n",
       "      <th>margin_change_agst_pd_pct</th>\n",
       "      <th>margin_change_agst_4davg_pct</th>\n",
       "      <th>margin_change_agst_7davg_pct</th>\n",
       "      <th>timeoutrate_change_agst_pd_pct</th>\n",
       "      <th>timeoutrate_change_agst_4davg_pct</th>\n",
       "      <th>timeoutrate_change_agst_7davg_pct</th>\n",
       "      <th>is_daily</th>\n",
       "    </tr>\n",
       "    <tr>\n",
       "      <th>advertiser</th>\n",
       "      <th></th>\n",
       "      <th></th>\n",
       "      <th></th>\n",
       "      <th></th>\n",
       "      <th></th>\n",
       "      <th></th>\n",
       "      <th></th>\n",
       "      <th></th>\n",
       "      <th></th>\n",
       "      <th></th>\n",
       "      <th></th>\n",
       "      <th></th>\n",
       "      <th></th>\n",
       "      <th></th>\n",
       "      <th></th>\n",
       "      <th></th>\n",
       "      <th></th>\n",
       "      <th></th>\n",
       "      <th></th>\n",
       "      <th></th>\n",
       "      <th></th>\n",
       "      <th></th>\n",
       "      <th></th>\n",
       "      <th></th>\n",
       "      <th></th>\n",
       "      <th></th>\n",
       "      <th></th>\n",
       "      <th></th>\n",
       "      <th></th>\n",
       "      <th></th>\n",
       "      <th></th>\n",
       "      <th></th>\n",
       "      <th></th>\n",
       "      <th></th>\n",
       "      <th></th>\n",
       "      <th></th>\n",
       "      <th></th>\n",
       "      <th></th>\n",
       "      <th></th>\n",
       "      <th></th>\n",
       "      <th></th>\n",
       "      <th></th>\n",
       "      <th></th>\n",
       "      <th></th>\n",
       "      <th></th>\n",
       "      <th></th>\n",
       "      <th></th>\n",
       "      <th></th>\n",
       "      <th></th>\n",
       "      <th></th>\n",
       "      <th></th>\n",
       "      <th></th>\n",
       "      <th></th>\n",
       "      <th></th>\n",
       "      <th></th>\n",
       "      <th></th>\n",
       "      <th></th>\n",
       "      <th></th>\n",
       "      <th></th>\n",
       "      <th></th>\n",
       "      <th></th>\n",
       "      <th></th>\n",
       "      <th></th>\n",
       "      <th></th>\n",
       "      <th></th>\n",
       "      <th></th>\n",
       "      <th></th>\n",
       "      <th></th>\n",
       "      <th></th>\n",
       "      <th></th>\n",
       "      <th></th>\n",
       "      <th></th>\n",
       "      <th></th>\n",
       "      <th></th>\n",
       "      <th></th>\n",
       "      <th></th>\n",
       "      <th></th>\n",
       "      <th></th>\n",
       "      <th></th>\n",
       "      <th></th>\n",
       "      <th></th>\n",
       "      <th></th>\n",
       "      <th></th>\n",
       "      <th></th>\n",
       "      <th></th>\n",
       "      <th></th>\n",
       "    </tr>\n",
       "  </thead>\n",
       "  <tbody>\n",
       "    <tr>\n",
       "      <th>RTB-IPonWeb</th>\n",
       "      <td>Veena</td>\n",
       "      <td>VXavier@pulsepoint.com</td>\n",
       "      <td>2017-07-10</td>\n",
       "      <td>556010</td>\n",
       "      <td>7118010719</td>\n",
       "      <td>60</td>\n",
       "      <td>10.7</td>\n",
       "      <td>5.8</td>\n",
       "      <td>4.7</td>\n",
       "      <td>2.1</td>\n",
       "      <td>42749</td>\n",
       "      <td>2.62</td>\n",
       "      <td>1.87</td>\n",
       "      <td>28.6</td>\n",
       "      <td>28.2</td>\n",
       "      <td>556010.0</td>\n",
       "      <td>7.040304e+09</td>\n",
       "      <td>54.0</td>\n",
       "      <td>14.2</td>\n",
       "      <td>3.3</td>\n",
       "      <td>2.6</td>\n",
       "      <td>1.9</td>\n",
       "      <td>57906.0</td>\n",
       "      <td>3.10</td>\n",
       "      <td>2.18</td>\n",
       "      <td>29.7</td>\n",
       "      <td>28.4</td>\n",
       "      <td>556010.0</td>\n",
       "      <td>6.823159e+09</td>\n",
       "      <td>54.0</td>\n",
       "      <td>20.9</td>\n",
       "      <td>3.4</td>\n",
       "      <td>3.0</td>\n",
       "      <td>1.2</td>\n",
       "      <td>41992.0</td>\n",
       "      <td>2.46</td>\n",
       "      <td>1.73</td>\n",
       "      <td>29.6</td>\n",
       "      <td>28.1</td>\n",
       "      <td>556010.0</td>\n",
       "      <td>6.782347e+09</td>\n",
       "      <td>54.0</td>\n",
       "      <td>17.1</td>\n",
       "      <td>3.1</td>\n",
       "      <td>3.0</td>\n",
       "      <td>1.5</td>\n",
       "      <td>48098.0</td>\n",
       "      <td>2.85</td>\n",
       "      <td>1.88</td>\n",
       "      <td>34.2</td>\n",
       "      <td>28.3</td>\n",
       "      <td>-15157.0</td>\n",
       "      <td>-26.2</td>\n",
       "      <td>1.8</td>\n",
       "      <td>-11.1</td>\n",
       "      <td>1.1</td>\n",
       "      <td>4.3</td>\n",
       "      <td>4.9</td>\n",
       "      <td>-0.7</td>\n",
       "      <td>0.4</td>\n",
       "      <td>-0.4</td>\n",
       "      <td>11.1</td>\n",
       "      <td>11.1</td>\n",
       "      <td>11.1</td>\n",
       "      <td>-24.6</td>\n",
       "      <td>-48.8</td>\n",
       "      <td>-37.4</td>\n",
       "      <td>80.8</td>\n",
       "      <td>56.7</td>\n",
       "      <td>56.7</td>\n",
       "      <td>10.5</td>\n",
       "      <td>75.0</td>\n",
       "      <td>40.0</td>\n",
       "      <td>-15.5</td>\n",
       "      <td>6.5</td>\n",
       "      <td>-8.1</td>\n",
       "      <td>-14.2</td>\n",
       "      <td>8.1</td>\n",
       "      <td>-0.5</td>\n",
       "      <td>-3.7</td>\n",
       "      <td>-3.4</td>\n",
       "      <td>-16.4</td>\n",
       "      <td>75.8</td>\n",
       "      <td>70.6</td>\n",
       "      <td>87.1</td>\n",
       "      <td>1</td>\n",
       "    </tr>\n",
       "    <tr>\n",
       "      <th>RTB-metanetworks</th>\n",
       "      <td>Liam</td>\n",
       "      <td>LBave@pulsepoint.com</td>\n",
       "      <td>2017-07-10</td>\n",
       "      <td>551446</td>\n",
       "      <td>3425263411</td>\n",
       "      <td>0</td>\n",
       "      <td>11.8</td>\n",
       "      <td>1.0</td>\n",
       "      <td>47.7</td>\n",
       "      <td>1.6</td>\n",
       "      <td>4673</td>\n",
       "      <td>0.71</td>\n",
       "      <td>0.54</td>\n",
       "      <td>24.2</td>\n",
       "      <td>13.5</td>\n",
       "      <td>551446.0</td>\n",
       "      <td>2.720647e+09</td>\n",
       "      <td>0.0</td>\n",
       "      <td>33.0</td>\n",
       "      <td>1.9</td>\n",
       "      <td>66.5</td>\n",
       "      <td>3.1</td>\n",
       "      <td>20449.0</td>\n",
       "      <td>0.75</td>\n",
       "      <td>0.57</td>\n",
       "      <td>23.6</td>\n",
       "      <td>11.0</td>\n",
       "      <td>551446.0</td>\n",
       "      <td>1.975353e+09</td>\n",
       "      <td>0.0</td>\n",
       "      <td>26.8</td>\n",
       "      <td>1.5</td>\n",
       "      <td>39.9</td>\n",
       "      <td>1.6</td>\n",
       "      <td>5682.0</td>\n",
       "      <td>0.67</td>\n",
       "      <td>0.51</td>\n",
       "      <td>23.5</td>\n",
       "      <td>8.1</td>\n",
       "      <td>551446.0</td>\n",
       "      <td>1.888334e+09</td>\n",
       "      <td>0.0</td>\n",
       "      <td>24.6</td>\n",
       "      <td>1.3</td>\n",
       "      <td>31.5</td>\n",
       "      <td>1.3</td>\n",
       "      <td>3537.0</td>\n",
       "      <td>0.61</td>\n",
       "      <td>0.47</td>\n",
       "      <td>23.3</td>\n",
       "      <td>7.9</td>\n",
       "      <td>-15776.0</td>\n",
       "      <td>-77.1</td>\n",
       "      <td>-17.8</td>\n",
       "      <td>32.1</td>\n",
       "      <td>25.9</td>\n",
       "      <td>73.4</td>\n",
       "      <td>81.4</td>\n",
       "      <td>22.7</td>\n",
       "      <td>66.7</td>\n",
       "      <td>70.9</td>\n",
       "      <td>0.0</td>\n",
       "      <td>0.0</td>\n",
       "      <td>0.0</td>\n",
       "      <td>-64.2</td>\n",
       "      <td>-56.0</td>\n",
       "      <td>-52.0</td>\n",
       "      <td>-28.3</td>\n",
       "      <td>19.5</td>\n",
       "      <td>51.4</td>\n",
       "      <td>-48.4</td>\n",
       "      <td>0.0</td>\n",
       "      <td>23.1</td>\n",
       "      <td>-5.3</td>\n",
       "      <td>6.0</td>\n",
       "      <td>16.4</td>\n",
       "      <td>-5.3</td>\n",
       "      <td>5.9</td>\n",
       "      <td>14.9</td>\n",
       "      <td>2.5</td>\n",
       "      <td>3.0</td>\n",
       "      <td>3.9</td>\n",
       "      <td>-47.4</td>\n",
       "      <td>-33.3</td>\n",
       "      <td>-23.1</td>\n",
       "      <td>1</td>\n",
       "    </tr>\n",
       "  </tbody>\n",
       "</table>\n",
       "</div>"
      ],
      "text/plain": [
       "                     am                   email         day  accountid    offer_mm  offermatchrate_pct  bidrate_pct  timeoutrate_pct  blockrate_pct  winrate_pct  revenue_cur  revcpm_cur  costcpm_cur  margin_pct  offerrate_pct  accountid  pdbidsofferedtotal  pdoffermatchrate  pdbidrate  pdtimeoutrate  pdblockrate  pdwinrate  pdrevenue  pdrevcpm  pdcostcpm  pdmargin  pdofferrate  accountid  4davgbidsofferedtotal  4doffermatchrate  4dbidrate  4dtimeoutrate  4dblockrate  4dwinrate  4davgrevenue  4drevcpm  4dcostcpm  4dmargin  4dofferrate  accountid  7davgbidsofferedtotal  7doffermatchrate  7dbidrate  7dtimeoutrate  7dblockrate  7dwinrate  7davgrevenue  7drevcpm  7dcostcpm  7dmargin  7dofferrate  rev_diff_agst_pd_cur  revenue_change_agst_pd_pct  revenue_change_agst_4davg_pct  revenue_change_agst_7davg_pct  offer_change_agst_pd_pct  offer_change_agst_4davg_pct  offer_change_agst_7davg_pct  offerrate_change_agst_pd_pct  offerrate_change_agst_4davg_pct  offerrate_change_agst_7davg_pct  \\\n",
       "advertiser                                                                                                                                                                                                                                                                                                                                                                                                                                                                                                                                                                                                                                                                                                                                                                                                                                                                                                                                                                                                                        \n",
       "RTB-IPonWeb       Veena  VXavier@pulsepoint.com  2017-07-10     556010  7118010719                  60         10.7              5.8            4.7          2.1        42749        2.62         1.87        28.6           28.2   556010.0        7.040304e+09              54.0       14.2            3.3          2.6        1.9    57906.0      3.10       2.18      29.7         28.4   556010.0           6.823159e+09              54.0       20.9            3.4          3.0        1.2       41992.0      2.46       1.73      29.6         28.1   556010.0           6.782347e+09              54.0       17.1            3.1          3.0        1.5       48098.0      2.85       1.88      34.2         28.3              -15157.0                       -26.2                            1.8                          -11.1                       1.1                          4.3                          4.9                          -0.7                              0.4                             -0.4   \n",
       "RTB-metanetworks   Liam    LBave@pulsepoint.com  2017-07-10     551446  3425263411                   0         11.8              1.0           47.7          1.6         4673        0.71         0.54        24.2           13.5   551446.0        2.720647e+09               0.0       33.0            1.9         66.5        3.1    20449.0      0.75       0.57      23.6         11.0   551446.0           1.975353e+09               0.0       26.8            1.5         39.9        1.6        5682.0      0.67       0.51      23.5          8.1   551446.0           1.888334e+09               0.0       24.6            1.3         31.5        1.3        3537.0      0.61       0.47      23.3          7.9              -15776.0                       -77.1                          -17.8                           32.1                      25.9                         73.4                         81.4                          22.7                             66.7                             70.9   \n",
       "\n",
       "                  offermatchrate_change_agst_pd_pct  offermatchrate_change_agst_4davg_pct  offermatchrate_change_agst_7davg_pct  bidrate_change_agst_pd_pct  bidrate_change_agst_4davg_pct  bidrate_change_agst_7davg_pct  blockrate_change_agst_pd_pct  blockrate_change_agst_4davg_pct  blockrate_change_agst_7davg_pct  winrate_change_agst_pd_pct  winrate_change_agst_4davg_pct  winrate_change_agst_7davg_pct  revcpm_change_agst_pd_pct  revcpm_change_agst_4davg_pct  revcpm_change_agst_7davg_pct  costcpm_change_agst_pd_pct  costcpm_change_agst_4davg_pct  costcpm_change_agst_7davg_pct  margin_change_agst_pd_pct  margin_change_agst_4davg_pct  margin_change_agst_7davg_pct  timeoutrate_change_agst_pd_pct  timeoutrate_change_agst_4davg_pct  timeoutrate_change_agst_7davg_pct  is_daily  \n",
       "advertiser                                                                                                                                                                                                                                                                                                                                                                                                                                                                                                                                                                                                                                                                                                                                                                                                   \n",
       "RTB-IPonWeb                                    11.1                                  11.1                                  11.1                       -24.6                          -48.8                          -37.4                          80.8                             56.7                             56.7                        10.5                           75.0                           40.0                      -15.5                           6.5                          -8.1                       -14.2                            8.1                           -0.5                       -3.7                          -3.4                         -16.4                            75.8                               70.6                               87.1         1  \n",
       "RTB-metanetworks                                0.0                                   0.0                                   0.0                       -64.2                          -56.0                          -52.0                         -28.3                             19.5                             51.4                       -48.4                            0.0                           23.1                       -5.3                           6.0                          16.4                        -5.3                            5.9                           14.9                        2.5                           3.0                           3.9                           -47.4                              -33.3                              -23.1         1  "
      ]
     },
     "execution_count": 5,
     "metadata": {},
     "output_type": "execute_result"
    }
   ],
   "source": [
    "#jumpers.head()\n",
    "droppers.head(2)"
   ]
  },
  {
   "cell_type": "code",
   "execution_count": 6,
   "metadata": {
    "collapsed": false
   },
   "outputs": [],
   "source": [
    "#ids, accountnames, table_headers, table_value = processed_df.multiple_tables(jumpers)\n",
    "ids, deep_dive_ids, accountnames, table_headers, table_value = processed_df.multiple_tables(droppers)"
   ]
  },
  {
   "cell_type": "code",
   "execution_count": 7,
   "metadata": {
    "collapsed": false
   },
   "outputs": [
    {
     "data": {
      "text/plain": [
       "'556010, 551446, 551587, 558189, 560271, 534889, 541254'"
      ]
     },
     "execution_count": 7,
     "metadata": {},
     "output_type": "execute_result"
    }
   ],
   "source": [
    "ids"
   ]
  },
  {
   "cell_type": "code",
   "execution_count": 8,
   "metadata": {
    "collapsed": false
   },
   "outputs": [
    {
     "data": {
      "text/plain": [
       "'556010, 551446, 551587'"
      ]
     },
     "execution_count": 8,
     "metadata": {},
     "output_type": "execute_result"
    }
   ],
   "source": [
    "deep_dive_ids"
   ]
  },
  {
   "cell_type": "markdown",
   "metadata": {},
   "source": [
    "### Pub ###"
   ]
  },
  {
   "cell_type": "code",
   "execution_count": 9,
   "metadata": {
    "collapsed": false
   },
   "outputs": [
    {
     "name": "stdout",
     "output_type": "stream",
     "text": [
      "No files removed: no files as of the day requested\n"
     ]
    }
   ],
   "source": [
    "pub = pp_data(query['PUB'])\n",
    "#df1 = pub.get_data(\"pubs_jumper\", deep_dive_ids)\n",
    "df1 = pub.get_data(\"pubs_dropper\", deep_dive_ids)"
   ]
  },
  {
   "cell_type": "code",
   "execution_count": 10,
   "metadata": {
    "collapsed": false
   },
   "outputs": [
    {
     "data": {
      "text/html": [
       "<div>\n",
       "<table border=\"1\" class=\"dataframe\">\n",
       "  <thead>\n",
       "    <tr style=\"text-align: right;\">\n",
       "      <th></th>\n",
       "      <th>accountid</th>\n",
       "      <th>dsp</th>\n",
       "      <th>publisherid</th>\n",
       "      <th>publisher</th>\n",
       "      <th>ppdrevenue_cur</th>\n",
       "      <th>pdrevenue_cur</th>\n",
       "      <th>difference_cur</th>\n",
       "      <th>delta_pct</th>\n",
       "    </tr>\n",
       "  </thead>\n",
       "  <tbody>\n",
       "    <tr>\n",
       "      <th>0</th>\n",
       "      <td>556010</td>\n",
       "      <td>RTB-IPonWeb</td>\n",
       "      <td>560348</td>\n",
       "      <td>Sortable_ActiveInterestEquine</td>\n",
       "      <td>0.0</td>\n",
       "      <td>0.0</td>\n",
       "      <td>0.0</td>\n",
       "      <td>-85.859192</td>\n",
       "    </tr>\n",
       "    <tr>\n",
       "      <th>1</th>\n",
       "      <td>551446</td>\n",
       "      <td>RTB-metanetworks</td>\n",
       "      <td>558617</td>\n",
       "      <td>MATOMY CONTENT NETWORK</td>\n",
       "      <td>0.0</td>\n",
       "      <td>0.0</td>\n",
       "      <td>0.0</td>\n",
       "      <td>-88.506643</td>\n",
       "    </tr>\n",
       "  </tbody>\n",
       "</table>\n",
       "</div>"
      ],
      "text/plain": [
       "   accountid               dsp  publisherid                      publisher  ppdrevenue_cur  pdrevenue_cur  difference_cur  delta_pct\n",
       "0     556010       RTB-IPonWeb       560348  Sortable_ActiveInterestEquine             0.0            0.0             0.0 -85.859192\n",
       "1     551446  RTB-metanetworks       558617         MATOMY CONTENT NETWORK             0.0            0.0             0.0 -88.506643"
      ]
     },
     "execution_count": 10,
     "metadata": {},
     "output_type": "execute_result"
    }
   ],
   "source": [
    "df1.head(2)"
   ]
  },
  {
   "cell_type": "code",
   "execution_count": 11,
   "metadata": {
    "collapsed": false
   },
   "outputs": [],
   "source": [
    "pub_processed = process_data(df1)"
   ]
  },
  {
   "cell_type": "code",
   "execution_count": 12,
   "metadata": {
    "collapsed": false
   },
   "outputs": [
    {
     "name": "stderr",
     "output_type": "stream",
     "text": [
      "C:\\Users\\ssu\\Documents\\github\\alerting\\process_data.py:107: SettingWithCopyWarning: \n",
      "A value is trying to be set on a copy of a slice from a DataFrame.\n",
      "Try using .loc[row_indexer,col_indexer] = value instead\n",
      "\n",
      "See the caveats in the documentation: http://pandas.pydata.org/pandas-docs/stable/indexing.html#indexing-view-versus-copy\n",
      "  df['flag'] = df['difference_cur'].apply(lambda x: 'increase' if x >=0 else 'drop')\n",
      "C:\\Users\\ssu\\Documents\\github\\alerting\\process_data.py:122: SettingWithCopyWarning: \n",
      "A value is trying to be set on a copy of a slice from a DataFrame.\n",
      "Try using .loc[row_indexer,col_indexer] = value instead\n",
      "\n",
      "See the caveats in the documentation: http://pandas.pydata.org/pandas-docs/stable/indexing.html#indexing-view-versus-copy\n",
      "  res['cutoff'] = int(pct * 100)\n"
     ]
    },
    {
     "data": {
      "text/html": [
       "<div>\n",
       "<table border=\"1\" class=\"dataframe\">\n",
       "  <thead>\n",
       "    <tr style=\"text-align: right;\">\n",
       "      <th></th>\n",
       "      <th>accountid</th>\n",
       "      <th>dsp</th>\n",
       "      <th>publisherid</th>\n",
       "      <th>publisher</th>\n",
       "      <th>ppdrevenue_cur</th>\n",
       "      <th>pdrevenue_cur</th>\n",
       "      <th>difference_cur</th>\n",
       "      <th>delta_pct</th>\n",
       "      <th>flag</th>\n",
       "      <th>cum_pct</th>\n",
       "      <th>cutoff</th>\n",
       "    </tr>\n",
       "  </thead>\n",
       "  <tbody>\n",
       "    <tr>\n",
       "      <th>0</th>\n",
       "      <td>556010</td>\n",
       "      <td>RTB-IPonWeb</td>\n",
       "      <td>560143</td>\n",
       "      <td>RockYou AP</td>\n",
       "      <td>&amp;#36;20,646</td>\n",
       "      <td>&amp;#36;13,183</td>\n",
       "      <td>-&amp;#36;7,463</td>\n",
       "      <td>-36.1%</td>\n",
       "      <td>drop</td>\n",
       "      <td>44.0%</td>\n",
       "      <td>50</td>\n",
       "    </tr>\n",
       "    <tr>\n",
       "      <th>1</th>\n",
       "      <td>551446</td>\n",
       "      <td>RTB-metanetworks</td>\n",
       "      <td>558346</td>\n",
       "      <td>Sortable</td>\n",
       "      <td>&amp;#36;3,529</td>\n",
       "      <td>&amp;#36;744</td>\n",
       "      <td>-&amp;#36;2,785</td>\n",
       "      <td>-78.9%</td>\n",
       "      <td>drop</td>\n",
       "      <td>17.6%</td>\n",
       "      <td>50</td>\n",
       "    </tr>\n",
       "    <tr>\n",
       "      <th>2</th>\n",
       "      <td>551446</td>\n",
       "      <td>RTB-metanetworks</td>\n",
       "      <td>558889</td>\n",
       "      <td>CrunchMind</td>\n",
       "      <td>&amp;#36;3,385</td>\n",
       "      <td>&amp;#36;672</td>\n",
       "      <td>-&amp;#36;2,713</td>\n",
       "      <td>-80.1%</td>\n",
       "      <td>drop</td>\n",
       "      <td>34.7%</td>\n",
       "      <td>50</td>\n",
       "    </tr>\n",
       "    <tr>\n",
       "      <th>3</th>\n",
       "      <td>551446</td>\n",
       "      <td>RTB-metanetworks</td>\n",
       "      <td>558860</td>\n",
       "      <td>ZuMobi</td>\n",
       "      <td>&amp;#36;938</td>\n",
       "      <td>&amp;#36;118</td>\n",
       "      <td>-&amp;#36;820</td>\n",
       "      <td>-87.4%</td>\n",
       "      <td>drop</td>\n",
       "      <td>39.9%</td>\n",
       "      <td>50</td>\n",
       "    </tr>\n",
       "    <tr>\n",
       "      <th>4</th>\n",
       "      <td>551446</td>\n",
       "      <td>RTB-metanetworks</td>\n",
       "      <td>559956</td>\n",
       "      <td>Monkey Broker</td>\n",
       "      <td>&amp;#36;896</td>\n",
       "      <td>&amp;#36;250</td>\n",
       "      <td>-&amp;#36;647</td>\n",
       "      <td>-72.2%</td>\n",
       "      <td>drop</td>\n",
       "      <td>44.0%</td>\n",
       "      <td>50</td>\n",
       "    </tr>\n",
       "  </tbody>\n",
       "</table>\n",
       "</div>"
      ],
      "text/plain": [
       "   accountid               dsp  publisherid      publisher ppdrevenue_cur pdrevenue_cur difference_cur delta_pct  flag cum_pct  cutoff\n",
       "0     556010       RTB-IPonWeb       560143     RockYou AP    &#36;20,646   &#36;13,183    -&#36;7,463    -36.1%  drop   44.0%      50\n",
       "1     551446  RTB-metanetworks       558346       Sortable     &#36;3,529      &#36;744    -&#36;2,785    -78.9%  drop   17.6%      50\n",
       "2     551446  RTB-metanetworks       558889     CrunchMind     &#36;3,385      &#36;672    -&#36;2,713    -80.1%  drop   34.7%      50\n",
       "3     551446  RTB-metanetworks       558860         ZuMobi       &#36;938      &#36;118      -&#36;820    -87.4%  drop   39.9%      50\n",
       "4     551446  RTB-metanetworks       559956  Monkey Broker       &#36;896      &#36;250      -&#36;647    -72.2%  drop   44.0%      50"
      ]
     },
     "execution_count": 12,
     "metadata": {},
     "output_type": "execute_result"
    }
   ],
   "source": [
    "tops = pub_processed.top_by_pct_multi_accts(0.5, positive=False)\n",
    "tops.head()"
   ]
  },
  {
   "cell_type": "code",
   "execution_count": 14,
   "metadata": {
    "collapsed": false
   },
   "outputs": [
    {
     "name": "stderr",
     "output_type": "stream",
     "text": [
      "C:\\Users\\ssu\\Documents\\github\\alerting\\insights.py:22: SettingWithCopyWarning: \n",
      "A value is trying to be set on a copy of a slice from a DataFrame.\n",
      "Try using .loc[row_indexer,col_indexer] = value instead\n",
      "\n",
      "See the caveats in the documentation: http://pandas.pydata.org/pandas-docs/stable/indexing.html#indexing-view-versus-copy\n",
      "  selectedCols_ext[dimension] = \"<a href='\" + link + \"dsp=\" + selectedCols_ext['dsp'] + \"&publisher=\" + selectedCols_ext[dimension] + \"' >\" + selectedCols_ext[dimension] + '</a>'\n"
     ]
    }
   ],
   "source": [
    "insight = insights(tops)\n",
    "res = insight.top_changers(ids, 'publisher', default_message['pub'], links['Tableau_dsp_pub'])"
   ]
  },
  {
   "cell_type": "code",
   "execution_count": 15,
   "metadata": {
    "collapsed": false
   },
   "outputs": [
    {
     "data": {
      "text/plain": [
       "[\"publishers account for 50% of drop: <a href='http://tableau:8000/#/views/DSPTrendsDashboard/DSPPublisherTrends7D?dsp=RTB-IPonWeb&publisher=RockYou AP' >RockYou AP</a>, -&#36;7,463, -36.1%;  \",\n",
       " \"publishers account for 50% of drop: <a href='http://tableau:8000/#/views/DSPTrendsDashboard/DSPPublisherTrends7D?dsp=RTB-metanetworks&publisher=Sortable' >Sortable</a>, -&#36;2,785, -78.9%;  <a href='http://tableau:8000/#/views/DSPTrendsDashboard/DSPPublisherTrends7D?dsp=RTB-metanetworks&publisher=CrunchMind' >CrunchMind</a>, -&#36;2,713, -80.1%;  <a href='http://tableau:8000/#/views/DSPTrendsDashboard/DSPPublisherTrends7D?dsp=RTB-metanetworks&publisher=ZuMobi' >ZuMobi</a>, -&#36;820, -87.4%;  <a href='http://tableau:8000/#/views/DSPTrendsDashboard/DSPPublisherTrends7D?dsp=RTB-metanetworks&publisher=Monkey Broker' >Monkey Broker</a>, -&#36;647, -72.2%;  <a href='http://tableau:8000/#/views/DSPTrendsDashboard/DSPPublisherTrends7D?dsp=RTB-metanetworks&publisher=ROI Media' >ROI Media</a>, -&#36;579, -78.1%;  \",\n",
       " \"publishers account for 50% of drop: <a href='http://tableau:8000/#/views/DSPTrendsDashboard/DSPPublisherTrends7D?dsp=RTB-GetIntent&publisher=Cignal.IO' >Cignal.IO</a>, -&#36;755, -74.6%;  \",\n",
       " 'The account dropped aganst 4(7)-day average. If expected, ignore the alert. O/w, please take a look.',\n",
       " 'The account dropped aganst 4(7)-day average. If expected, ignore the alert. O/w, please take a look.',\n",
       " 'The account dropped aganst 4(7)-day average. If expected, ignore the alert. O/w, please take a look.',\n",
       " 'The account dropped aganst 4(7)-day average. If expected, ignore the alert. O/w, please take a look.']"
      ]
     },
     "execution_count": 15,
     "metadata": {},
     "output_type": "execute_result"
    }
   ],
   "source": [
    "res"
   ]
  },
  {
   "cell_type": "markdown",
   "metadata": {},
   "source": [
    "### Campaigns ###"
   ]
  },
  {
   "cell_type": "code",
   "execution_count": 16,
   "metadata": {
    "collapsed": false
   },
   "outputs": [
    {
     "name": "stdout",
     "output_type": "stream",
     "text": [
      "No files removed: no files as of the day requested\n"
     ]
    }
   ],
   "source": [
    "lan = pp_data(query['LANDINGPAGE'])\n",
    "#df2 = lan.get_data(\"pubs_jumper\", deep_dive_ids)\n",
    "df2 = lan.get_data(\"LANDINGPAGE_for_dropper\", deep_dive_ids)"
   ]
  },
  {
   "cell_type": "code",
   "execution_count": 17,
   "metadata": {
    "collapsed": true
   },
   "outputs": [],
   "source": [
    "lan_processed = process_data(df2)"
   ]
  },
  {
   "cell_type": "code",
   "execution_count": 18,
   "metadata": {
    "collapsed": false
   },
   "outputs": [
    {
     "name": "stderr",
     "output_type": "stream",
     "text": [
      "C:\\Users\\ssu\\Documents\\github\\alerting\\process_data.py:107: SettingWithCopyWarning: \n",
      "A value is trying to be set on a copy of a slice from a DataFrame.\n",
      "Try using .loc[row_indexer,col_indexer] = value instead\n",
      "\n",
      "See the caveats in the documentation: http://pandas.pydata.org/pandas-docs/stable/indexing.html#indexing-view-versus-copy\n",
      "  df['flag'] = df['difference_cur'].apply(lambda x: 'increase' if x >=0 else 'drop')\n",
      "C:\\Users\\ssu\\Documents\\github\\alerting\\process_data.py:122: SettingWithCopyWarning: \n",
      "A value is trying to be set on a copy of a slice from a DataFrame.\n",
      "Try using .loc[row_indexer,col_indexer] = value instead\n",
      "\n",
      "See the caveats in the documentation: http://pandas.pydata.org/pandas-docs/stable/indexing.html#indexing-view-versus-copy\n",
      "  res['cutoff'] = int(pct * 100)\n"
     ]
    }
   ],
   "source": [
    "lan_tops = lan_processed.top_by_pct_multi_accts(0.5, positive=False)"
   ]
  },
  {
   "cell_type": "code",
   "execution_count": 20,
   "metadata": {
    "collapsed": false
   },
   "outputs": [
    {
     "data": {
      "text/html": [
       "<div>\n",
       "<table border=\"1\" class=\"dataframe\">\n",
       "  <thead>\n",
       "    <tr style=\"text-align: right;\">\n",
       "      <th></th>\n",
       "      <th>accountid</th>\n",
       "      <th>campaign</th>\n",
       "      <th>ppdrevenue_cur</th>\n",
       "      <th>pdrevenue_cur</th>\n",
       "      <th>difference_cur</th>\n",
       "      <th>delta_pct</th>\n",
       "      <th>flag</th>\n",
       "      <th>cum_pct</th>\n",
       "      <th>cutoff</th>\n",
       "    </tr>\n",
       "  </thead>\n",
       "  <tbody>\n",
       "    <tr>\n",
       "      <th>0</th>\n",
       "      <td>556010</td>\n",
       "      <td>nissanusa.com</td>\n",
       "      <td>&amp;#36;20,104</td>\n",
       "      <td>&amp;#36;14,231</td>\n",
       "      <td>-&amp;#36;5,873</td>\n",
       "      <td>-29.2%</td>\n",
       "      <td>drop</td>\n",
       "      <td>18.9%</td>\n",
       "      <td>50</td>\n",
       "    </tr>\n",
       "    <tr>\n",
       "      <th>1</th>\n",
       "      <td>556010</td>\n",
       "      <td>snickers.com</td>\n",
       "      <td>&amp;#36;3,010</td>\n",
       "      <td>&amp;#36;1,095</td>\n",
       "      <td>-&amp;#36;1,915</td>\n",
       "      <td>-63.6%</td>\n",
       "      <td>drop</td>\n",
       "      <td>25.0%</td>\n",
       "      <td>50</td>\n",
       "    </tr>\n",
       "    <tr>\n",
       "      <th>2</th>\n",
       "      <td>556010</td>\n",
       "      <td>reynoldsconsumerproducts.com</td>\n",
       "      <td>&amp;#36;2,202</td>\n",
       "      <td>&amp;#36;704</td>\n",
       "      <td>-&amp;#36;1,498</td>\n",
       "      <td>-68.0%</td>\n",
       "      <td>drop</td>\n",
       "      <td>29.8%</td>\n",
       "      <td>50</td>\n",
       "    </tr>\n",
       "    <tr>\n",
       "      <th>3</th>\n",
       "      <td>556010</td>\n",
       "      <td>baronsmedia.com</td>\n",
       "      <td>&amp;#36;2,824</td>\n",
       "      <td>&amp;#36;1,456</td>\n",
       "      <td>-&amp;#36;1,367</td>\n",
       "      <td>-48.4%</td>\n",
       "      <td>drop</td>\n",
       "      <td>34.2%</td>\n",
       "      <td>50</td>\n",
       "    </tr>\n",
       "    <tr>\n",
       "      <th>4</th>\n",
       "      <td>556010</td>\n",
       "      <td>amazon.ca</td>\n",
       "      <td>&amp;#36;1,427</td>\n",
       "      <td>&amp;#36;205</td>\n",
       "      <td>-&amp;#36;1,222</td>\n",
       "      <td>-85.6%</td>\n",
       "      <td>drop</td>\n",
       "      <td>38.2%</td>\n",
       "      <td>50</td>\n",
       "    </tr>\n",
       "  </tbody>\n",
       "</table>\n",
       "</div>"
      ],
      "text/plain": [
       "   accountid                      campaign ppdrevenue_cur pdrevenue_cur difference_cur delta_pct  flag cum_pct  cutoff\n",
       "0     556010                 nissanusa.com    &#36;20,104   &#36;14,231    -&#36;5,873    -29.2%  drop   18.9%      50\n",
       "1     556010                  snickers.com     &#36;3,010    &#36;1,095    -&#36;1,915    -63.6%  drop   25.0%      50\n",
       "2     556010  reynoldsconsumerproducts.com     &#36;2,202      &#36;704    -&#36;1,498    -68.0%  drop   29.8%      50\n",
       "3     556010               baronsmedia.com     &#36;2,824    &#36;1,456    -&#36;1,367    -48.4%  drop   34.2%      50\n",
       "4     556010                     amazon.ca     &#36;1,427      &#36;205    -&#36;1,222    -85.6%  drop   38.2%      50"
      ]
     },
     "execution_count": 20,
     "metadata": {},
     "output_type": "execute_result"
    }
   ],
   "source": [
    "lan_tops.head()"
   ]
  },
  {
   "cell_type": "code",
   "execution_count": 22,
   "metadata": {
    "collapsed": false
   },
   "outputs": [],
   "source": [
    "insight2 = insights(lan_tops)\n",
    "res = insight2.top_changers(ids, 'campaign', default_message['campaign'])"
   ]
  },
  {
   "cell_type": "code",
   "execution_count": 23,
   "metadata": {
    "collapsed": false
   },
   "outputs": [
    {
     "data": {
      "text/plain": [
       "['campaigns account for 50% of drop: nissanusa.com, -&#36;5,873, -29.2%;  snickers.com, -&#36;1,915, -63.6%;  reynoldsconsumerproducts.com, -&#36;1,498, -68.0%;  baronsmedia.com, -&#36;1,367, -48.4%;  amazon.ca, -&#36;1,222, -85.6%;  sonypictures.com, -&#36;1,107, -81.3%;  realcaliforniamilk.com, -&#36;910, -100.0%;  foxmovies.com, -&#36;722, -38.3%;  warnerbros.com, -&#36;688, -90.9%;  ',\n",
       " 'campaigns account for 50% of drop: addoox.com, -&#36;15,254, -76.2%;  ',\n",
       " 'campaigns account for 50% of drop: chick-fil-a.com, -&#36;5,504, -63.0%;  ',\n",
       " '',\n",
       " '',\n",
       " '',\n",
       " '']"
      ]
     },
     "execution_count": 23,
     "metadata": {},
     "output_type": "execute_result"
    }
   ],
   "source": [
    "res"
   ]
  },
  {
   "cell_type": "markdown",
   "metadata": {},
   "source": [
    "### Channel ###"
   ]
  },
  {
   "cell_type": "code",
   "execution_count": 24,
   "metadata": {
    "collapsed": false
   },
   "outputs": [
    {
     "name": "stdout",
     "output_type": "stream",
     "text": [
      "No files removed: no files as of the day requested\n"
     ]
    },
    {
     "data": {
      "text/html": [
       "<div>\n",
       "<table border=\"1\" class=\"dataframe\">\n",
       "  <thead>\n",
       "    <tr style=\"text-align: right;\">\n",
       "      <th></th>\n",
       "      <th>accountid</th>\n",
       "      <th>channel</th>\n",
       "      <th>ppdrevenue_cur</th>\n",
       "      <th>pdrevenue_cur</th>\n",
       "      <th>difference_cur</th>\n",
       "      <th>delta_pct</th>\n",
       "    </tr>\n",
       "  </thead>\n",
       "  <tbody>\n",
       "    <tr>\n",
       "      <th>0</th>\n",
       "      <td>556010</td>\n",
       "      <td>video</td>\n",
       "      <td>43291.0</td>\n",
       "      <td>30741.0</td>\n",
       "      <td>-12550.0</td>\n",
       "      <td>-28.990408</td>\n",
       "    </tr>\n",
       "    <tr>\n",
       "      <th>1</th>\n",
       "      <td>551587</td>\n",
       "      <td>video</td>\n",
       "      <td>1724.0</td>\n",
       "      <td>629.0</td>\n",
       "      <td>-1095.0</td>\n",
       "      <td>-63.528396</td>\n",
       "    </tr>\n",
       "    <tr>\n",
       "      <th>2</th>\n",
       "      <td>551446</td>\n",
       "      <td>display</td>\n",
       "      <td>20449.0</td>\n",
       "      <td>4673.0</td>\n",
       "      <td>-15776.0</td>\n",
       "      <td>-77.150003</td>\n",
       "    </tr>\n",
       "    <tr>\n",
       "      <th>3</th>\n",
       "      <td>551587</td>\n",
       "      <td>display</td>\n",
       "      <td>218.0</td>\n",
       "      <td>192.0</td>\n",
       "      <td>-26.0</td>\n",
       "      <td>-12.006436</td>\n",
       "    </tr>\n",
       "    <tr>\n",
       "      <th>4</th>\n",
       "      <td>551446</td>\n",
       "      <td>video</td>\n",
       "      <td>0.0</td>\n",
       "      <td>0.0</td>\n",
       "      <td>0.0</td>\n",
       "      <td>0.000000</td>\n",
       "    </tr>\n",
       "  </tbody>\n",
       "</table>\n",
       "</div>"
      ],
      "text/plain": [
       "   accountid  channel  ppdrevenue_cur  pdrevenue_cur  difference_cur  delta_pct\n",
       "0     556010    video         43291.0        30741.0        -12550.0 -28.990408\n",
       "1     551587    video          1724.0          629.0         -1095.0 -63.528396\n",
       "2     551446  display         20449.0         4673.0        -15776.0 -77.150003\n",
       "3     551587  display           218.0          192.0           -26.0 -12.006436\n",
       "4     551446    video             0.0            0.0             0.0   0.000000"
      ]
     },
     "execution_count": 24,
     "metadata": {},
     "output_type": "execute_result"
    }
   ],
   "source": [
    "cn = pp_data(query['CHANNEL'])\n",
    "df3 = cn.get_data(\"channel_dropper\", deep_dive_ids)\n",
    "df3.head()"
   ]
  },
  {
   "cell_type": "code",
   "execution_count": 25,
   "metadata": {
    "collapsed": false
   },
   "outputs": [],
   "source": [
    "insight3 = insights(df3)\n",
    "res = insight3.facts(ids, 'channel', default_message['channel'])"
   ]
  },
  {
   "cell_type": "raw",
   "metadata": {
    "collapsed": true
   },
   "source": []
  },
  {
   "cell_type": "code",
   "execution_count": null,
   "metadata": {
    "collapsed": true
   },
   "outputs": [],
   "source": []
  },
  {
   "cell_type": "code",
   "execution_count": null,
   "metadata": {
    "collapsed": true
   },
   "outputs": [],
   "source": []
  },
  {
   "cell_type": "code",
   "execution_count": null,
   "metadata": {
    "collapsed": true
   },
   "outputs": [],
   "source": []
  },
  {
   "cell_type": "code",
   "execution_count": null,
   "metadata": {
    "collapsed": true
   },
   "outputs": [],
   "source": []
  },
  {
   "cell_type": "code",
   "execution_count": null,
   "metadata": {
    "collapsed": true
   },
   "outputs": [],
   "source": []
  },
  {
   "cell_type": "code",
   "execution_count": null,
   "metadata": {
    "collapsed": true
   },
   "outputs": [],
   "source": []
  },
  {
   "cell_type": "code",
   "execution_count": null,
   "metadata": {
    "collapsed": true
   },
   "outputs": [],
   "source": []
  },
  {
   "cell_type": "code",
   "execution_count": null,
   "metadata": {
    "collapsed": true
   },
   "outputs": [],
   "source": []
  },
  {
   "cell_type": "code",
   "execution_count": null,
   "metadata": {
    "collapsed": true
   },
   "outputs": [],
   "source": []
  },
  {
   "cell_type": "code",
   "execution_count": null,
   "metadata": {
    "collapsed": true
   },
   "outputs": [],
   "source": []
  },
  {
   "cell_type": "code",
   "execution_count": null,
   "metadata": {
    "collapsed": true
   },
   "outputs": [],
   "source": []
  },
  {
   "cell_type": "code",
   "execution_count": null,
   "metadata": {
    "collapsed": true
   },
   "outputs": [],
   "source": []
  },
  {
   "cell_type": "code",
   "execution_count": null,
   "metadata": {
    "collapsed": true
   },
   "outputs": [],
   "source": []
  },
  {
   "cell_type": "code",
   "execution_count": null,
   "metadata": {
    "collapsed": true
   },
   "outputs": [],
   "source": []
  },
  {
   "cell_type": "code",
   "execution_count": null,
   "metadata": {
    "collapsed": true
   },
   "outputs": [],
   "source": []
  },
  {
   "cell_type": "code",
   "execution_count": null,
   "metadata": {
    "collapsed": true
   },
   "outputs": [],
   "source": []
  },
  {
   "cell_type": "code",
   "execution_count": null,
   "metadata": {
    "collapsed": true
   },
   "outputs": [],
   "source": []
  },
  {
   "cell_type": "code",
   "execution_count": null,
   "metadata": {
    "collapsed": true
   },
   "outputs": [],
   "source": []
  },
  {
   "cell_type": "code",
   "execution_count": null,
   "metadata": {
    "collapsed": true
   },
   "outputs": [],
   "source": []
  },
  {
   "cell_type": "code",
   "execution_count": null,
   "metadata": {
    "collapsed": true
   },
   "outputs": [],
   "source": []
  },
  {
   "cell_type": "code",
   "execution_count": null,
   "metadata": {
    "collapsed": true
   },
   "outputs": [],
   "source": []
  },
  {
   "cell_type": "code",
   "execution_count": null,
   "metadata": {
    "collapsed": true
   },
   "outputs": [],
   "source": []
  },
  {
   "cell_type": "code",
   "execution_count": null,
   "metadata": {
    "collapsed": true
   },
   "outputs": [],
   "source": []
  },
  {
   "cell_type": "code",
   "execution_count": null,
   "metadata": {
    "collapsed": true
   },
   "outputs": [],
   "source": []
  },
  {
   "cell_type": "code",
   "execution_count": null,
   "metadata": {
    "collapsed": true
   },
   "outputs": [],
   "source": [
    "acct_new = acct.groupby(['rev_change_binary']).agg({\"publisherid\": \"count\", \"difference\": sum})"
   ]
  },
  {
   "cell_type": "code",
   "execution_count": null,
   "metadata": {
    "collapsed": true
   },
   "outputs": [],
   "source": []
  },
  {
   "cell_type": "code",
   "execution_count": null,
   "metadata": {
    "collapsed": true
   },
   "outputs": [],
   "source": [
    "df.to_csv(\"pubs_20170706.csv\", index = False)"
   ]
  },
  {
   "cell_type": "code",
   "execution_count": null,
   "metadata": {
    "collapsed": false
   },
   "outputs": [],
   "source": [
    "acctid"
   ]
  },
  {
   "cell_type": "code",
   "execution_count": null,
   "metadata": {
    "collapsed": false
   },
   "outputs": [],
   "source": [
    "acctids = ', '.join([str(i) for i in acctid])\n",
    "acctids"
   ]
  },
  {
   "cell_type": "code",
   "execution_count": null,
   "metadata": {
    "collapsed": false
   },
   "outputs": [],
   "source": [
    "lp = load_data(query['LANDINGPAGE'], 'dsp_landingpage', acctids, 1)"
   ]
  },
  {
   "cell_type": "code",
   "execution_count": null,
   "metadata": {
    "collapsed": false
   },
   "outputs": [],
   "source": [
    "res = []\n",
    "for acct in acctid_array:\n",
    "    print(acct)\n",
    "    acct_df = lp[lp['buyerid'] == acct]\n",
    "    acct_top = get_top(acct_df, message['top_3'], 'difference', asc=True)\n",
    "    adj_dollar_sign_for_negative_number(acct_top, 'difference')\n",
    "    acct_top['delta'] = np.vectorize(percent)(acct_top['delta'])\n",
    "    print(acct_top)\n",
    "#     adj_dollar_sign_for_negative_number(acct_top, difference)\n",
    "#     acct_top[delta] = np.vectorize(percent)(acct_top[delta])\n",
    "#     string = strheader\n",
    "#     if add_link is False:\n",
    "#         selectedCols = acct_top[[dimension, difference, delta]]\t\n",
    "#     else:\n",
    "#         selectedCols_ext = acct_top[[dimension, difference, delta, 'dsp']]\n",
    "#         selectedCols_ext[dimension] = \"<a href='\" + message['Tableau_dsp_pub'] + \"dsp=\" + selectedCols_ext['dsp'] + \"&publisher=\" + selectedCols_ext[dimension] + \"' >\" + selectedCols_ext[dimension] + '</a>'\t\n",
    "#         selectedCols = selectedCols_ext[[dimension, difference, delta]]\n",
    "#     for i in range(len(selectedCols)):\n",
    "#         val = ', '.join([str(i) for i in selectedCols.iloc[i]])\n",
    "#         string = string + val + \";  \"\n",
    "#     res.append(string)\n",
    "# return res "
   ]
  },
  {
   "cell_type": "code",
   "execution_count": null,
   "metadata": {
    "collapsed": false
   },
   "outputs": [],
   "source": [
    "a = is_dropped(-2.1, -3.6, 1.6)\n",
    "a"
   ]
  },
  {
   "cell_type": "code",
   "execution_count": null,
   "metadata": {
    "collapsed": true
   },
   "outputs": [],
   "source": [
    "possible_cause_threshold = -10\n",
    "\n",
    "def is_dropped(metric1, metric2, metric3):\n",
    "    if (metric1 < possible_cause_threshold or metric2 < possible_cause_threshold or metric3 < possible_cause_threshold):\n",
    "        return True \n",
    "    else: \n",
    "        return False \n",
    "    \n",
    "def is_increased(metric1, metric2, metric3):\n",
    "    if (metric1 > -possible_cause_threshold or metric2 > -possible_cause_threshold or metric3 > -possible_cause_threshold):\n",
    "        return True \n",
    "    else: \n",
    "        return False \n",
    "    \n",
    "def is_negative(metric1, metric2, metric3):\n",
    "    if (metric1 < 0 or metric2 < 0 or metric3 < 0):\n",
    "        return True \n",
    "    else: \n",
    "        return False \n",
    "\n",
    "def is_stable(metric1, metric2, metric3):\n",
    "    if (metric1 < 5 and metric1 > -5) and (metric2 < 5 and metric2 > -5) and (metric3 < 5 and metric3 > -5):\n",
    "        return True \n",
    "    else: \n",
    "        return False \n",
    "\n",
    "def get_summary(offer_pd, offer_4d, offer_7d, offerrate_pd, offerrate_4d, offerrate_7d, bidrate_pd, bidrate_4d, bidrate_7d, winrate_pd, winrate_4d, winrate_7d, revcpm_change_agst_pd, revcpm_change_agst_4davg, revcpm_change_agst_7davg, costcpm_change_agst_pd, costcpm_change_agst_4davg, costcpm_change_agst_7davg):\n",
    "    if (is_dropped(offer_pd, offer_4d, offer_7d) is True or is_dropped(offer_pd, offer_4d, offer_7d) is True) and (is_dropped(bidrate_pd, bidrate_4d, bidrate_7d) is False and is_dropped(winrate_pd, winrate_4d, winrate_7d) is False):\n",
    "        return \"most likely due to supply change. Please check rev-driving pubs' supply, DSP throttle changes such as PQS, domain/pub block etc.\"\n",
    "    elif (is_dropped(bidrate_pd, bidrate_4d, bidrate_7d) is True or is_dropped(winrate_pd, winrate_4d, winrate_7d) is True) and (is_dropped(offer_pd, offer_4d, offer_7d) is False and is_dropped(offer_pd, offer_4d, offer_7d) is False): \n",
    "        return \"most likely due to demand change. Please check if drop is expected.\"\n",
    "    elif (is_stable(offer_pd, offer_4d, offer_7d) is True and is_stable(offer_pd, offer_4d, offer_7d) is True) and is_dropped(winrate_pd, winrate_4d, winrate_7d) is True and is_increased(costcpm_change_agst_pd, costcpm_change_agst_4davg, costcpm_change_agst_7davg) is True and is_stable(revcpm_change_agst_pd, revcpm_change_agst_4davg, revcpm_change_agst_7davg) is True:\n",
    "        return \"most likely due to intenser competition in upstream auction or change on pub's floor\"\n",
    "    elif (is_dropped(offer_pd, offer_4d, offer_7d) is True or is_dropped(offer_pd, offer_4d, offer_7d) is True) and (is_dropped(bidrate_pd, bidrate_4d, bidrate_7d) is True or is_dropped(winrate_pd, winrate_4d, winrate_7d) is True):\n",
    "        return \"most likely due to both supply drop and demand drop. Please check both sides.\"\n",
    "    else:\n",
    "        return \"could be due to multiple reasons. Please check all metrics.\"\n",
    "    "
   ]
  },
  {
   "cell_type": "code",
   "execution_count": null,
   "metadata": {
    "collapsed": false
   },
   "outputs": [],
   "source": [
    "test['highlight'] = np.vectorize(get_summary)(test['offer_change_agst_pd'], test['offer_change_agst_4davg'], test['offer_change_agst_7davg'], test['offerrate_change_agst_pd'], test['offerrate_change_agst_4davg'], test['offerrate_change_agst_7davg'], test['bidrate_change_agst_pd'], test['bidrate_change_agst_4davg'], test['bidrate_change_agst_7davg'], test['winrate_change_agst_pd'], test['winrate_change_agst_4davg'], test['winrate_change_agst_7davg'], test['revcpm_change_agst_pd'], test['revcpm_change_agst_4davg'], test['revcpm_change_agst_7davg'], test['costcpm_change_agst_pd'], test['costcpm_change_agst_4davg'], test['costcpm_change_agst_7davg'])"
   ]
  },
  {
   "cell_type": "code",
   "execution_count": null,
   "metadata": {
    "collapsed": false
   },
   "outputs": [],
   "source": [
    "test.head()"
   ]
  },
  {
   "cell_type": "code",
   "execution_count": null,
   "metadata": {
    "collapsed": false
   },
   "outputs": [],
   "source": [
    "test.dtypes"
   ]
  },
  {
   "cell_type": "code",
   "execution_count": null,
   "metadata": {
    "collapsed": false
   },
   "outputs": [],
   "source": [
    "buyerid = test['buyerid'].T.drop_duplicates().T\n",
    "y = np.array(buyerid['buyerid'])\n",
    "param = ', '.join([str(i) for i in y])\n",
    "param"
   ]
  },
  {
   "cell_type": "code",
   "execution_count": null,
   "metadata": {
    "collapsed": false
   },
   "outputs": [],
   "source": [
    "bl = load_data(query['BIDLOSS'], \"dsp_bidloss\", param, 1)\n",
    "bls = bl[bl['buyerid'] == 547259]"
   ]
  },
  {
   "cell_type": "code",
   "execution_count": null,
   "metadata": {
    "collapsed": false
   },
   "outputs": [],
   "source": [
    "top = get_top(bls, 3, \"impressions\", asc=False )"
   ]
  },
  {
   "cell_type": "code",
   "execution_count": null,
   "metadata": {
    "collapsed": false
   },
   "outputs": [],
   "source": [
    "top"
   ]
  },
  {
   "cell_type": "code",
   "execution_count": null,
   "metadata": {
    "collapsed": false
   },
   "outputs": [],
   "source": [
    "dsp_pub = load_data(query['DSP-PUB'], \"dsp_pub\", param, 2)"
   ]
  },
  {
   "cell_type": "code",
   "execution_count": null,
   "metadata": {
    "collapsed": false
   },
   "outputs": [],
   "source": [
    "dsp_pub.head()"
   ]
  },
  {
   "cell_type": "code",
   "execution_count": null,
   "metadata": {
    "collapsed": true
   },
   "outputs": [],
   "source": [
    "dp = dsp_pub.sort_values(by = ['buyerid', 'rev_difference'], ascending = [True, True])"
   ]
  },
  {
   "cell_type": "code",
   "execution_count": null,
   "metadata": {
    "collapsed": false
   },
   "outputs": [],
   "source": [
    "pub = get_topdrop(param, query['DSP-PUB'], 'dsp_pub', 2, 'publisher','rev_difference', 'rev_delta', '* Top drop pubs: ')"
   ]
  },
  {
   "cell_type": "code",
   "execution_count": null,
   "metadata": {
    "collapsed": true
   },
   "outputs": [],
   "source": []
  },
  {
   "cell_type": "code",
   "execution_count": null,
   "metadata": {
    "collapsed": false
   },
   "outputs": [],
   "source": [
    "pubs = get_topdrop(y, dp, 'publisher','rev_difference', 'rev_delta', 'Top drop pubs: ' )\n",
    "pubs"
   ]
  },
  {
   "cell_type": "code",
   "execution_count": null,
   "metadata": {
    "collapsed": false
   },
   "outputs": [],
   "source": [
    "lan = load_data(query['LANDINGPAGE'], \"dsp_landingpage\", param, 1)\n",
    "#lan = lan.sort_values(by = ['buyerid', 'difference'], ascending = [True, True])"
   ]
  },
  {
   "cell_type": "code",
   "execution_count": null,
   "metadata": {
    "collapsed": false
   },
   "outputs": [],
   "source": [
    "lan.head()"
   ]
  },
  {
   "cell_type": "code",
   "execution_count": null,
   "metadata": {
    "collapsed": false
   },
   "outputs": [],
   "source": [
    "lans = get_topdrop(y, lan, 'landingpagedomain','difference', 'delta', 'Top drop campaigns: ' )\n",
    "lans"
   ]
  },
  {
   "cell_type": "code",
   "execution_count": null,
   "metadata": {
    "collapsed": true
   },
   "outputs": [],
   "source": [
    "dc = load_data(query['DC'], \"dsp_dc\", param, 1)"
   ]
  },
  {
   "cell_type": "code",
   "execution_count": null,
   "metadata": {
    "collapsed": false
   },
   "outputs": [],
   "source": [
    "dcs = get_topdrop(y, dc, 'dc','difference', 'delta', 'Change by DC: ' )\n",
    "dcs"
   ]
  },
  {
   "cell_type": "code",
   "execution_count": null,
   "metadata": {
    "collapsed": true
   },
   "outputs": [],
   "source": [
    "cn = load_data(query['CHANNEL'], \"dsp_channel\", param, 1)"
   ]
  },
  {
   "cell_type": "code",
   "execution_count": null,
   "metadata": {
    "collapsed": false
   },
   "outputs": [],
   "source": [
    "cns = get_topdrop(y, cn, 'channel','difference', 'delta', 'Change by Channel: ' )\n",
    "cns"
   ]
  },
  {
   "cell_type": "code",
   "execution_count": null,
   "metadata": {
    "collapsed": false
   },
   "outputs": [],
   "source": [
    "def load_data(sql, fname, param=None):\n",
    "    with open(sql) as f:\n",
    "        if param==None:\n",
    "            query = f.read().strip()\n",
    "        else:\n",
    "            query = f.read().strip() % (param, param)\n",
    "    filename = os.path.join(data_directory, \"{}_{}.pkl\".format(fname, datetime.datetime.now().strftime(\"%Y%m%d\")))\n",
    "    if os.path.exists(filename) is False:\n",
    "        df = pd.read_sql(query, create_engine(\"impala://impala.pulse.prod\"))\n",
    "        df.to_pickle(filename)\n",
    "    else:\n",
    "        df = pd.read_pickle(filename)\n",
    "    return df"
   ]
  },
  {
   "cell_type": "code",
   "execution_count": null,
   "metadata": {
    "collapsed": false
   },
   "outputs": [],
   "source": [
    "def cal_supply_demand_relationship(acctid):\n",
    "    acct = dp[dp['buyerid'] == acctid]\n",
    "    a = np.array(acct['rev_delta'])\n",
    "    b = np.array(acct['offer_delta'])\n",
    "    r = np.corrcoef(a,b)[1, 0]\n",
    "    print(r)"
   ]
  },
  {
   "cell_type": "code",
   "execution_count": null,
   "metadata": {
    "collapsed": false
   },
   "outputs": [],
   "source": [
    "for i in y:\n",
    "    print(i)\n",
    "    cal_supply_demand_relationship(i)"
   ]
  },
  {
   "cell_type": "code",
   "execution_count": null,
   "metadata": {
    "collapsed": true
   },
   "outputs": [],
   "source": [
    "\tday = df['day'][0]\n",
    "\taccts = pd.Series(df.index)\n",
    "\theaders = []\n",
    "\tvalue = []\n",
    "\tyesterday_cols = ['revenue' , 'offer' , 'offerrate' , 'offermatchrate' , 'bidrate' , 'blockrate' , 'winrate' , 'revcpm'\n",
    "\t                     , 'costcpm' , 'margin' , 'timeoutrate']\n",
    "\tyesterday = df[yesterday_cols]\n",
    "\tyesterday_T = yesterday.T\n",
    "\tdelta_col = list(df.loc[:, 'revenue_change_agst_pd':'timeoutrate_change_agst_7davg'])\n",
    "\tdelta = df[delta_col]"
   ]
  },
  {
   "cell_type": "code",
   "execution_count": null,
   "metadata": {
    "collapsed": true
   },
   "outputs": [],
   "source": [
    "\tfor acct in accts:\n",
    "\t\tacct_yesterday = yesterday_T[acct]\n",
    "\t\tpday = slice_data('pd', delta, acct)\n",
    "\t\tavg4d = slice_data('4davg', delta, acct) \n",
    "\t\tavg7d = slice_data('7davg', delta, acct) \n",
    "\t\tacct_data = pd.concat([acct_yesterday, pday, avg4d, avg7d], axis = 1, keys=[day, 'change agst prior day', 'change agst 4-day avg', 'change agst 7-day avg'])\n",
    "\t\tacct_data= acct_data.reset_index()\n",
    "\t\tdata = df_json(acct_data)\n",
    "\t\theader = data['columns']\n",
    "\t\tval = data['data']\n",
    "\t\theaders.append(header)\n",
    "\t\tvalue.append(val)"
   ]
  },
  {
   "cell_type": "code",
   "execution_count": null,
   "metadata": {
    "collapsed": false
   },
   "outputs": [],
   "source": [
    "acct_data"
   ]
  },
  {
   "cell_type": "code",
   "execution_count": null,
   "metadata": {
    "collapsed": false
   },
   "outputs": [],
   "source": [
    "acct_data['metric'] = acct_data['metric'].apply(lambda x: x.replace('rate', ' rate'))"
   ]
  },
  {
   "cell_type": "code",
   "execution_count": null,
   "metadata": {
    "collapsed": false
   },
   "outputs": [],
   "source": [
    "acct_data"
   ]
  },
  {
   "cell_type": "code",
   "execution_count": null,
   "metadata": {
    "collapsed": true
   },
   "outputs": [],
   "source": [
    "x = '-hello'"
   ]
  },
  {
   "cell_type": "code",
   "execution_count": null,
   "metadata": {
    "collapsed": false
   },
   "outputs": [],
   "source": [
    "y = x.split(\" \",1)\n",
    "y"
   ]
  },
  {
   "cell_type": "code",
   "execution_count": null,
   "metadata": {
    "collapsed": false
   },
   "outputs": [],
   "source": [
    "message = {\n",
    "    'top_n': 3,\n",
    "    'dsp_pub_Tableau_link': 'http://tableau:8000/#/views/DSPTrendsDashboard/DSPPublisherTrends7D?'\n",
    "}"
   ]
  },
  {
   "cell_type": "code",
   "execution_count": null,
   "metadata": {
    "collapsed": false
   },
   "outputs": [],
   "source": [
    "message['top_n']"
   ]
  },
  {
   "cell_type": "code",
   "execution_count": null,
   "metadata": {
    "collapsed": true
   },
   "outputs": [],
   "source": [
    "test = pd.read_pickle(\"dsp_landingpage_20170522.pkl\")"
   ]
  },
  {
   "cell_type": "code",
   "execution_count": null,
   "metadata": {
    "collapsed": false
   },
   "outputs": [],
   "source": [
    "def test_var_args(farg, *args):\n",
    "    print(\"formal arg:\", farg)\n",
    "    for arg in args:\n",
    "        print(\"another arg:\", arg)\n",
    "\n",
    "test_var_args(1, \"two\", 3)"
   ]
  },
  {
   "cell_type": "code",
   "execution_count": null,
   "metadata": {
    "collapsed": true
   },
   "outputs": [],
   "source": []
  }
 ],
 "metadata": {
  "kernelspec": {
   "display_name": "Python 3",
   "language": "python",
   "name": "python3"
  },
  "language_info": {
   "codemirror_mode": {
    "name": "ipython",
    "version": 3
   },
   "file_extension": ".py",
   "mimetype": "text/x-python",
   "name": "python",
   "nbconvert_exporter": "python",
   "pygments_lexer": "ipython3",
   "version": "3.6.0"
  }
 },
 "nbformat": 4,
 "nbformat_minor": 2
}
