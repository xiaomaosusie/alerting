{
 "cells": [
  {
   "cell_type": "code",
   "execution_count": null,
   "metadata": {
    "collapsed": false,
    "deletable": true,
    "editable": true
   },
   "outputs": [],
   "source": [
    "from IPython.core.display import display, HTML\n",
    "display(HTML(\"<style>.container { width:100% !important; }</style>\"))"
   ]
  },
  {
   "cell_type": "code",
   "execution_count": null,
   "metadata": {
    "collapsed": true
   },
   "outputs": [],
   "source": [
    "import os, sys, datetime, datetime\n",
    "import _pickle as cPickle\n",
    "#import cPickle as pickle\n",
    "\n",
    "import pandas as pd\n",
    "import numpy as np\n",
    "from sqlalchemy import create_engine\n",
    "import functools\n",
    "import json\n",
    " \n",
    "from email_alert import EmailAlert"
   ]
  },
  {
   "cell_type": "code",
   "execution_count": 1,
   "metadata": {
    "collapsed": false,
    "deletable": true,
    "editable": true
   },
   "outputs": [],
   "source": [
    "%run core_new.py"
   ]
  },
  {
   "cell_type": "code",
   "execution_count": 2,
   "metadata": {
    "collapsed": false
   },
   "outputs": [
    {
     "name": "stderr",
     "output_type": "stream",
     "text": [
      "C:\\Users\\ssu\\Documents\\github\\alerting\\core_new.py:156: SettingWithCopyWarning: \n",
      "A value is trying to be set on a copy of a slice from a DataFrame.\n",
      "Try using .loc[row_indexer,col_indexer] = value instead\n",
      "\n",
      "See the caveats in the documentation: http://pandas.pydata.org/pandas-docs/stable/indexing.html#indexing-view-versus-copy\n",
      "  df[col] = np.vectorize(unit_mm)(df[col])\n",
      "C:\\Users\\ssu\\Documents\\github\\alerting\\core_new.py:159: SettingWithCopyWarning: \n",
      "A value is trying to be set on a copy of a slice from a DataFrame.\n",
      "Try using .loc[row_indexer,col_indexer] = value instead\n",
      "\n",
      "See the caveats in the documentation: http://pandas.pydata.org/pandas-docs/stable/indexing.html#indexing-view-versus-copy\n",
      "  df[col] = np.vectorize(currency)(df[col])\n",
      "C:\\Users\\ssu\\Documents\\github\\alerting\\core_new.py:162: SettingWithCopyWarning: \n",
      "A value is trying to be set on a copy of a slice from a DataFrame.\n",
      "Try using .loc[row_indexer,col_indexer] = value instead\n",
      "\n",
      "See the caveats in the documentation: http://pandas.pydata.org/pandas-docs/stable/indexing.html#indexing-view-versus-copy\n",
      "  df[col] = np.vectorize(percent)(df[col])\n",
      "C:\\Users\\ssu\\Documents\\github\\alerting\\core_new.py:191: SettingWithCopyWarning: \n",
      "A value is trying to be set on a copy of a slice from a DataFrame.\n",
      "Try using .loc[row_indexer,col_indexer] = value instead\n",
      "\n",
      "See the caveats in the documentation: http://pandas.pydata.org/pandas-docs/stable/indexing.html#indexing-view-versus-copy\n",
      "  selectedCols_ext[dimension] = \"<a href='\" + message['Tableau_dsp_pub'] + \"dsp=\" + selectedCols_ext['dsp'] + \"&publisher=\" + selectedCols_ext[dimension] + \"' >\" + selectedCols_ext[dimension] + '</a>'\n"
     ]
    }
   ],
   "source": [
    "run_app(query['DSP'], \"dsp_kpi\")"
   ]
  },
  {
   "cell_type": "code",
   "execution_count": 3,
   "metadata": {
    "collapsed": false
   },
   "outputs": [],
   "source": [
    "dsp = load_data(query['DSP'], \"dsp_kpi\")"
   ]
  },
  {
   "cell_type": "code",
   "execution_count": 18,
   "metadata": {
    "collapsed": false
   },
   "outputs": [
    {
     "name": "stderr",
     "output_type": "stream",
     "text": [
      "C:\\Users\\ssu\\Documents\\github\\alerting\\core_new.py:156: SettingWithCopyWarning: \n",
      "A value is trying to be set on a copy of a slice from a DataFrame.\n",
      "Try using .loc[row_indexer,col_indexer] = value instead\n",
      "\n",
      "See the caveats in the documentation: http://pandas.pydata.org/pandas-docs/stable/indexing.html#indexing-view-versus-copy\n",
      "  df[col] = np.vectorize(unit_mm)(df[col])\n",
      "C:\\Users\\ssu\\Documents\\github\\alerting\\core_new.py:159: SettingWithCopyWarning: \n",
      "A value is trying to be set on a copy of a slice from a DataFrame.\n",
      "Try using .loc[row_indexer,col_indexer] = value instead\n",
      "\n",
      "See the caveats in the documentation: http://pandas.pydata.org/pandas-docs/stable/indexing.html#indexing-view-versus-copy\n",
      "  df[col] = np.vectorize(currency)(df[col])\n",
      "C:\\Users\\ssu\\Documents\\github\\alerting\\core_new.py:162: SettingWithCopyWarning: \n",
      "A value is trying to be set on a copy of a slice from a DataFrame.\n",
      "Try using .loc[row_indexer,col_indexer] = value instead\n",
      "\n",
      "See the caveats in the documentation: http://pandas.pydata.org/pandas-docs/stable/indexing.html#indexing-view-versus-copy\n",
      "  df[col] = np.vectorize(percent)(df[col])\n"
     ]
    }
   ],
   "source": [
    "test = run_data(dsp)"
   ]
  },
  {
   "cell_type": "code",
   "execution_count": 19,
   "metadata": {
    "collapsed": false
   },
   "outputs": [
    {
     "data": {
      "text/html": [
       "<div>\n",
       "<table border=\"1\" class=\"dataframe\">\n",
       "  <thead>\n",
       "    <tr style=\"text-align: right;\">\n",
       "      <th></th>\n",
       "      <th>am</th>\n",
       "      <th>email</th>\n",
       "      <th>day</th>\n",
       "      <th>buyerid</th>\n",
       "      <th>offer</th>\n",
       "      <th>offermatchrate</th>\n",
       "      <th>bidrate</th>\n",
       "      <th>timeoutrate</th>\n",
       "      <th>blockrate</th>\n",
       "      <th>winrate</th>\n",
       "      <th>revenue</th>\n",
       "      <th>revcpm</th>\n",
       "      <th>costcpm</th>\n",
       "      <th>margin</th>\n",
       "      <th>offerrate</th>\n",
       "      <th>buyerid</th>\n",
       "      <th>pdbidsofferedtotal</th>\n",
       "      <th>pdoffermatchrate</th>\n",
       "      <th>pdbidrate</th>\n",
       "      <th>pdtimeoutrate</th>\n",
       "      <th>pdblockrate</th>\n",
       "      <th>pdwinrate</th>\n",
       "      <th>pdrevenue</th>\n",
       "      <th>pdrevcpm</th>\n",
       "      <th>pdcostcpm</th>\n",
       "      <th>pdmargin</th>\n",
       "      <th>pdofferrate</th>\n",
       "      <th>buyerid</th>\n",
       "      <th>4davgbidsofferedtotal</th>\n",
       "      <th>4doffermatchrate</th>\n",
       "      <th>4dbidrate</th>\n",
       "      <th>4dtimeoutrate</th>\n",
       "      <th>4dblockrate</th>\n",
       "      <th>4dwinrate</th>\n",
       "      <th>4davgrevenue</th>\n",
       "      <th>4drevcpm</th>\n",
       "      <th>4dcostcpm</th>\n",
       "      <th>4dmargin</th>\n",
       "      <th>4dofferrate</th>\n",
       "      <th>buyerid</th>\n",
       "      <th>7davgbidsofferedtotal</th>\n",
       "      <th>7doffermatchrate</th>\n",
       "      <th>7dbidrate</th>\n",
       "      <th>7dtimeoutrate</th>\n",
       "      <th>7dblockrate</th>\n",
       "      <th>7dwinrate</th>\n",
       "      <th>7davgrevenue</th>\n",
       "      <th>7drevcpm</th>\n",
       "      <th>7dcostcpm</th>\n",
       "      <th>7dmargin</th>\n",
       "      <th>7dofferrate</th>\n",
       "      <th>rev_diff_agst_pd</th>\n",
       "      <th>revenue_change_agst_pd</th>\n",
       "      <th>revenue_change_agst_4davg</th>\n",
       "      <th>revenue_change_agst_7davg</th>\n",
       "      <th>offer_change_agst_pd</th>\n",
       "      <th>offer_change_agst_4davg</th>\n",
       "      <th>offer_change_agst_7davg</th>\n",
       "      <th>offerrate_change_agst_pd</th>\n",
       "      <th>offerrate_change_agst_4davg</th>\n",
       "      <th>offerrate_change_agst_7davg</th>\n",
       "      <th>offermatchrate_change_agst_pd</th>\n",
       "      <th>offermatchrate_change_agst_4davg</th>\n",
       "      <th>offermatchrate_change_agst_7davg</th>\n",
       "      <th>bidrate_change_agst_pd</th>\n",
       "      <th>bidrate_change_agst_4davg</th>\n",
       "      <th>bidrate_change_agst_7davg</th>\n",
       "      <th>blockrate_change_agst_pd</th>\n",
       "      <th>blockrate_change_agst_4davg</th>\n",
       "      <th>blockrate_change_agst_7davg</th>\n",
       "      <th>winrate_change_agst_pd</th>\n",
       "      <th>winrate_change_agst_4davg</th>\n",
       "      <th>winrate_change_agst_7davg</th>\n",
       "      <th>revcpm_change_agst_pd</th>\n",
       "      <th>revcpm_change_agst_4davg</th>\n",
       "      <th>revcpm_change_agst_7davg</th>\n",
       "      <th>costcpm_change_agst_pd</th>\n",
       "      <th>costcpm_change_agst_4davg</th>\n",
       "      <th>costcpm_change_agst_7davg</th>\n",
       "      <th>margin_change_agst_pd</th>\n",
       "      <th>margin_change_agst_4davg</th>\n",
       "      <th>margin_change_agst_7davg</th>\n",
       "      <th>timeoutrate_change_agst_pd</th>\n",
       "      <th>timeoutrate_change_agst_4davg</th>\n",
       "      <th>timeoutrate_change_agst_7davg</th>\n",
       "      <th>weights</th>\n",
       "      <th>weighted_pd_change</th>\n",
       "      <th>weighted_4d_change</th>\n",
       "      <th>weighted_7d_change</th>\n",
       "    </tr>\n",
       "    <tr>\n",
       "      <th>advertiser</th>\n",
       "      <th></th>\n",
       "      <th></th>\n",
       "      <th></th>\n",
       "      <th></th>\n",
       "      <th></th>\n",
       "      <th></th>\n",
       "      <th></th>\n",
       "      <th></th>\n",
       "      <th></th>\n",
       "      <th></th>\n",
       "      <th></th>\n",
       "      <th></th>\n",
       "      <th></th>\n",
       "      <th></th>\n",
       "      <th></th>\n",
       "      <th></th>\n",
       "      <th></th>\n",
       "      <th></th>\n",
       "      <th></th>\n",
       "      <th></th>\n",
       "      <th></th>\n",
       "      <th></th>\n",
       "      <th></th>\n",
       "      <th></th>\n",
       "      <th></th>\n",
       "      <th></th>\n",
       "      <th></th>\n",
       "      <th></th>\n",
       "      <th></th>\n",
       "      <th></th>\n",
       "      <th></th>\n",
       "      <th></th>\n",
       "      <th></th>\n",
       "      <th></th>\n",
       "      <th></th>\n",
       "      <th></th>\n",
       "      <th></th>\n",
       "      <th></th>\n",
       "      <th></th>\n",
       "      <th></th>\n",
       "      <th></th>\n",
       "      <th></th>\n",
       "      <th></th>\n",
       "      <th></th>\n",
       "      <th></th>\n",
       "      <th></th>\n",
       "      <th></th>\n",
       "      <th></th>\n",
       "      <th></th>\n",
       "      <th></th>\n",
       "      <th></th>\n",
       "      <th></th>\n",
       "      <th></th>\n",
       "      <th></th>\n",
       "      <th></th>\n",
       "      <th></th>\n",
       "      <th></th>\n",
       "      <th></th>\n",
       "      <th></th>\n",
       "      <th></th>\n",
       "      <th></th>\n",
       "      <th></th>\n",
       "      <th></th>\n",
       "      <th></th>\n",
       "      <th></th>\n",
       "      <th></th>\n",
       "      <th></th>\n",
       "      <th></th>\n",
       "      <th></th>\n",
       "      <th></th>\n",
       "      <th></th>\n",
       "      <th></th>\n",
       "      <th></th>\n",
       "      <th></th>\n",
       "      <th></th>\n",
       "      <th></th>\n",
       "      <th></th>\n",
       "      <th></th>\n",
       "      <th></th>\n",
       "      <th></th>\n",
       "      <th></th>\n",
       "      <th></th>\n",
       "      <th></th>\n",
       "      <th></th>\n",
       "      <th></th>\n",
       "      <th></th>\n",
       "      <th></th>\n",
       "      <th></th>\n",
       "      <th></th>\n",
       "    </tr>\n",
       "  </thead>\n",
       "  <tbody>\n",
       "    <tr>\n",
       "      <th>RTB-DBM</th>\n",
       "      <td>Ben</td>\n",
       "      <td>bpheloung@pulsepoint.com</td>\n",
       "      <td>2017-05-01</td>\n",
       "      <td>547259</td>\n",
       "      <td>8,852M</td>\n",
       "      <td>43.0%</td>\n",
       "      <td>18.8%</td>\n",
       "      <td>2.7%</td>\n",
       "      <td>4.6%</td>\n",
       "      <td>2.2%</td>\n",
       "      <td>&amp;#36;82,458</td>\n",
       "      <td>&amp;#36;2.27</td>\n",
       "      <td>&amp;#36;1.45</td>\n",
       "      <td>36.2%</td>\n",
       "      <td>48.3%</td>\n",
       "      <td>547259</td>\n",
       "      <td>8,177M</td>\n",
       "      <td>40.0%</td>\n",
       "      <td>19.2%</td>\n",
       "      <td>3.1%</td>\n",
       "      <td>4.0%</td>\n",
       "      <td>2.7%</td>\n",
       "      <td>&amp;#36;101,122</td>\n",
       "      <td>&amp;#36;2.41</td>\n",
       "      <td>&amp;#36;1.51</td>\n",
       "      <td>37.3%</td>\n",
       "      <td>45.4%</td>\n",
       "      <td>547259</td>\n",
       "      <td>7,982M</td>\n",
       "      <td>41.0%</td>\n",
       "      <td>19.5%</td>\n",
       "      <td>3.0%</td>\n",
       "      <td>4.4%</td>\n",
       "      <td>2.6%</td>\n",
       "      <td>&amp;#36;95,839</td>\n",
       "      <td>&amp;#36;2.35</td>\n",
       "      <td>&amp;#36;1.49</td>\n",
       "      <td>36.7%</td>\n",
       "      <td>44.8%</td>\n",
       "      <td>547259</td>\n",
       "      <td>8,015M</td>\n",
       "      <td>42.0%</td>\n",
       "      <td>18.5%</td>\n",
       "      <td>3.8%</td>\n",
       "      <td>4.5%</td>\n",
       "      <td>2.6%</td>\n",
       "      <td>&amp;#36;92,269</td>\n",
       "      <td>&amp;#36;2.4</td>\n",
       "      <td>&amp;#36;1.54</td>\n",
       "      <td>35.7%</td>\n",
       "      <td>45.5%</td>\n",
       "      <td>&amp;#36;-18,664</td>\n",
       "      <td>-18.5%</td>\n",
       "      <td>-14.0%</td>\n",
       "      <td>-10.6%</td>\n",
       "      <td>8.2%</td>\n",
       "      <td>10.9%</td>\n",
       "      <td>10.4%</td>\n",
       "      <td>6.4%</td>\n",
       "      <td>7.8%</td>\n",
       "      <td>6.2%</td>\n",
       "      <td>7.5%</td>\n",
       "      <td>4.9%</td>\n",
       "      <td>2.4%</td>\n",
       "      <td>-2.1%</td>\n",
       "      <td>-3.6%</td>\n",
       "      <td>1.6%</td>\n",
       "      <td>15.0%</td>\n",
       "      <td>4.5%</td>\n",
       "      <td>2.2%</td>\n",
       "      <td>-18.5%</td>\n",
       "      <td>-15.4%</td>\n",
       "      <td>-15.4%</td>\n",
       "      <td>-5.8%</td>\n",
       "      <td>-3.4%</td>\n",
       "      <td>-5.4%</td>\n",
       "      <td>-4.0%</td>\n",
       "      <td>-2.7%</td>\n",
       "      <td>-5.8%</td>\n",
       "      <td>-2.9%</td>\n",
       "      <td>-1.4%</td>\n",
       "      <td>1.4%</td>\n",
       "      <td>-12.9%</td>\n",
       "      <td>-10.0%</td>\n",
       "      <td>-28.9%</td>\n",
       "      <td>2.000000</td>\n",
       "      <td>-37.0%</td>\n",
       "      <td>-28.0%</td>\n",
       "      <td>-21.2%</td>\n",
       "    </tr>\n",
       "    <tr>\n",
       "      <th>RTB-MediaMath</th>\n",
       "      <td>Veena</td>\n",
       "      <td>VXavier@pulsepoint.com</td>\n",
       "      <td>2017-05-01</td>\n",
       "      <td>530739</td>\n",
       "      <td>7,931M</td>\n",
       "      <td>33.0%</td>\n",
       "      <td>32.7%</td>\n",
       "      <td>4.3%</td>\n",
       "      <td>33.6%</td>\n",
       "      <td>0.5%</td>\n",
       "      <td>&amp;#36;23,628</td>\n",
       "      <td>&amp;#36;1.68</td>\n",
       "      <td>&amp;#36;1.12</td>\n",
       "      <td>33.1%</td>\n",
       "      <td>43.3%</td>\n",
       "      <td>530739</td>\n",
       "      <td>7,741M</td>\n",
       "      <td>30.0%</td>\n",
       "      <td>35.5%</td>\n",
       "      <td>2.7%</td>\n",
       "      <td>33.5%</td>\n",
       "      <td>0.6%</td>\n",
       "      <td>&amp;#36;29,883</td>\n",
       "      <td>&amp;#36;1.93</td>\n",
       "      <td>&amp;#36;1.28</td>\n",
       "      <td>33.6%</td>\n",
       "      <td>42.9%</td>\n",
       "      <td>530739</td>\n",
       "      <td>7,538M</td>\n",
       "      <td>30.0%</td>\n",
       "      <td>34.6%</td>\n",
       "      <td>3.2%</td>\n",
       "      <td>34.3%</td>\n",
       "      <td>0.6%</td>\n",
       "      <td>&amp;#36;28,859</td>\n",
       "      <td>&amp;#36;1.85</td>\n",
       "      <td>&amp;#36;1.24</td>\n",
       "      <td>32.9%</td>\n",
       "      <td>42.3%</td>\n",
       "      <td>530739</td>\n",
       "      <td>7,326M</td>\n",
       "      <td>31.0%</td>\n",
       "      <td>34.3%</td>\n",
       "      <td>4.5%</td>\n",
       "      <td>31.9%</td>\n",
       "      <td>0.6%</td>\n",
       "      <td>&amp;#36;27,666</td>\n",
       "      <td>&amp;#36;1.78</td>\n",
       "      <td>&amp;#36;1.19</td>\n",
       "      <td>33.0%</td>\n",
       "      <td>41.6%</td>\n",
       "      <td>&amp;#36;-6,255</td>\n",
       "      <td>-20.9%</td>\n",
       "      <td>-18.1%</td>\n",
       "      <td>-14.6%</td>\n",
       "      <td>2.5%</td>\n",
       "      <td>5.2%</td>\n",
       "      <td>8.3%</td>\n",
       "      <td>0.9%</td>\n",
       "      <td>2.4%</td>\n",
       "      <td>4.1%</td>\n",
       "      <td>10.0%</td>\n",
       "      <td>10.0%</td>\n",
       "      <td>6.5%</td>\n",
       "      <td>-7.9%</td>\n",
       "      <td>-5.5%</td>\n",
       "      <td>-4.7%</td>\n",
       "      <td>0.3%</td>\n",
       "      <td>-2.0%</td>\n",
       "      <td>5.3%</td>\n",
       "      <td>-16.7%</td>\n",
       "      <td>-16.7%</td>\n",
       "      <td>-16.7%</td>\n",
       "      <td>-13.0%</td>\n",
       "      <td>-9.2%</td>\n",
       "      <td>-5.6%</td>\n",
       "      <td>-12.5%</td>\n",
       "      <td>-9.7%</td>\n",
       "      <td>-5.9%</td>\n",
       "      <td>-1.5%</td>\n",
       "      <td>0.6%</td>\n",
       "      <td>0.3%</td>\n",
       "      <td>59.3%</td>\n",
       "      <td>34.4%</td>\n",
       "      <td>-4.4%</td>\n",
       "      <td>1.335137</td>\n",
       "      <td>-27.9%</td>\n",
       "      <td>-24.2%</td>\n",
       "      <td>-19.5%</td>\n",
       "    </tr>\n",
       "    <tr>\n",
       "      <th>RTB-IPonWeb</th>\n",
       "      <td>Veena</td>\n",
       "      <td>VXavier@pulsepoint.com</td>\n",
       "      <td>2017-05-01</td>\n",
       "      <td>556010</td>\n",
       "      <td>5,151M</td>\n",
       "      <td>36.0%</td>\n",
       "      <td>16.0%</td>\n",
       "      <td>4.6%</td>\n",
       "      <td>1.9%</td>\n",
       "      <td>1.6%</td>\n",
       "      <td>&amp;#36;22,104</td>\n",
       "      <td>&amp;#36;1.72</td>\n",
       "      <td>&amp;#36;1.13</td>\n",
       "      <td>34.1%</td>\n",
       "      <td>28.1%</td>\n",
       "      <td>556010</td>\n",
       "      <td>5,775M</td>\n",
       "      <td>29.0%</td>\n",
       "      <td>15.1%</td>\n",
       "      <td>3.9%</td>\n",
       "      <td>1.9%</td>\n",
       "      <td>1.7%</td>\n",
       "      <td>&amp;#36;34,978</td>\n",
       "      <td>&amp;#36;2.36</td>\n",
       "      <td>&amp;#36;1.39</td>\n",
       "      <td>41.1%</td>\n",
       "      <td>32.0%</td>\n",
       "      <td>556010</td>\n",
       "      <td>5,592M</td>\n",
       "      <td>30.0%</td>\n",
       "      <td>15.4%</td>\n",
       "      <td>3.4%</td>\n",
       "      <td>1.9%</td>\n",
       "      <td>1.6%</td>\n",
       "      <td>&amp;#36;30,177</td>\n",
       "      <td>&amp;#36;2.13</td>\n",
       "      <td>&amp;#36;1.33</td>\n",
       "      <td>37.6%</td>\n",
       "      <td>31.4%</td>\n",
       "      <td>556010</td>\n",
       "      <td>5,335M</td>\n",
       "      <td>28.0%</td>\n",
       "      <td>13.9%</td>\n",
       "      <td>3.4%</td>\n",
       "      <td>2.2%</td>\n",
       "      <td>1.6%</td>\n",
       "      <td>&amp;#36;27,299</td>\n",
       "      <td>&amp;#36;2.24</td>\n",
       "      <td>&amp;#36;1.41</td>\n",
       "      <td>37.0%</td>\n",
       "      <td>30.3%</td>\n",
       "      <td>&amp;#36;-12,874</td>\n",
       "      <td>-36.8%</td>\n",
       "      <td>-26.8%</td>\n",
       "      <td>-19.0%</td>\n",
       "      <td>-10.8%</td>\n",
       "      <td>-7.9%</td>\n",
       "      <td>-3.5%</td>\n",
       "      <td>-12.2%</td>\n",
       "      <td>-10.5%</td>\n",
       "      <td>-7.3%</td>\n",
       "      <td>24.1%</td>\n",
       "      <td>20.0%</td>\n",
       "      <td>28.6%</td>\n",
       "      <td>6.0%</td>\n",
       "      <td>3.9%</td>\n",
       "      <td>15.1%</td>\n",
       "      <td>0.0%</td>\n",
       "      <td>0.0%</td>\n",
       "      <td>-13.6%</td>\n",
       "      <td>-5.9%</td>\n",
       "      <td>0.0%</td>\n",
       "      <td>0.0%</td>\n",
       "      <td>-27.1%</td>\n",
       "      <td>-19.2%</td>\n",
       "      <td>-23.2%</td>\n",
       "      <td>-18.7%</td>\n",
       "      <td>-15.0%</td>\n",
       "      <td>-19.9%</td>\n",
       "      <td>-17.0%</td>\n",
       "      <td>-9.3%</td>\n",
       "      <td>-7.8%</td>\n",
       "      <td>17.9%</td>\n",
       "      <td>35.3%</td>\n",
       "      <td>35.3%</td>\n",
       "      <td>1.689777</td>\n",
       "      <td>-62.2%</td>\n",
       "      <td>-45.3%</td>\n",
       "      <td>-32.1%</td>\n",
       "    </tr>\n",
       "    <tr>\n",
       "      <th>RTB-Centro</th>\n",
       "      <td>Veena</td>\n",
       "      <td>VXavier@pulsepoint.com</td>\n",
       "      <td>2017-05-01</td>\n",
       "      <td>543793</td>\n",
       "      <td>3,210M</td>\n",
       "      <td>17.0%</td>\n",
       "      <td>3.8%</td>\n",
       "      <td>3.4%</td>\n",
       "      <td>10.8%</td>\n",
       "      <td>6.5%</td>\n",
       "      <td>&amp;#36;16,445</td>\n",
       "      <td>&amp;#36;2.05</td>\n",
       "      <td>&amp;#36;1.37</td>\n",
       "      <td>33.2%</td>\n",
       "      <td>17.5%</td>\n",
       "      <td>543793</td>\n",
       "      <td>3,208M</td>\n",
       "      <td>15.0%</td>\n",
       "      <td>4.1%</td>\n",
       "      <td>3.2%</td>\n",
       "      <td>10.6%</td>\n",
       "      <td>7.0%</td>\n",
       "      <td>&amp;#36;19,591</td>\n",
       "      <td>&amp;#36;2.12</td>\n",
       "      <td>&amp;#36;1.42</td>\n",
       "      <td>32.8%</td>\n",
       "      <td>17.8%</td>\n",
       "      <td>543793</td>\n",
       "      <td>3,195M</td>\n",
       "      <td>15.0%</td>\n",
       "      <td>3.6%</td>\n",
       "      <td>3.4%</td>\n",
       "      <td>9.9%</td>\n",
       "      <td>7.5%</td>\n",
       "      <td>&amp;#36;18,837</td>\n",
       "      <td>&amp;#36;2.17</td>\n",
       "      <td>&amp;#36;1.45</td>\n",
       "      <td>33.0%</td>\n",
       "      <td>17.9%</td>\n",
       "      <td>543793</td>\n",
       "      <td>3,154M</td>\n",
       "      <td>16.0%</td>\n",
       "      <td>3.4%</td>\n",
       "      <td>3.5%</td>\n",
       "      <td>9.8%</td>\n",
       "      <td>8.1%</td>\n",
       "      <td>&amp;#36;19,663</td>\n",
       "      <td>&amp;#36;2.25</td>\n",
       "      <td>&amp;#36;1.5</td>\n",
       "      <td>33.3%</td>\n",
       "      <td>17.9%</td>\n",
       "      <td>&amp;#36;-3,146</td>\n",
       "      <td>-16.1%</td>\n",
       "      <td>-12.7%</td>\n",
       "      <td>-16.4%</td>\n",
       "      <td>0.1%</td>\n",
       "      <td>0.5%</td>\n",
       "      <td>1.8%</td>\n",
       "      <td>-1.7%</td>\n",
       "      <td>-2.2%</td>\n",
       "      <td>-2.2%</td>\n",
       "      <td>13.3%</td>\n",
       "      <td>13.3%</td>\n",
       "      <td>6.3%</td>\n",
       "      <td>-7.3%</td>\n",
       "      <td>5.6%</td>\n",
       "      <td>11.8%</td>\n",
       "      <td>1.9%</td>\n",
       "      <td>9.1%</td>\n",
       "      <td>10.2%</td>\n",
       "      <td>-7.1%</td>\n",
       "      <td>-13.3%</td>\n",
       "      <td>-19.8%</td>\n",
       "      <td>-3.3%</td>\n",
       "      <td>-5.5%</td>\n",
       "      <td>-8.9%</td>\n",
       "      <td>-3.5%</td>\n",
       "      <td>-5.5%</td>\n",
       "      <td>-8.7%</td>\n",
       "      <td>1.2%</td>\n",
       "      <td>0.6%</td>\n",
       "      <td>-0.3%</td>\n",
       "      <td>6.2%</td>\n",
       "      <td>0.0%</td>\n",
       "      <td>-2.9%</td>\n",
       "      <td>1.168560</td>\n",
       "      <td>-18.8%</td>\n",
       "      <td>-14.8%</td>\n",
       "      <td>-19.2%</td>\n",
       "    </tr>\n",
       "    <tr>\n",
       "      <th>RTB-Conversant</th>\n",
       "      <td>Kurt</td>\n",
       "      <td>KChristensen@pulsepoint.com</td>\n",
       "      <td>2017-05-01</td>\n",
       "      <td>530912</td>\n",
       "      <td>6,440M</td>\n",
       "      <td>52.0%</td>\n",
       "      <td>28.1%</td>\n",
       "      <td>4.3%</td>\n",
       "      <td>4.8%</td>\n",
       "      <td>0.5%</td>\n",
       "      <td>&amp;#36;7,349</td>\n",
       "      <td>&amp;#36;0.87</td>\n",
       "      <td>&amp;#36;0.66</td>\n",
       "      <td>23.6%</td>\n",
       "      <td>35.2%</td>\n",
       "      <td>530912</td>\n",
       "      <td>7,096M</td>\n",
       "      <td>42.0%</td>\n",
       "      <td>27.5%</td>\n",
       "      <td>2.1%</td>\n",
       "      <td>3.8%</td>\n",
       "      <td>0.5%</td>\n",
       "      <td>&amp;#36;10,365</td>\n",
       "      <td>&amp;#36;1.05</td>\n",
       "      <td>&amp;#36;0.81</td>\n",
       "      <td>23.2%</td>\n",
       "      <td>39.4%</td>\n",
       "      <td>530912</td>\n",
       "      <td>6,857M</td>\n",
       "      <td>43.0%</td>\n",
       "      <td>28.5%</td>\n",
       "      <td>2.6%</td>\n",
       "      <td>4.1%</td>\n",
       "      <td>0.4%</td>\n",
       "      <td>&amp;#36;8,125</td>\n",
       "      <td>&amp;#36;0.98</td>\n",
       "      <td>&amp;#36;0.76</td>\n",
       "      <td>21.7%</td>\n",
       "      <td>38.5%</td>\n",
       "      <td>530912</td>\n",
       "      <td>6,896M</td>\n",
       "      <td>43.0%</td>\n",
       "      <td>29.2%</td>\n",
       "      <td>3.3%</td>\n",
       "      <td>4.1%</td>\n",
       "      <td>0.4%</td>\n",
       "      <td>&amp;#36;7,907</td>\n",
       "      <td>&amp;#36;1.02</td>\n",
       "      <td>&amp;#36;0.79</td>\n",
       "      <td>22.9%</td>\n",
       "      <td>39.2%</td>\n",
       "      <td>&amp;#36;-3,016</td>\n",
       "      <td>-29.1%</td>\n",
       "      <td>-9.6%</td>\n",
       "      <td>-7.1%</td>\n",
       "      <td>-9.2%</td>\n",
       "      <td>-6.1%</td>\n",
       "      <td>-6.6%</td>\n",
       "      <td>-10.7%</td>\n",
       "      <td>-8.6%</td>\n",
       "      <td>-10.2%</td>\n",
       "      <td>23.8%</td>\n",
       "      <td>20.9%</td>\n",
       "      <td>20.9%</td>\n",
       "      <td>2.2%</td>\n",
       "      <td>-1.4%</td>\n",
       "      <td>-3.8%</td>\n",
       "      <td>26.3%</td>\n",
       "      <td>17.1%</td>\n",
       "      <td>17.1%</td>\n",
       "      <td>0.0%</td>\n",
       "      <td>25.0%</td>\n",
       "      <td>25.0%</td>\n",
       "      <td>-17.1%</td>\n",
       "      <td>-11.2%</td>\n",
       "      <td>-14.7%</td>\n",
       "      <td>-18.5%</td>\n",
       "      <td>-13.2%</td>\n",
       "      <td>-16.5%</td>\n",
       "      <td>1.7%</td>\n",
       "      <td>8.8%</td>\n",
       "      <td>3.1%</td>\n",
       "      <td>104.8%</td>\n",
       "      <td>65.4%</td>\n",
       "      <td>30.3%</td>\n",
       "      <td>1.161595</td>\n",
       "      <td>-33.8%</td>\n",
       "      <td>-11.2%</td>\n",
       "      <td>-8.2%</td>\n",
       "    </tr>\n",
       "  </tbody>\n",
       "</table>\n",
       "</div>"
      ],
      "text/plain": [
       "                   am                        email         day  buyerid   offer offermatchrate bidrate timeoutrate blockrate winrate      revenue     revcpm    costcpm margin offerrate  buyerid pdbidsofferedtotal pdoffermatchrate pdbidrate pdtimeoutrate pdblockrate pdwinrate     pdrevenue   pdrevcpm  pdcostcpm pdmargin pdofferrate  buyerid 4davgbidsofferedtotal 4doffermatchrate 4dbidrate 4dtimeoutrate 4dblockrate 4dwinrate 4davgrevenue   4drevcpm  4dcostcpm 4dmargin 4dofferrate  buyerid 7davgbidsofferedtotal 7doffermatchrate 7dbidrate 7dtimeoutrate 7dblockrate 7dwinrate 7davgrevenue   7drevcpm  7dcostcpm 7dmargin 7dofferrate rev_diff_agst_pd revenue_change_agst_pd revenue_change_agst_4davg revenue_change_agst_7davg offer_change_agst_pd offer_change_agst_4davg offer_change_agst_7davg offerrate_change_agst_pd offerrate_change_agst_4davg offerrate_change_agst_7davg offermatchrate_change_agst_pd offermatchrate_change_agst_4davg offermatchrate_change_agst_7davg bidrate_change_agst_pd  \\\n",
       "advertiser                                                                                                                                                                                                                                                                                                                                                                                                                                                                                                                                                                                                                                                                                                                                                                                                                                                                                                                                                                                                                          \n",
       "RTB-DBM           Ben     bpheloung@pulsepoint.com  2017-05-01   547259  8,852M          43.0%   18.8%        2.7%      4.6%    2.2%  &#36;82,458  &#36;2.27  &#36;1.45  36.2%     48.3%   547259             8,177M            40.0%     19.2%          3.1%        4.0%      2.7%  &#36;101,122  &#36;2.41  &#36;1.51    37.3%       45.4%   547259                7,982M            41.0%     19.5%          3.0%        4.4%      2.6%  &#36;95,839  &#36;2.35  &#36;1.49    36.7%       44.8%   547259                8,015M            42.0%     18.5%          3.8%        4.5%      2.6%  &#36;92,269   &#36;2.4  &#36;1.54    35.7%       45.5%     &#36;-18,664                 -18.5%                    -14.0%                    -10.6%                 8.2%                   10.9%                   10.4%                     6.4%                        7.8%                        6.2%                          7.5%                             4.9%                             2.4%                  -2.1%   \n",
       "RTB-MediaMath   Veena       VXavier@pulsepoint.com  2017-05-01   530739  7,931M          33.0%   32.7%        4.3%     33.6%    0.5%  &#36;23,628  &#36;1.68  &#36;1.12  33.1%     43.3%   530739             7,741M            30.0%     35.5%          2.7%       33.5%      0.6%   &#36;29,883  &#36;1.93  &#36;1.28    33.6%       42.9%   530739                7,538M            30.0%     34.6%          3.2%       34.3%      0.6%  &#36;28,859  &#36;1.85  &#36;1.24    32.9%       42.3%   530739                7,326M            31.0%     34.3%          4.5%       31.9%      0.6%  &#36;27,666  &#36;1.78  &#36;1.19    33.0%       41.6%      &#36;-6,255                 -20.9%                    -18.1%                    -14.6%                 2.5%                    5.2%                    8.3%                     0.9%                        2.4%                        4.1%                         10.0%                            10.0%                             6.5%                  -7.9%   \n",
       "RTB-IPonWeb     Veena       VXavier@pulsepoint.com  2017-05-01   556010  5,151M          36.0%   16.0%        4.6%      1.9%    1.6%  &#36;22,104  &#36;1.72  &#36;1.13  34.1%     28.1%   556010             5,775M            29.0%     15.1%          3.9%        1.9%      1.7%   &#36;34,978  &#36;2.36  &#36;1.39    41.1%       32.0%   556010                5,592M            30.0%     15.4%          3.4%        1.9%      1.6%  &#36;30,177  &#36;2.13  &#36;1.33    37.6%       31.4%   556010                5,335M            28.0%     13.9%          3.4%        2.2%      1.6%  &#36;27,299  &#36;2.24  &#36;1.41    37.0%       30.3%     &#36;-12,874                 -36.8%                    -26.8%                    -19.0%               -10.8%                   -7.9%                   -3.5%                   -12.2%                      -10.5%                       -7.3%                         24.1%                            20.0%                            28.6%                   6.0%   \n",
       "RTB-Centro      Veena       VXavier@pulsepoint.com  2017-05-01   543793  3,210M          17.0%    3.8%        3.4%     10.8%    6.5%  &#36;16,445  &#36;2.05  &#36;1.37  33.2%     17.5%   543793             3,208M            15.0%      4.1%          3.2%       10.6%      7.0%   &#36;19,591  &#36;2.12  &#36;1.42    32.8%       17.8%   543793                3,195M            15.0%      3.6%          3.4%        9.9%      7.5%  &#36;18,837  &#36;2.17  &#36;1.45    33.0%       17.9%   543793                3,154M            16.0%      3.4%          3.5%        9.8%      8.1%  &#36;19,663  &#36;2.25   &#36;1.5    33.3%       17.9%      &#36;-3,146                 -16.1%                    -12.7%                    -16.4%                 0.1%                    0.5%                    1.8%                    -1.7%                       -2.2%                       -2.2%                         13.3%                            13.3%                             6.3%                  -7.3%   \n",
       "RTB-Conversant   Kurt  KChristensen@pulsepoint.com  2017-05-01   530912  6,440M          52.0%   28.1%        4.3%      4.8%    0.5%   &#36;7,349  &#36;0.87  &#36;0.66  23.6%     35.2%   530912             7,096M            42.0%     27.5%          2.1%        3.8%      0.5%   &#36;10,365  &#36;1.05  &#36;0.81    23.2%       39.4%   530912                6,857M            43.0%     28.5%          2.6%        4.1%      0.4%   &#36;8,125  &#36;0.98  &#36;0.76    21.7%       38.5%   530912                6,896M            43.0%     29.2%          3.3%        4.1%      0.4%   &#36;7,907  &#36;1.02  &#36;0.79    22.9%       39.2%      &#36;-3,016                 -29.1%                     -9.6%                     -7.1%                -9.2%                   -6.1%                   -6.6%                   -10.7%                       -8.6%                      -10.2%                         23.8%                            20.9%                            20.9%                   2.2%   \n",
       "\n",
       "               bidrate_change_agst_4davg bidrate_change_agst_7davg blockrate_change_agst_pd blockrate_change_agst_4davg blockrate_change_agst_7davg winrate_change_agst_pd winrate_change_agst_4davg winrate_change_agst_7davg revcpm_change_agst_pd revcpm_change_agst_4davg revcpm_change_agst_7davg costcpm_change_agst_pd costcpm_change_agst_4davg costcpm_change_agst_7davg margin_change_agst_pd margin_change_agst_4davg margin_change_agst_7davg timeoutrate_change_agst_pd timeoutrate_change_agst_4davg timeoutrate_change_agst_7davg   weights weighted_pd_change weighted_4d_change weighted_7d_change  \n",
       "advertiser                                                                                                                                                                                                                                                                                                                                                                                                                                                                                                                                                                                                           \n",
       "RTB-DBM                            -3.6%                      1.6%                    15.0%                        4.5%                        2.2%                 -18.5%                    -15.4%                    -15.4%                 -5.8%                    -3.4%                    -5.4%                  -4.0%                     -2.7%                     -5.8%                 -2.9%                    -1.4%                     1.4%                     -12.9%                        -10.0%                        -28.9%  2.000000             -37.0%             -28.0%             -21.2%  \n",
       "RTB-MediaMath                      -5.5%                     -4.7%                     0.3%                       -2.0%                        5.3%                 -16.7%                    -16.7%                    -16.7%                -13.0%                    -9.2%                    -5.6%                 -12.5%                     -9.7%                     -5.9%                 -1.5%                     0.6%                     0.3%                      59.3%                         34.4%                         -4.4%  1.335137             -27.9%             -24.2%             -19.5%  \n",
       "RTB-IPonWeb                         3.9%                     15.1%                     0.0%                        0.0%                      -13.6%                  -5.9%                      0.0%                      0.0%                -27.1%                   -19.2%                   -23.2%                 -18.7%                    -15.0%                    -19.9%                -17.0%                    -9.3%                    -7.8%                      17.9%                         35.3%                         35.3%  1.689777             -62.2%             -45.3%             -32.1%  \n",
       "RTB-Centro                          5.6%                     11.8%                     1.9%                        9.1%                       10.2%                  -7.1%                    -13.3%                    -19.8%                 -3.3%                    -5.5%                    -8.9%                  -3.5%                     -5.5%                     -8.7%                  1.2%                     0.6%                    -0.3%                       6.2%                          0.0%                         -2.9%  1.168560             -18.8%             -14.8%             -19.2%  \n",
       "RTB-Conversant                     -1.4%                     -3.8%                    26.3%                       17.1%                       17.1%                   0.0%                     25.0%                     25.0%                -17.1%                   -11.2%                   -14.7%                 -18.5%                    -13.2%                    -16.5%                  1.7%                     8.8%                     3.1%                     104.8%                         65.4%                         30.3%  1.161595             -33.8%             -11.2%              -8.2%  "
      ]
     },
     "execution_count": 19,
     "metadata": {},
     "output_type": "execute_result"
    }
   ],
   "source": [
    "test.head()"
   ]
  },
  {
   "cell_type": "code",
   "execution_count": null,
   "metadata": {
    "collapsed": true
   },
   "outputs": [],
   "source": []
  },
  {
   "cell_type": "code",
   "execution_count": null,
   "metadata": {
    "collapsed": true
   },
   "outputs": [],
   "source": [
    "def get_summary(df):\n",
    "    if df['offer_change_agst_pd']"
   ]
  },
  {
   "cell_type": "code",
   "execution_count": 6,
   "metadata": {
    "collapsed": false
   },
   "outputs": [
    {
     "data": {
      "text/plain": [
       "'547259, 530739, 556010, 543793, 530912, 558220, 548607, 537085, 558189, 553204, 557939, 541254, 535039, 531399, 559959, 558502, 534889, 534890'"
      ]
     },
     "execution_count": 6,
     "metadata": {},
     "output_type": "execute_result"
    }
   ],
   "source": [
    "buyerid = dsp2['buyerid'].T.drop_duplicates().T\n",
    "y = np.array(buyerid['buyerid'])\n",
    "param = ', '.join([str(i) for i in y])\n",
    "param"
   ]
  },
  {
   "cell_type": "code",
   "execution_count": 13,
   "metadata": {
    "collapsed": false
   },
   "outputs": [],
   "source": [
    "acctid_array, accts, headers, value = transform_data(dsp2)"
   ]
  },
  {
   "cell_type": "code",
   "execution_count": null,
   "metadata": {
    "collapsed": true
   },
   "outputs": [],
   "source": []
  },
  {
   "cell_type": "code",
   "execution_count": null,
   "metadata": {
    "collapsed": false
   },
   "outputs": [],
   "source": [
    "dsp_pub = load_data(query['DSP-PUB'], \"dsp_pub\", param, 2)"
   ]
  },
  {
   "cell_type": "code",
   "execution_count": null,
   "metadata": {
    "collapsed": false
   },
   "outputs": [],
   "source": [
    "dsp_pub.head()"
   ]
  },
  {
   "cell_type": "code",
   "execution_count": null,
   "metadata": {
    "collapsed": true
   },
   "outputs": [],
   "source": [
    "dp = dsp_pub.sort_values(by = ['buyerid', 'rev_difference'], ascending = [True, True])"
   ]
  },
  {
   "cell_type": "code",
   "execution_count": null,
   "metadata": {
    "collapsed": false
   },
   "outputs": [],
   "source": [
    "pub = get_topdrop(param, query['DSP-PUB'], 'dsp_pub', 2, 'publisher','rev_difference', 'rev_delta', '* Top drop pubs: ')"
   ]
  },
  {
   "cell_type": "code",
   "execution_count": null,
   "metadata": {
    "collapsed": true
   },
   "outputs": [],
   "source": []
  },
  {
   "cell_type": "code",
   "execution_count": null,
   "metadata": {
    "collapsed": false
   },
   "outputs": [],
   "source": [
    "pubs = get_topdrop(y, dp, 'publisher','rev_difference', 'rev_delta', 'Top drop pubs: ' )\n",
    "pubs"
   ]
  },
  {
   "cell_type": "code",
   "execution_count": null,
   "metadata": {
    "collapsed": false
   },
   "outputs": [],
   "source": [
    "lan = load_data(query['LANDINGPAGE'], \"dsp_landingpage\", param, 1)\n",
    "lan = lan.sort_values(by = ['buyerid', 'difference'], ascending = [True, True])"
   ]
  },
  {
   "cell_type": "code",
   "execution_count": null,
   "metadata": {
    "collapsed": false
   },
   "outputs": [],
   "source": [
    "lan.head()"
   ]
  },
  {
   "cell_type": "code",
   "execution_count": null,
   "metadata": {
    "collapsed": false
   },
   "outputs": [],
   "source": [
    "lans = get_topdrop(y, lan, 'landingpagedomain','difference', 'delta', 'Top drop campaigns: ' )\n",
    "lans"
   ]
  },
  {
   "cell_type": "code",
   "execution_count": null,
   "metadata": {
    "collapsed": true
   },
   "outputs": [],
   "source": [
    "dc = load_data(query['DC'], \"dsp_dc\", param, 1)"
   ]
  },
  {
   "cell_type": "code",
   "execution_count": null,
   "metadata": {
    "collapsed": false
   },
   "outputs": [],
   "source": [
    "dcs = get_topdrop(y, dc, 'dc','difference', 'delta', 'Change by DC: ' )\n",
    "dcs"
   ]
  },
  {
   "cell_type": "code",
   "execution_count": null,
   "metadata": {
    "collapsed": true
   },
   "outputs": [],
   "source": [
    "cn = load_data(query['CHANNEL'], \"dsp_channel\", param, 1)"
   ]
  },
  {
   "cell_type": "code",
   "execution_count": null,
   "metadata": {
    "collapsed": false
   },
   "outputs": [],
   "source": [
    "cns = get_topdrop(y, cn, 'channel','difference', 'delta', 'Change by Channel: ' )\n",
    "cns"
   ]
  },
  {
   "cell_type": "code",
   "execution_count": null,
   "metadata": {
    "collapsed": false
   },
   "outputs": [],
   "source": [
    "def load_data(sql, fname, param=None):\n",
    "    with open(sql) as f:\n",
    "        if param==None:\n",
    "            query = f.read().strip()\n",
    "        else:\n",
    "            query = f.read().strip() % (param, param)\n",
    "    filename = os.path.join(data_directory, \"{}_{}.pkl\".format(fname, datetime.datetime.now().strftime(\"%Y%m%d\")))\n",
    "    if os.path.exists(filename) is False:\n",
    "        df = pd.read_sql(query, create_engine(\"impala://impala.pulse.prod\"))\n",
    "        df.to_pickle(filename)\n",
    "    else:\n",
    "        df = pd.read_pickle(filename)\n",
    "    return df"
   ]
  },
  {
   "cell_type": "code",
   "execution_count": null,
   "metadata": {
    "collapsed": false
   },
   "outputs": [],
   "source": [
    "def cal_supply_demand_relationship(acctid):\n",
    "    acct = dp[dp['buyerid'] == acctid]\n",
    "    a = np.array(acct['rev_delta'])\n",
    "    b = np.array(acct['offer_delta'])\n",
    "    r = np.corrcoef(a,b)[1, 0]\n",
    "    print(r)"
   ]
  },
  {
   "cell_type": "code",
   "execution_count": null,
   "metadata": {
    "collapsed": false
   },
   "outputs": [],
   "source": [
    "for i in y:\n",
    "    print(i)\n",
    "    cal_supply_demand_relationship(i)"
   ]
  },
  {
   "cell_type": "code",
   "execution_count": null,
   "metadata": {
    "collapsed": true
   },
   "outputs": [],
   "source": [
    "\tday = df['day'][0]\n",
    "\taccts = pd.Series(df.index)\n",
    "\theaders = []\n",
    "\tvalue = []\n",
    "\tyesterday_cols = ['revenue' , 'offer' , 'offerrate' , 'offermatchrate' , 'bidrate' , 'blockrate' , 'winrate' , 'revcpm'\n",
    "\t                     , 'costcpm' , 'margin' , 'timeoutrate']\n",
    "\tyesterday = df[yesterday_cols]\n",
    "\tyesterday_T = yesterday.T\n",
    "\tdelta_col = list(df.loc[:, 'revenue_change_agst_pd':'timeoutrate_change_agst_7davg'])\n",
    "\tdelta = df[delta_col]"
   ]
  },
  {
   "cell_type": "code",
   "execution_count": null,
   "metadata": {
    "collapsed": true
   },
   "outputs": [],
   "source": [
    "\tfor acct in accts:\n",
    "\t\tacct_yesterday = yesterday_T[acct]\n",
    "\t\tpday = slice_data('pd', delta, acct)\n",
    "\t\tavg4d = slice_data('4davg', delta, acct) \n",
    "\t\tavg7d = slice_data('7davg', delta, acct) \n",
    "\t\tacct_data = pd.concat([acct_yesterday, pday, avg4d, avg7d], axis = 1, keys=[day, 'change agst prior day', 'change agst 4-day avg', 'change agst 7-day avg'])\n",
    "\t\tacct_data= acct_data.reset_index()\n",
    "\t\tdata = df_json(acct_data)\n",
    "\t\theader = data['columns']\n",
    "\t\tval = data['data']\n",
    "\t\theaders.append(header)\n",
    "\t\tvalue.append(val)"
   ]
  },
  {
   "cell_type": "code",
   "execution_count": null,
   "metadata": {
    "collapsed": false
   },
   "outputs": [],
   "source": [
    "acct_data"
   ]
  },
  {
   "cell_type": "code",
   "execution_count": null,
   "metadata": {
    "collapsed": false
   },
   "outputs": [],
   "source": [
    "acct_data['metric'] = acct_data['metric'].apply(lambda x: x.replace('rate', ' rate'))"
   ]
  },
  {
   "cell_type": "code",
   "execution_count": null,
   "metadata": {
    "collapsed": false
   },
   "outputs": [],
   "source": [
    "acct_data"
   ]
  },
  {
   "cell_type": "code",
   "execution_count": null,
   "metadata": {
    "collapsed": true
   },
   "outputs": [],
   "source": [
    "x = '-hello'"
   ]
  },
  {
   "cell_type": "code",
   "execution_count": null,
   "metadata": {
    "collapsed": false
   },
   "outputs": [],
   "source": [
    "y = x.split(\" \",1)\n",
    "y"
   ]
  },
  {
   "cell_type": "code",
   "execution_count": null,
   "metadata": {
    "collapsed": false
   },
   "outputs": [],
   "source": [
    "message = {\n",
    "    'top_n': 3,\n",
    "    'dsp_pub_Tableau_link': 'http://tableau:8000/#/views/DSPTrendsDashboard/DSPPublisherTrends7D?'\n",
    "}"
   ]
  },
  {
   "cell_type": "code",
   "execution_count": null,
   "metadata": {
    "collapsed": false
   },
   "outputs": [],
   "source": [
    "message['top_n']"
   ]
  },
  {
   "cell_type": "code",
   "execution_count": null,
   "metadata": {
    "collapsed": true
   },
   "outputs": [],
   "source": []
  }
 ],
 "metadata": {
  "kernelspec": {
   "display_name": "Python 3",
   "language": "python",
   "name": "python3"
  },
  "language_info": {
   "codemirror_mode": {
    "name": "ipython",
    "version": 3
   },
   "file_extension": ".py",
   "mimetype": "text/x-python",
   "name": "python",
   "nbconvert_exporter": "python",
   "pygments_lexer": "ipython3",
   "version": "3.6.0"
  }
 },
 "nbformat": 4,
 "nbformat_minor": 2
}
